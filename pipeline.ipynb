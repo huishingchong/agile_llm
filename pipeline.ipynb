{
 "cells": [
  {
   "cell_type": "markdown",
   "metadata": {},
   "source": [
    "# RAG Pipeline"
   ]
  },
  {
   "cell_type": "markdown",
   "metadata": {},
   "source": [
    "## Set up\n",
    "### Import Packages and API keys "
   ]
  },
  {
   "cell_type": "code",
   "execution_count": 1,
   "metadata": {},
   "outputs": [],
   "source": [
    "# !pip install transformers datasets torch langchain-community faiss-cpu sentence-transformers\n",
    "from getpass import getpass\n",
    "from dotenv import load_dotenv\n",
    "import os\n",
    "from pathlib import Path\n",
    "\n",
    "env_path = Path('.') / '.env'\n",
    "load_dotenv(dotenv_path=env_path)\n",
    "\n",
    "huggingface_api_token = os.getenv('HUGGINGFACEHUB_API_TOKEN')\n",
    "\n",
    "if not huggingface_api_token:\n",
    "    huggingface_api_token = getpass(\"Enter your Hugging Face Hub API token: \")"
   ]
  },
  {
   "cell_type": "markdown",
   "metadata": {},
   "source": [
    "### Model selection"
   ]
  },
  {
   "cell_type": "code",
   "execution_count": null,
   "metadata": {},
   "outputs": [],
   "source": [
    "from langchain_community.llms import HuggingFaceHub\n",
    "from transformers import AutoTokenizer, AutoModelForCausalLM\n",
    "\n",
    "# tokenizer = AutoTokenizer.from_pretrained(\"tiiuae/falcon-7b-instruct\")\n",
    "# model = AutoModelForCausalLM.from_pretrained(\"tiiuae/falcon-7b-instruct\")\n",
    "\n",
    "# I will be using T5 model from open source huggingface library\n",
    "# model_name = \"mistralai/Mistral-7B-v0.1\"\n",
    "# model_name = \"mistralai/Mistral-7B-Instruct-v0.1\"\n",
    "\n",
    "model_name = \"tiiuae/falcon-7b-instruct\"\n",
    "# model_name = \"tiiuae/falcon-7b\"\n",
    "\n",
    "llm = HuggingFaceHub(repo_id=model_name, model_kwargs={\"temperature\":0.5, \"max_length\":1024, \"max_new_tokens\":200})"
   ]
  },
  {
   "cell_type": "markdown",
   "metadata": {},
   "source": [
    "## RAG from synthetic data set"
   ]
  },
  {
   "cell_type": "markdown",
   "metadata": {},
   "source": [
    "### Set up embeddings and documents to retrieve from"
   ]
  },
  {
   "cell_type": "code",
   "execution_count": 2,
   "metadata": {},
   "outputs": [
    {
     "name": "stderr",
     "output_type": "stream",
     "text": [
      "/Users/huishingchong/agile_llm/venv/lib/python3.11/site-packages/tqdm/auto.py:21: TqdmWarning: IProgress not found. Please update jupyter and ipywidgets. See https://ipywidgets.readthedocs.io/en/stable/user_install.html\n",
      "  from .autonotebook import tqdm as notebook_tqdm\n",
      "/Users/huishingchong/agile_llm/venv/lib/python3.11/site-packages/torch/_utils.py:831: UserWarning: TypedStorage is deprecated. It will be removed in the future and UntypedStorage will be the only storage class. This should only matter to you if you are using storages directly.  To access UntypedStorage directly, use tensor.untyped_storage() instead of tensor.storage()\n",
      "  return self.fget.__get__(instance, owner)()\n"
     ]
    },
    {
     "name": "stdout",
     "output_type": "stream",
     "text": [
      "Prompt: AI solutions analyst\n",
      "Output: Job Description:\n",
      "As an AI Solutions Analyst, you will play a crucial role in driving organizational transformations for medium- and large-scale businesses by documenting, analyzing, and improving business processes. You will work within projects to map as-is processes to to-be processes, aligning them with the future operating model. Acting as a liaison between clients and project teams, you will coordinate and collaborate with stakeholders during workshops and contribute to the design and support of ongoing solutions post-transition. Additionally, you will collaborate with teammates on the analysis and design of complex business applications using the latest technologies, ensuring successful delivery of business solutions.\n",
      "Responsibilities:\n",
      "Document and analyze as-is processes (functional specs and user stories) and make recommendations for improvement by mapping to-be business processes aligned with the future operating model.\n"
     ]
    }
   ],
   "source": [
    "# Use langchain packages to help with implementing retrieval augmentation generation\n",
    "from datasets import load_dataset\n",
    "from langchain.document_loaders.csv_loader import CSVLoader\n",
    "from langchain_community.embeddings import HuggingFaceEmbeddings\n",
    "from langchain.text_splitter import CharacterTextSplitter, RecursiveCharacterTextSplitter\n",
    "from langchain_community.vectorstores import FAISS\n",
    "from sentence_transformers import SentenceTransformer\n",
    "# from langchain_core.prompts import ChatPromptTemplate\n",
    "# from langchain_core.runnables import RunnablePassthrough\n",
    "# from langchain_core.output_parsers import StrOutputParser\n",
    "\n",
    "# Step 1: Load data for retrieval\n",
    "loader = CSVLoader(file_path=\"rag_sample.csv\")\n",
    "documents = loader.load()  \n",
    "\n",
    "# Step 2: Split Documents\n",
    "text_split = RecursiveCharacterTextSplitter(chunk_size=1000, chunk_overlap=50)\n",
    "# text_split = CharacterTextSplitter(chunk_size=1000, chunk_overlap=0)\n",
    "d = text_split.split_documents(documents)\n",
    "\n",
    "# Step 3: Create a FAISS Index\n",
    "modelPath = \"sentence-transformers/gtr-t5-base\" # Use a t5 sentence transformer model that maps sentences & paragraphs to a 768 dimensional dense vector space\n",
    "model_kwargs = {'device':'cpu'}\n",
    "encode_kwargs = {'normalize_embeddings': True} # Normalizing embeddings can help improve similarity metrics by ensuring that embeddings magnitude does not affect the similarity scores\n",
    "\n",
    "# Initialize an instance of HuggingFaceEmbeddings\n",
    "embeddings = HuggingFaceEmbeddings(\n",
    "    model_name=modelPath,\n",
    "    model_kwargs=model_kwargs,\n",
    "    encode_kwargs=encode_kwargs\n",
    ")\n",
    "\n",
    "db = FAISS.from_documents(d, embedding=embeddings)\n",
    "\n",
    "# just checking\n",
    "r = db.as_retriever()\n",
    "docs = r.get_relevant_documents(\"What skills should an AI solution analyst have?\")\n",
    "print(docs[0].page_content)"
   ]
  },
  {
   "cell_type": "markdown",
   "metadata": {},
   "source": [
    "### Specify model: Falcon"
   ]
  },
  {
   "cell_type": "code",
   "execution_count": 3,
   "metadata": {},
   "outputs": [],
   "source": [
    "from langchain_community.llms import HuggingFaceHub\n",
    "from langchain_community.llms.huggingface_pipeline import HuggingFacePipeline\n",
    "from langchain.chains import RetrievalQA\n",
    "from transformers import AutoTokenizer, AutoModelForCausalLM, pipeline\n",
    "from langchain.prompts import PromptTemplate\n",
    "\n",
    "model_name = \"tiiuae/falcon-7b-instruct\"\n",
    "# model_name = \"tiiuae/falcon-7b\"\n",
    "\n",
    "tokenizer = AutoTokenizer.from_pretrained(model_name)\n",
    "# llm = AutoModelForCausalLM.from_pretrained(model_name, trust_remote_code=True)\n",
    "\n",
    "#Define a text generation pipeline using the model and tokenizer\n",
    "# hf = pipeline(\n",
    "#     \"text-generation\", \n",
    "#     model=model_name, \n",
    "#     tokenizer=tokenizer,\n",
    "#     max_new_tokens = 200,\n",
    "#     temperature = 0.1,\n",
    "#     eos_token_id=tokenizer.eos_token_id,\n",
    "#     do_sample=True\n",
    "# )\n",
    "# llm = HuggingFacePipeline(pipeline=hf)\n",
    "llm = HuggingFaceHub(repo_id=model_name, model_kwargs={\"temperature\":0.5, \"max_length\":1024, \"max_new_tokens\":200})\n",
    "# https://medium.com/international-school-of-ai-data-science/implementing-rag-with-langchain-and-hugging-face-28e3ea66c5f7\n",
    "\n",
    "# TO DELETE CACHE: huggingface-cli delete-cache"
   ]
  },
  {
   "cell_type": "markdown",
   "metadata": {},
   "source": [
    "RetrievalQA"
   ]
  },
  {
   "cell_type": "code",
   "execution_count": 25,
   "metadata": {},
   "outputs": [],
   "source": [
    "from langchain.prompts import PromptTemplate\n",
    "\n",
    "template = \"\"\"Use the following pieces of context to answer the question at the end. If you don't know the answer, just say that you don't know, don't try to make up an answer.\n",
    "Answer professionally, to the best of your ability, and where appropriate, in a Computer Science educational context.\n",
    "Use the context and be specific as you can.\n",
    "Context: {context}\n",
    "Question: {question}\n",
    "Helpful Answer:\"\"\"\n",
    "\n",
    "QA_CHAIN_PROMPT = PromptTemplate(template=template, input_variables=[\"context\", \"question\"])"
   ]
  },
  {
   "cell_type": "code",
   "execution_count": 27,
   "metadata": {},
   "outputs": [
    {
     "name": "stdout",
     "output_type": "stream",
     "text": [
      "\n",
      "\n",
      "\u001b[1m> Entering new RetrievalQA chain...\u001b[0m\n",
      "\n",
      "\u001b[1m> Finished chain.\u001b[0m\n",
      "ANSWER None\n",
      "[Document(page_content='Prompt: AI solutions analyst\\nOutput: Job Description:\\nAs an AI Solutions Analyst, you will play a crucial role in driving organizational transformations for medium- and large-scale businesses by documenting, analyzing, and improving business processes. You will work within projects to map as-is processes to to-be processes, aligning them with the future operating model. Acting as a liaison between clients and project teams, you will coordinate and collaborate with stakeholders during workshops and contribute to the design and support of ongoing solutions post-transition. Additionally, you will collaborate with teammates on the analysis and design of complex business applications using the latest technologies, ensuring successful delivery of business solutions.\\nResponsibilities:\\nDocument and analyze as-is processes (functional specs and user stories) and make recommendations for improvement by mapping to-be business processes aligned with the future operating model.', metadata={'source': 'rag_sample.csv', 'row': 11}), Document(page_content='Output: Job Description:\\nWe are seeking a talented Data & AI Solution Architect to join our team. In this role, you will work closely with delivery teams and client stakeholders to provide technical leadership, drive architectural decisions, shape deals and propositions, create plans and roadmaps, and produce design artifacts. You will assist clients in their journey to Microsoft Azure or leverage their existing investment in it, with a significant focus on applying cloud architectural patterns and migration strategies. As a senior member of our technical community, you will provide coaching and mentoring to motivate and inspire more junior colleagues. Additionally, you will engage in early conversations with clients and sales teams, support origination and deal qualification, and become a trusted advisor throughout the sales process. Collaborating with other Solution Architects and SMEs, you will define solutions, drive them from conception to close, and articulate deal pricing.', metadata={'source': 'rag_sample.csv', 'row': 4}), Document(page_content='Ability to conduct and coordinate risk assessments to identify vulnerabilities and develop mitigation strategies.\\nStrong communication and stakeholder management skills, with the ability to engage with C-Suite stakeholders effectively.', metadata={'source': 'rag_sample.csv', 'row': 5}), Document(page_content='Work within projects driving organizational transformations for medium- and large-scale businesses.\\nLiaise between the client and a team consisting of SMEs, C-suite executives, Experience Designers, Product Managers, Consultant Developers, and QA.\\nCoordinate and collaborate with all project stakeholders during workshops.\\nCollaborate with teammates on the analysis and design of complex business applications using the latest technologies.\\nCreate and review test cases, coordinate with business stakeholders and end-users for user acceptance.\\nContribute to the design of ongoing solutions and provide user support required after transition.\\nWork across multiple projects or smaller pieces of work to support the AI function when workflow is lighter.\\nSkills and Qualifications Required:\\nMaster’s/Bachelor’s degree in Engineering (Computer Science).\\nProven track record of working with various geographically dispersed technical teams to deliver requirements and provide solutions.', metadata={'source': 'rag_sample.csv', 'row': 11})]\n",
      "AI solution analysts should have:\n",
      "\n",
      "1. Strong technical and problem-solving skills.\n",
      "2. Excellent communication and stakeholder management skills.\n",
      "3. A solid understanding of database design and development.\n",
      "4. Knowledge of programming languages, such as Python or C#.\n",
      "5. Ability to work in a fast-paced, dynamic environment.\n",
      "6. Understanding of data analysis and visualization tools.\n",
      "7. Knowledge of cloud architecture, such as Azure, AWS, and Google Cloud.\n",
      "8. Experience in business process mapping and analysis.\n",
      "9. Knowledge of data governance and data quality principles.\n",
      "10. Understanding of data integration and data migration techniques.\n",
      "11. Knowledge of artificial intelligence and machine learning concepts.\n",
      "12. Experience in developing and deploying machine learning models.\n",
      "13. Knowledge of data analytics and data warehousing concepts.\n",
      "14. Experience in developing and deploying data visualization tools.\n",
      "15. Understanding of data governance and data quality principles.\n",
      "16. Knowledge\n"
     ]
    },
    {
     "name": "stdout",
     "output_type": "stream",
     "text": [
      "\n",
      "\n",
      "\u001b[1m> Entering new RetrievalQA chain...\u001b[0m\n",
      "\n",
      "\u001b[1m> Finished chain.\u001b[0m\n",
      "{'query': 'What analysis libraries should a data scientist know to use', 'result': 'Use the following pieces of context to answer the question at the end. If you don\\'t know the answer, just say that you don\\'t know, don\\'t try to make up an answer.\\nAnswer professionally, to the best of your ability, and where appropriate, in a Computer Science educational context.\\nUse the context and be specific as you can.\\nContext: Prompt: Data Scientist\\nOutput: Job Title: Data Scientist\\n\\nJob Description:\\nWe are seeking a talented Data Scientist to join our team. The ideal candidate will be responsible for designing, implementing, and deploying data-driven solutions to extract insights from large datasets. You will work closely with cross-functional teams to identify business opportunities and provide actionable recommendations. The role involves conducting statistical analysis, developing machine learning models, and creating data visualizations to communicate findings effectively.\\n\\nResponsibilities:\\n- Clean, preprocess, and analyze large datasets to uncover trends and patterns.\\n- Develop predictive models and algorithms to solve business problems.\\n- Collaborate with stakeholders to define project objectives and deliverables.\\n- Present findings and recommendations to technical and non-technical audiences.\\n- Stay updated with the latest advancements in data science techniques and tools.\\n\\nSkills and Qualifications:\\n- Proficiency in programming languages such as Python, R, or Scala.\\n- Strong understanding of statistical methods and machine learning techniques.\\n- Experience with data manipulation and analysis libraries (e.g., pandas, NumPy, scikit-learn).\\n- Familiarity with big data technologies (e.g., Hadoop, Spark) is a plus.\\n- Excellent communication and collaboration skills.\\n- Ability to work in a fast-paced, dynamic environment and manage multiple projects simultaneously.\\n- Advanced degree in Computer Science, Statistics, Mathematics, or related field preferred.\\n\\nExperience working with stakeholders to create technical visions, high-level architectures, and delivery roadmaps for large programs of work involving platforming/re-platforming Data Solutions within Azure cloud, utilizing tools such as Databricks and Synapse.\\nCapability in creating design artifacts and presenting them for approval at architectural forums attended by multi-disciplined stakeholders from engineering to senior (\"C level\") client executives.\\nExperience in designing and delivering large-scale Data solutions using relevant approaches (Lakehouse, Data Mesh, Cloud Scale Analytics, etc.).\\nIdentifying and designing for key architectural characteristics such as performance, security, and reliability.\\n\\nUtilize programming skills and engineering expertise to implement new ideas and improve project methodologies.\\nApply Lean/Agile methodologies and SDLC principles to project activities.\\nUse CI/CD pipelines to ensure quality and scalability of software solutions.\\nDocument processes, standardize procedures, and employ effective testing techniques.\\nInteract with colleagues, customers, and stakeholders, demonstrating effective communication and interpersonal skills.\\nSkills and Qualifications:\\nBachelor\\'s degree in Software Engineering, Computer Science, IT, Electronics and Electrical Engineering, or similar.\\nFamiliarity with Unix/Linux/Windows environments.\\nExperience programming in Python, Java, or JavaScript.\\nUnderstanding of Object-Oriented Programming (OOP) concepts.\\nKnowledge of GeoSpatial solutions and databases (SQL, Oracle).\\nUnderstanding of DevOps tools like GitHub, Jenkins, Docker, Ansible, Kubernetes, etc.\\nFamiliarity with Agile Methodology.\\nQuestion: What analysis libraries should a data scientist know to use\\nHelpful Answer:\\nThe data scientist should be familiar with libraries such as pandas, NumPy, scikit-learn, and Apache Spark for data manipulation and analysis.', 'source_documents': [Document(page_content='Prompt: Data Scientist\\nOutput: Job Title: Data Scientist\\n\\nJob Description:\\nWe are seeking a talented Data Scientist to join our team. The ideal candidate will be responsible for designing, implementing, and deploying data-driven solutions to extract insights from large datasets. You will work closely with cross-functional teams to identify business opportunities and provide actionable recommendations. The role involves conducting statistical analysis, developing machine learning models, and creating data visualizations to communicate findings effectively.\\n\\nResponsibilities:\\n- Clean, preprocess, and analyze large datasets to uncover trends and patterns.\\n- Develop predictive models and algorithms to solve business problems.\\n- Collaborate with stakeholders to define project objectives and deliverables.\\n- Present findings and recommendations to technical and non-technical audiences.\\n- Stay updated with the latest advancements in data science techniques and tools.', metadata={'source': 'rag_sample.csv', 'row': 0}), Document(page_content='Skills and Qualifications:\\n- Proficiency in programming languages such as Python, R, or Scala.\\n- Strong understanding of statistical methods and machine learning techniques.\\n- Experience with data manipulation and analysis libraries (e.g., pandas, NumPy, scikit-learn).\\n- Familiarity with big data technologies (e.g., Hadoop, Spark) is a plus.\\n- Excellent communication and collaboration skills.\\n- Ability to work in a fast-paced, dynamic environment and manage multiple projects simultaneously.\\n- Advanced degree in Computer Science, Statistics, Mathematics, or related field preferred.', metadata={'source': 'rag_sample.csv', 'row': 0}), Document(page_content='Experience working with stakeholders to create technical visions, high-level architectures, and delivery roadmaps for large programs of work involving platforming/re-platforming Data Solutions within Azure cloud, utilizing tools such as Databricks and Synapse.\\nCapability in creating design artifacts and presenting them for approval at architectural forums attended by multi-disciplined stakeholders from engineering to senior (\"C level\") client executives.\\nExperience in designing and delivering large-scale Data solutions using relevant approaches (Lakehouse, Data Mesh, Cloud Scale Analytics, etc.).\\nIdentifying and designing for key architectural characteristics such as performance, security, and reliability.', metadata={'source': 'rag_sample.csv', 'row': 4}), Document(page_content=\"Utilize programming skills and engineering expertise to implement new ideas and improve project methodologies.\\nApply Lean/Agile methodologies and SDLC principles to project activities.\\nUse CI/CD pipelines to ensure quality and scalability of software solutions.\\nDocument processes, standardize procedures, and employ effective testing techniques.\\nInteract with colleagues, customers, and stakeholders, demonstrating effective communication and interpersonal skills.\\nSkills and Qualifications:\\nBachelor's degree in Software Engineering, Computer Science, IT, Electronics and Electrical Engineering, or similar.\\nFamiliarity with Unix/Linux/Windows environments.\\nExperience programming in Python, Java, or JavaScript.\\nUnderstanding of Object-Oriented Programming (OOP) concepts.\\nKnowledge of GeoSpatial solutions and databases (SQL, Oracle).\\nUnderstanding of DevOps tools like GitHub, Jenkins, Docker, Ansible, Kubernetes, etc.\\nFamiliarity with Agile Methodology.\", metadata={'source': 'rag_sample.csv', 'row': 3})]}\n",
      "\n",
      "\n",
      "\u001b[1m> Entering new StuffDocumentsChain chain...\u001b[0m\n",
      "\n",
      "\n",
      "\u001b[1m> Entering new LLMChain chain...\u001b[0m\n",
      "Prompt after formatting:\n",
      "\u001b[32;1m\u001b[1;3mUse the following pieces of context to answer the question at the end. If you don't know the answer, just say that you don't know, don't try to make up an answer.\n",
      "\n",
      "Prompt: Data Scientist\n",
      "Output: Job Title: Data Scientist\n",
      "\n",
      "Job Description:\n",
      "We are seeking a talented Data Scientist to join our team. The ideal candidate will be responsible for designing, implementing, and deploying data-driven solutions to extract insights from large datasets. You will work closely with cross-functional teams to identify business opportunities and provide actionable recommendations. The role involves conducting statistical analysis, developing machine learning models, and creating data visualizations to communicate findings effectively.\n",
      "\n",
      "Responsibilities:\n",
      "- Clean, preprocess, and analyze large datasets to uncover trends and patterns.\n",
      "- Develop predictive models and algorithms to solve business problems.\n",
      "- Collaborate with stakeholders to define project objectives and deliverables.\n",
      "- Present findings and recommendations to technical and non-technical audiences.\n",
      "- Stay updated with the latest advancements in data science techniques and tools.\n",
      "\n",
      "Skills and Qualifications:\n",
      "- Proficiency in programming languages such as Python, R, or Scala.\n",
      "- Strong understanding of statistical methods and machine learning techniques.\n",
      "- Experience with data manipulation and analysis libraries (e.g., pandas, NumPy, scikit-learn).\n",
      "- Familiarity with big data technologies (e.g., Hadoop, Spark) is a plus.\n",
      "- Excellent communication and collaboration skills.\n",
      "- Ability to work in a fast-paced, dynamic environment and manage multiple projects simultaneously.\n",
      "- Advanced degree in Computer Science, Statistics, Mathematics, or related field preferred.\n",
      "\n",
      "Experience working with stakeholders to create technical visions, high-level architectures, and delivery roadmaps for large programs of work involving platforming/re-platforming Data Solutions within Azure cloud, utilizing tools such as Databricks and Synapse.\n",
      "Capability in creating design artifacts and presenting them for approval at architectural forums attended by multi-disciplined stakeholders from engineering to senior (\"C level\") client executives.\n",
      "Experience in designing and delivering large-scale Data solutions using relevant approaches (Lakehouse, Data Mesh, Cloud Scale Analytics, etc.).\n",
      "Identifying and designing for key architectural characteristics such as performance, security, and reliability.\n",
      "\n",
      "Utilize programming skills and engineering expertise to implement new ideas and improve project methodologies.\n",
      "Apply Lean/Agile methodologies and SDLC principles to project activities.\n",
      "Use CI/CD pipelines to ensure quality and scalability of software solutions.\n",
      "Document processes, standardize procedures, and employ effective testing techniques.\n",
      "Interact with colleagues, customers, and stakeholders, demonstrating effective communication and interpersonal skills.\n",
      "Skills and Qualifications:\n",
      "Bachelor's degree in Software Engineering, Computer Science, IT, Electronics and Electrical Engineering, or similar.\n",
      "Familiarity with Unix/Linux/Windows environments.\n",
      "Experience programming in Python, Java, or JavaScript.\n",
      "Understanding of Object-Oriented Programming (OOP) concepts.\n",
      "Knowledge of GeoSpatial solutions and databases (SQL, Oracle).\n",
      "Understanding of DevOps tools like GitHub, Jenkins, Docker, Ansible, Kubernetes, etc.\n",
      "Familiarity with Agile Methodology.\n",
      "\n",
      "Question: What analysis libraries should a data scientist know to use?\n",
      "Helpful Answer:\u001b[0m\n",
      "\n",
      "\u001b[1m> Finished chain.\u001b[0m\n",
      "\n",
      "\u001b[1m> Finished chain.\u001b[0m\n",
      "{'output_text': 'Use the following pieces of context to answer the question at the end. If you don\\'t know the answer, just say that you don\\'t know, don\\'t try to make up an answer.\\n\\nPrompt: Data Scientist\\nOutput: Job Title: Data Scientist\\n\\nJob Description:\\nWe are seeking a talented Data Scientist to join our team. The ideal candidate will be responsible for designing, implementing, and deploying data-driven solutions to extract insights from large datasets. You will work closely with cross-functional teams to identify business opportunities and provide actionable recommendations. The role involves conducting statistical analysis, developing machine learning models, and creating data visualizations to communicate findings effectively.\\n\\nResponsibilities:\\n- Clean, preprocess, and analyze large datasets to uncover trends and patterns.\\n- Develop predictive models and algorithms to solve business problems.\\n- Collaborate with stakeholders to define project objectives and deliverables.\\n- Present findings and recommendations to technical and non-technical audiences.\\n- Stay updated with the latest advancements in data science techniques and tools.\\n\\nSkills and Qualifications:\\n- Proficiency in programming languages such as Python, R, or Scala.\\n- Strong understanding of statistical methods and machine learning techniques.\\n- Experience with data manipulation and analysis libraries (e.g., pandas, NumPy, scikit-learn).\\n- Familiarity with big data technologies (e.g., Hadoop, Spark) is a plus.\\n- Excellent communication and collaboration skills.\\n- Ability to work in a fast-paced, dynamic environment and manage multiple projects simultaneously.\\n- Advanced degree in Computer Science, Statistics, Mathematics, or related field preferred.\\n\\nExperience working with stakeholders to create technical visions, high-level architectures, and delivery roadmaps for large programs of work involving platforming/re-platforming Data Solutions within Azure cloud, utilizing tools such as Databricks and Synapse.\\nCapability in creating design artifacts and presenting them for approval at architectural forums attended by multi-disciplined stakeholders from engineering to senior (\"C level\") client executives.\\nExperience in designing and delivering large-scale Data solutions using relevant approaches (Lakehouse, Data Mesh, Cloud Scale Analytics, etc.).\\nIdentifying and designing for key architectural characteristics such as performance, security, and reliability.\\n\\nUtilize programming skills and engineering expertise to implement new ideas and improve project methodologies.\\nApply Lean/Agile methodologies and SDLC principles to project activities.\\nUse CI/CD pipelines to ensure quality and scalability of software solutions.\\nDocument processes, standardize procedures, and employ effective testing techniques.\\nInteract with colleagues, customers, and stakeholders, demonstrating effective communication and interpersonal skills.\\nSkills and Qualifications:\\nBachelor\\'s degree in Software Engineering, Computer Science, IT, Electronics and Electrical Engineering, or similar.\\nFamiliarity with Unix/Linux/Windows environments.\\nExperience programming in Python, Java, or JavaScript.\\nUnderstanding of Object-Oriented Programming (OOP) concepts.\\nKnowledge of GeoSpatial solutions and databases (SQL, Oracle).\\nUnderstanding of DevOps tools like GitHub, Jenkins, Docker, Ansible, Kubernetes, etc.\\nFamiliarity with Agile Methodology.\\n\\nQuestion: What analysis libraries should a data scientist know to use?\\nHelpful Answer:\\nAs an AI language model, I do not have personal experience, but here are some commonly used analysis libraries by data scientists:\\n- Pandas: a popular Python library for data manipulation, analysis, and visualization.\\n- NumPy: a Python library for numerical computing with large, multi-dimensional arrays and matrices.\\n- Matplotlib: a Python library for creating visualizations and graphs.\\n- scikit-learn: a Python library for machine learning and statistical analysis.\\n- Jupyter notebooks: a Python library for running machine learning experiments and creating interactive visualizations.\\n- Apache Spark: a Java library for large-scale data processing and machine learning.\\n- Apache Kafka: a Java library for streaming data to and from a cluster.\\n- Apache NiFi: a Java library for processing, transforming, and enriching data.\\n- Apache Hive: a Java library for querying and analyzing large datasets.\\n- Apache Drill: a Java library for executing'}\n"
     ]
    }
   ],
   "source": [
    "from langchain.chains import RetrievalQA, RetrievalQAWithSourcesChain\n",
    "# retriever = db.as_retriever(search_kwargs={\"k\": 2})\n",
    "retriever = db.as_retriever()\n",
    "qa = RetrievalQA.from_chain_type(llm=llm, retriever=retriever, return_source_documents=True, chain_type_kwargs={\"prompt\": QA_CHAIN_PROMPT}, verbose=True)\n",
    "# qa = RetrievalQAWithSourcesChain.from_chain_type(llm=llm, chain_type=\"refine\", retriever=retriever, return_source_documents=False)\n",
    "question = \"What skills should an AI solution analyst have?\"\n",
    "result = qa.invoke({\"query\": question})\n",
    "print(result.get(\"source_documents\", []))\n",
    "print(result[\"result\"].split('\\nHelpful Answer:')[1].strip())\n",
    "\n",
    "# Need to be on all the documents?\n"
   ]
  },
  {
   "cell_type": "code",
   "execution_count": 20,
   "metadata": {},
   "outputs": [
    {
     "name": "stdout",
     "output_type": "stream",
     "text": [
      "Running on local URL:  http://127.0.0.1:7872\n",
      "\n",
      "To create a public link, set `share=True` in `launch()`.\n"
     ]
    },
    {
     "data": {
      "text/html": [
       "<div><iframe src=\"http://127.0.0.1:7872/\" width=\"100%\" height=\"500\" allow=\"autoplay; camera; microphone; clipboard-read; clipboard-write;\" frameborder=\"0\" allowfullscreen></iframe></div>"
      ],
      "text/plain": [
       "<IPython.core.display.HTML object>"
      ]
     },
     "metadata": {},
     "output_type": "display_data"
    },
    {
     "data": {
      "text/plain": []
     },
     "execution_count": 20,
     "metadata": {},
     "output_type": "execute_result"
    },
    {
     "name": "stdout",
     "output_type": "stream",
     "text": [
      "\n",
      "\n",
      "\u001b[1m> Entering new RetrievalQA chain...\u001b[0m\n",
      "\n",
      "\u001b[1m> Finished chain.\u001b[0m\n",
      "{'query': 'What are responsibilities of an Internal Audit?', 'result': \"Use the following pieces of context to answer the question at the end. If you don't know the answer, just say that you don't know, don't try to make up an answer.\\nAnswer professionally, to the best of your ability, and where appropriate, in a Computer Science educational context.\\nUse the context and be specific as you can.\\nContext: Prompt: Internal Audit\\nOutput: As the third line of defence, Internal Audit's mission is to independently assess the firm's internal control structure, including the firm's governance processes and controls, and risk management and capital and anti-financial crime frameworks, raise awareness of control risk and monitor the implementation of management's control measures.\\n\\nResponsibilities:\\n- Monitor security alerts and logs to identify potential threats and vulnerabilities.\\n- Investigate security incidents, analyze attack vectors, and recommend remediation measures.\\n- Conduct vulnerability assessments and penetration tests to identify weaknesses in systems and networks.\\n- Develop and maintain security policies, procedures, and documentation.\\n- Collaborate with IT teams to implement security solutions and best practices.\\n- Stay updated with the latest cybersecurity threats, trends, and technologies.\\n\\nResponsibilities\\nCommunicates and reports on the effectiveness of the firm's governance, risk management and controls that mitigate current and evolving risk\\nRaise awareness of control risk\\nAssesses the firm's control culture and conduct risks\\nMonitors management's implementation of control measures\\nPerforming regular risk assessments for the area of coverage \\nRegularly meeting the business/engineering stakeholders and building strong relationships with management \\nContinuously monitoring business and technology developments \\nMonitoring regulatory requirements and developments, as well as industry standards \\nPerforming and leading audit work, including defining the scope of risks and controls assessment of controls design and effectiveness, reviewing audit work and reporting findings to internal and external management \\nValidating the closure of management action points \\nManaging, coaching and developing team members \\nSkills And Qualifications:\\n\\nAbility to work effectively across a large audit team, understanding the team's role in the overall strategy of the firm. \\nWritten and verbal communication skills a must; strong interpersonal skills essential. Job requires frequent interaction with technology management. \\nMust be able to multitask while managing both time and workload. \\nMust be highly motivated with strong analytical skills, willing and able to learn new business and system processes quickly.\\nQuestion: What are responsibilities of an Internal Audit?\\nHelpful Answer:\\nThe responsibilities of an Internal Audit may include:\\n- Monitoring security alerts and logs to identify potential threats and vulnerabilities\\n- Investigating security incidents, analyzing attack vectors, and recommending remediation measures\\n- Conducting vulnerability assessments and penetration tests to identify weaknesses in systems and networks\\n- Developing and maintaining security policies, procedures, and documentation\\n- Collaborating with IT teams to implement security solutions and best practices\\n- Staying updated with the latest cybersecurity threats, trends, and technologies\\n- Communicating and reporting on the effectiveness of the firm's governance, risk management, and controls that mitigate current and evolving risk.\", 'source_documents': [Document(page_content=\"Prompt: Internal Audit\\nOutput: As the third line of defence, Internal Audit's mission is to independently assess the firm's internal control structure, including the firm's governance processes and controls, and risk management and capital and anti-financial crime frameworks, raise awareness of control risk and monitor the implementation of management's control measures.\", metadata={'source': 'rag_sample.csv', 'row': 6}), Document(page_content='Responsibilities:\\n- Monitor security alerts and logs to identify potential threats and vulnerabilities.\\n- Investigate security incidents, analyze attack vectors, and recommend remediation measures.\\n- Conduct vulnerability assessments and penetration tests to identify weaknesses in systems and networks.\\n- Develop and maintain security policies, procedures, and documentation.\\n- Collaborate with IT teams to implement security solutions and best practices.\\n- Stay updated with the latest cybersecurity threats, trends, and technologies.', metadata={'source': 'rag_sample.csv', 'row': 2}), Document(page_content=\"Responsibilities\\nCommunicates and reports on the effectiveness of the firm's governance, risk management and controls that mitigate current and evolving risk\\nRaise awareness of control risk\\nAssesses the firm's control culture and conduct risks\\nMonitors management's implementation of control measures\\nPerforming regular risk assessments for the area of coverage \\nRegularly meeting the business/engineering stakeholders and building strong relationships with management \\nContinuously monitoring business and technology developments \\nMonitoring regulatory requirements and developments, as well as industry standards \\nPerforming and leading audit work, including defining the scope of risks and controls assessment of controls design and effectiveness, reviewing audit work and reporting findings to internal and external management \\nValidating the closure of management action points \\nManaging, coaching and developing team members \\nSkills And Qualifications:\", metadata={'source': 'rag_sample.csv', 'row': 6}), Document(page_content=\"Ability to work effectively across a large audit team, understanding the team's role in the overall strategy of the firm. \\nWritten and verbal communication skills a must; strong interpersonal skills essential. Job requires frequent interaction with technology management. \\nMust be able to multitask while managing both time and workload. \\nMust be highly motivated with strong analytical skills, willing and able to learn new business and system processes quickly.\", metadata={'source': 'rag_sample.csv', 'row': 6})]}\n",
      "\n",
      "\n",
      "\u001b[1m> Entering new RetrievalQA chain...\u001b[0m\n",
      "\n",
      "\u001b[1m> Finished chain.\u001b[0m\n",
      "{'query': 'What are qualifications required for an Internal Audit', 'result': \"Use the following pieces of context to answer the question at the end. If you don't know the answer, just say that you don't know, don't try to make up an answer.\\nAnswer professionally, to the best of your ability, and where appropriate, in a Computer Science educational context.\\nUse the context and be specific as you can.\\nContext: Prompt: Internal Audit\\nOutput: As the third line of defence, Internal Audit's mission is to independently assess the firm's internal control structure, including the firm's governance processes and controls, and risk management and capital and anti-financial crime frameworks, raise awareness of control risk and monitor the implementation of management's control measures.\\n\\nSkills and Qualifications:\\n- Knowledge of cybersecurity principles, practices, and frameworks (e.g., NIST, ISO 27001).\\n- Experience with security tools such as SIEM, IDS/IPS, antivirus, and vulnerability scanners.\\n- Strong understanding of networking protocols, operating systems, and cloud environments.\\n- Proficiency in scripting or programming languages (e.g., Python, PowerShell) for automation.\\n- Excellent communication and teamwork skills.\\n- Relevant certifications such as CISSP, CEH, or CompTIA Security+ are a plus.\\n- Bachelor's degree in Computer Science, Information Security, or related field.\\n\\nSkills and qualifications requirements:\\nBachelor’s degree in computer science, information technology or a related field\\nProven experience with C#, JavaScript, Selenium and Playwright\\nExcellent problem solving and analytical skills\\nKnowledge and experience in the following would be desirable: CI/CD, Non-functional automated testing, Page object model and API mocking.\\n\\nAbility to work effectively across a large audit team, understanding the team's role in the overall strategy of the firm. \\nWritten and verbal communication skills a must; strong interpersonal skills essential. Job requires frequent interaction with technology management. \\nMust be able to multitask while managing both time and workload. \\nMust be highly motivated with strong analytical skills, willing and able to learn new business and system processes quickly.\\nQuestion: What are qualifications required for an Internal Audit\\nHelpful Answer:\\n<p>The qualifications required for an Internal Audit Professional include a strong understanding of internal controls, risk management, and anti-financial crime frameworks, as well as knowledge of cybersecurity principles, practices, and frameworks (e.g., NIST, ISO 27001). Additionally, the professional should have experience with security tools such as SIEM, IDS/IPS, antivirus, and vulnerability scanners. They should also have strong communication and teamwork skills, as well as excellent problem solving and analytical skills. Knowledge and experience in the following would be desirable: CI/CD, Non-functional automated testing, Page object model and API mocking. Finally, the professional should be able to multitask while managing both time and workload. </p>\", 'source_documents': [Document(page_content=\"Prompt: Internal Audit\\nOutput: As the third line of defence, Internal Audit's mission is to independently assess the firm's internal control structure, including the firm's governance processes and controls, and risk management and capital and anti-financial crime frameworks, raise awareness of control risk and monitor the implementation of management's control measures.\", metadata={'source': 'rag_sample.csv', 'row': 6}), Document(page_content=\"Skills and Qualifications:\\n- Knowledge of cybersecurity principles, practices, and frameworks (e.g., NIST, ISO 27001).\\n- Experience with security tools such as SIEM, IDS/IPS, antivirus, and vulnerability scanners.\\n- Strong understanding of networking protocols, operating systems, and cloud environments.\\n- Proficiency in scripting or programming languages (e.g., Python, PowerShell) for automation.\\n- Excellent communication and teamwork skills.\\n- Relevant certifications such as CISSP, CEH, or CompTIA Security+ are a plus.\\n- Bachelor's degree in Computer Science, Information Security, or related field.\", metadata={'source': 'rag_sample.csv', 'row': 2}), Document(page_content='Skills and qualifications requirements:\\nBachelor’s degree in computer science, information technology or a related field\\nProven experience with C#, JavaScript, Selenium and Playwright\\nExcellent problem solving and analytical skills\\nKnowledge and experience in the following would be desirable: CI/CD, Non-functional automated testing, Page object model and API mocking.', metadata={'source': 'rag_sample.csv', 'row': 8}), Document(page_content=\"Ability to work effectively across a large audit team, understanding the team's role in the overall strategy of the firm. \\nWritten and verbal communication skills a must; strong interpersonal skills essential. Job requires frequent interaction with technology management. \\nMust be able to multitask while managing both time and workload. \\nMust be highly motivated with strong analytical skills, willing and able to learn new business and system processes quickly.\", metadata={'source': 'rag_sample.csv', 'row': 6})]}\n"
     ]
    }
   ],
   "source": [
    "import gradio as gr\n",
    "\n",
    "def chat_interface(textbox, chat):\n",
    "    # result = qa.invoke({'query': textbox})\n",
    "    # docs = result.get(\"source_documents\", [])\n",
    "    # result=qa({\"input_documents\": docs,\"question\": query})\n",
    "    # retriever = db.as_retriever()\n",
    "    # docs = retriever.get_relevant_documents(textbox)\n",
    "    # context = docs[0].page_content\n",
    "\n",
    "    input_dict = {'query': textbox}\n",
    "    result = qa.invoke(input_dict)\n",
    "    print(result)\n",
    "    text = result['result']\n",
    "    answer = text.split('\\nHelpful Answer:')[1].strip()\n",
    "    return answer\n",
    "\n",
    "# gr.Interface(\n",
    "#     fn=chat_interface,\n",
    "#     inputs=[gr.Textbox(placeholder=\"Ask me a question\", label=\"Question\", lines=5, type=\"text\"),\n",
    "#         gr.UploadButton(label=\"Upload File\", file_types=[\".pdf\", \".csv\", \".doc\"])],\n",
    "#     outputs=gr.Chatbot(height=300),\n",
    "#     title=\"Chatbot\",\n",
    "#     description=\"Ask Chatbot any question\",\n",
    "#     theme=\"soft\",\n",
    "#     examples=[\n",
    "#         [\"What does AI stand for?\"],\n",
    "#         [\"What is Software Engineering?\"],\n",
    "#         [\"What is Cybersecurity?\"]\n",
    "#     ],\n",
    "#     cache_examples=False,\n",
    "# ).launch()\n",
    "\n",
    "gr.ChatInterface(\n",
    "    fn=chat_interface,\n",
    "    chatbot=gr.Chatbot(height=300),\n",
    "    textbox=gr.Textbox(placeholder=\"Ask me a question\", container=False, scale=7),\n",
    "    title=\"Chatbot\",\n",
    "    description=\"Ask Chatbot any question\",\n",
    "    theme=\"soft\",\n",
    "    examples=[\"What does AI stand for?\", \"What is Software Engineering?\", \"What is Cybersecurity?\"],\n",
    "    cache_examples=False,\n",
    "    retry_btn=None,\n",
    "    undo_btn=\"Delete Previous\",\n",
    "    clear_btn=\"Clear\",\n",
    ").launch()"
   ]
  },
  {
   "cell_type": "markdown",
   "metadata": {},
   "source": [
    "With some qa Chain"
   ]
  },
  {
   "cell_type": "code",
   "execution_count": 13,
   "metadata": {},
   "outputs": [],
   "source": [
    "from langchain.chains import LLMChain\n",
    "from langchain.chains.question_answering import load_qa_chain\n",
    "from langchain_community.llms.huggingface_pipeline import HuggingFacePipeline\n",
    "from transformers import pipeline\n",
    "from langchain.prompts import PromptTemplate\n",
    "\n",
    "template = \"\"\"Use the following pieces of context to answer the question at the end. If you don't know the answer, just say that you don't know, don't try to make up an answer.\n",
    "Answer professionally, to the best of your ability, and where appropriate, in a Computer Science educational context.\n",
    "Don't copy from the context.\n",
    "Context: {context}\n",
    "Question: {question}\n",
    "Helpful Answer:\"\"\"\n",
    "\n",
    "QA_CHAIN_PROMPT = PromptTemplate(\n",
    "        template=template, input_variables=[\"context\", \"question\"]\n",
    "    )\n",
    "chain_type_kwargs = {\"questionPrompt\": QA_CHAIN_PROMPT}\n",
    "\n",
    "qa_chain = load_qa_chain(llm, chain_type=\"stuff\", verbose=True)\n",
    "# qa = LLMChain(prompt=prompt, llm=llm)"
   ]
  },
  {
   "cell_type": "code",
   "execution_count": 17,
   "metadata": {},
   "outputs": [
    {
     "name": "stdout",
     "output_type": "stream",
     "text": [
      "Running on local URL:  http://127.0.0.1:7871\n",
      "\n",
      "To create a public link, set `share=True` in `launch()`.\n"
     ]
    },
    {
     "data": {
      "text/html": [
       "<div><iframe src=\"http://127.0.0.1:7871/\" width=\"100%\" height=\"500\" allow=\"autoplay; camera; microphone; clipboard-read; clipboard-write;\" frameborder=\"0\" allowfullscreen></iframe></div>"
      ],
      "text/plain": [
       "<IPython.core.display.HTML object>"
      ]
     },
     "metadata": {},
     "output_type": "display_data"
    },
    {
     "data": {
      "text/plain": []
     },
     "execution_count": 17,
     "metadata": {},
     "output_type": "execute_result"
    },
    {
     "name": "stdout",
     "output_type": "stream",
     "text": [
      "\n",
      "\n",
      "\u001b[1m> Entering new StuffDocumentsChain chain...\u001b[0m\n",
      "\n",
      "\n",
      "\u001b[1m> Entering new LLMChain chain...\u001b[0m\n",
      "Prompt after formatting:\n",
      "\u001b[32;1m\u001b[1;3mUse the following pieces of context to answer the question at the end. If you don't know the answer, just say that you don't know, don't try to make up an answer.\n",
      "\n",
      "Prompt: Cybersecurity Advisor\n",
      "Output: Job Description:\n",
      "We are seeking a Cybersecurity Advisor to join our team, working with a leading organization in the field of cybersecurity/cyber defence dedicated to safeguarding digital assets and infrastructure within the Governmental sector. As part of our rapidly growing team, you will lead client engagements, consulting, advising, and building cybersecurity roadmaps and strategies. You will engage with C-Suite stakeholders to discuss risks, current threat landscapes, and articulate mitigations/controls and their impacts on risk reduction. Additionally, you will manage and lead cybersecurity transformation and implementation for Maritime clients, design and define cyber risk improvement plans, apply a high-level knowledge of technical and non-technical security controls and policies, and manage remediation planning while advising on improvements.\n",
      "Responsibilities:\n",
      "\n",
      "Responsibilities:\n",
      "Consult, advise, and build cybersecurity roadmaps and strategies for clients within the Governmental sector.\n",
      "Engage with C-Suite stakeholders to discuss risks, threat landscapes, and mitigation/control strategies.\n",
      "Lead cybersecurity transformation and implementation for Maritime clients, including both Navy and commercial Maritime sectors.\n",
      "Design and define cyber risk improvement plans, applying technical and non-technical security controls and policies.\n",
      "Manage remediation planning and advise on improvements to enhance cybersecurity posture.\n",
      "Conduct and coordinate risk assessments to identify vulnerabilities and develop mitigation strategies.\n",
      "Skills and Qualifications:\n",
      "Experience with cybersecurity, IT delivery, and change management.\n",
      "Experience in analyzing cybersecurity risks and building improvement strategies, roadmaps, processes, controls, and policies.\n",
      "Experience in cyber defence program delivery and managing cybersecurity transformation projects.\n",
      "\n",
      "Prompt: Cybersecurity Analyst\n",
      "Output: Job Description:\n",
      "We are seeking a skilled Cybersecurity Analyst to join our team. The ideal candidate will be responsible for monitoring, detecting, and responding to security incidents to protect our organization's systems and data. You will analyze security threats, conduct risk assessments, and implement security controls to mitigate vulnerabilities. The role requires strong analytical skills, attention to detail, and a deep understanding of cybersecurity principles and practices.\n",
      "\n",
      "Responsibilities:\n",
      "- Monitor security alerts and logs to identify potential threats and vulnerabilities.\n",
      "- Investigate security incidents, analyze attack vectors, and recommend remediation measures.\n",
      "- Conduct vulnerability assessments and penetration tests to identify weaknesses in systems and networks.\n",
      "- Develop and maintain security policies, procedures, and documentation.\n",
      "- Collaborate with IT teams to implement security solutions and best practices.\n",
      "- Stay updated with the latest cybersecurity threats, trends, and technologies.\n",
      "\n",
      "Question: What is cybersecurity?\n",
      "Helpful Answer:\u001b[0m\n",
      "\n",
      "\u001b[1m> Finished chain.\u001b[0m\n",
      "\n",
      "\u001b[1m> Finished chain.\u001b[0m\n",
      "{'output_text': \"Use the following pieces of context to answer the question at the end. If you don't know the answer, just say that you don't know, don't try to make up an answer.\\n\\nPrompt: Cybersecurity Advisor\\nOutput: Job Description:\\nWe are seeking a Cybersecurity Advisor to join our team, working with a leading organization in the field of cybersecurity/cyber defence dedicated to safeguarding digital assets and infrastructure within the Governmental sector. As part of our rapidly growing team, you will lead client engagements, consulting, advising, and building cybersecurity roadmaps and strategies. You will engage with C-Suite stakeholders to discuss risks, current threat landscapes, and articulate mitigations/controls and their impacts on risk reduction. Additionally, you will manage and lead cybersecurity transformation and implementation for Maritime clients, design and define cyber risk improvement plans, apply a high-level knowledge of technical and non-technical security controls and policies, and manage remediation planning while advising on improvements.\\nResponsibilities:\\n\\nResponsibilities:\\nConsult, advise, and build cybersecurity roadmaps and strategies for clients within the Governmental sector.\\nEngage with C-Suite stakeholders to discuss risks, threat landscapes, and mitigation/control strategies.\\nLead cybersecurity transformation and implementation for Maritime clients, including both Navy and commercial Maritime sectors.\\nDesign and define cyber risk improvement plans, applying technical and non-technical security controls and policies.\\nManage remediation planning and advise on improvements to enhance cybersecurity posture.\\nConduct and coordinate risk assessments to identify vulnerabilities and develop mitigation strategies.\\nSkills and Qualifications:\\nExperience with cybersecurity, IT delivery, and change management.\\nExperience in analyzing cybersecurity risks and building improvement strategies, roadmaps, processes, controls, and policies.\\nExperience in cyber defence program delivery and managing cybersecurity transformation projects.\\n\\nPrompt: Cybersecurity Analyst\\nOutput: Job Description:\\nWe are seeking a skilled Cybersecurity Analyst to join our team. The ideal candidate will be responsible for monitoring, detecting, and responding to security incidents to protect our organization's systems and data. You will analyze security threats, conduct risk assessments, and implement security controls to mitigate vulnerabilities. The role requires strong analytical skills, attention to detail, and a deep understanding of cybersecurity principles and practices.\\n\\nResponsibilities:\\n- Monitor security alerts and logs to identify potential threats and vulnerabilities.\\n- Investigate security incidents, analyze attack vectors, and recommend remediation measures.\\n- Conduct vulnerability assessments and penetration tests to identify weaknesses in systems and networks.\\n- Develop and maintain security policies, procedures, and documentation.\\n- Collaborate with IT teams to implement security solutions and best practices.\\n- Stay updated with the latest cybersecurity threats, trends, and technologies.\\n\\nQuestion: What is cybersecurity?\\nHelpful Answer: Cybersecurity is the practice of protecting computers, networks, and sensitive information from unauthorized access, use, disclosure, disruption, modification, or destruction.\"}\n",
      "\n",
      "\n",
      "\u001b[1m> Entering new StuffDocumentsChain chain...\u001b[0m\n",
      "\n",
      "\n",
      "\u001b[1m> Entering new LLMChain chain...\u001b[0m\n",
      "Prompt after formatting:\n",
      "\u001b[32;1m\u001b[1;3mUse the following pieces of context to answer the question at the end. If you don't know the answer, just say that you don't know, don't try to make up an answer.\n",
      "\n",
      "Prompt: Cybersecurity Analyst\n",
      "Output: Job Description:\n",
      "We are seeking a skilled Cybersecurity Analyst to join our team. The ideal candidate will be responsible for monitoring, detecting, and responding to security incidents to protect our organization's systems and data. You will analyze security threats, conduct risk assessments, and implement security controls to mitigate vulnerabilities. The role requires strong analytical skills, attention to detail, and a deep understanding of cybersecurity principles and practices.\n",
      "\n",
      "Responsibilities:\n",
      "- Monitor security alerts and logs to identify potential threats and vulnerabilities.\n",
      "- Investigate security incidents, analyze attack vectors, and recommend remediation measures.\n",
      "- Conduct vulnerability assessments and penetration tests to identify weaknesses in systems and networks.\n",
      "- Develop and maintain security policies, procedures, and documentation.\n",
      "- Collaborate with IT teams to implement security solutions and best practices.\n",
      "- Stay updated with the latest cybersecurity threats, trends, and technologies.\n",
      "\n",
      "Prompt: Cybersecurity Advisor\n",
      "Output: Job Description:\n",
      "We are seeking a Cybersecurity Advisor to join our team, working with a leading organization in the field of cybersecurity/cyber defence dedicated to safeguarding digital assets and infrastructure within the Governmental sector. As part of our rapidly growing team, you will lead client engagements, consulting, advising, and building cybersecurity roadmaps and strategies. You will engage with C-Suite stakeholders to discuss risks, current threat landscapes, and articulate mitigations/controls and their impacts on risk reduction. Additionally, you will manage and lead cybersecurity transformation and implementation for Maritime clients, design and define cyber risk improvement plans, apply a high-level knowledge of technical and non-technical security controls and policies, and manage remediation planning while advising on improvements.\n",
      "Responsibilities:\n",
      "\n",
      "Responsibilities:\n",
      "Consult, advise, and build cybersecurity roadmaps and strategies for clients within the Governmental sector.\n",
      "Engage with C-Suite stakeholders to discuss risks, threat landscapes, and mitigation/control strategies.\n",
      "Lead cybersecurity transformation and implementation for Maritime clients, including both Navy and commercial Maritime sectors.\n",
      "Design and define cyber risk improvement plans, applying technical and non-technical security controls and policies.\n",
      "Manage remediation planning and advise on improvements to enhance cybersecurity posture.\n",
      "Conduct and coordinate risk assessments to identify vulnerabilities and develop mitigation strategies.\n",
      "Skills and Qualifications:\n",
      "Experience with cybersecurity, IT delivery, and change management.\n",
      "Experience in analyzing cybersecurity risks and building improvement strategies, roadmaps, processes, controls, and policies.\n",
      "Experience in cyber defence program delivery and managing cybersecurity transformation projects.\n",
      "\n",
      "Question: What are responsibilities of cyber security analyst?\n",
      "Helpful Answer:\u001b[0m\n",
      "\n",
      "\u001b[1m> Finished chain.\u001b[0m\n",
      "\n",
      "\u001b[1m> Finished chain.\u001b[0m\n",
      "{'output_text': \"Use the following pieces of context to answer the question at the end. If you don't know the answer, just say that you don't know, don't try to make up an answer.\\n\\nPrompt: Cybersecurity Analyst\\nOutput: Job Description:\\nWe are seeking a skilled Cybersecurity Analyst to join our team. The ideal candidate will be responsible for monitoring, detecting, and responding to security incidents to protect our organization's systems and data. You will analyze security threats, conduct risk assessments, and implement security controls to mitigate vulnerabilities. The role requires strong analytical skills, attention to detail, and a deep understanding of cybersecurity principles and practices.\\n\\nResponsibilities:\\n- Monitor security alerts and logs to identify potential threats and vulnerabilities.\\n- Investigate security incidents, analyze attack vectors, and recommend remediation measures.\\n- Conduct vulnerability assessments and penetration tests to identify weaknesses in systems and networks.\\n- Develop and maintain security policies, procedures, and documentation.\\n- Collaborate with IT teams to implement security solutions and best practices.\\n- Stay updated with the latest cybersecurity threats, trends, and technologies.\\n\\nPrompt: Cybersecurity Advisor\\nOutput: Job Description:\\nWe are seeking a Cybersecurity Advisor to join our team, working with a leading organization in the field of cybersecurity/cyber defence dedicated to safeguarding digital assets and infrastructure within the Governmental sector. As part of our rapidly growing team, you will lead client engagements, consulting, advising, and building cybersecurity roadmaps and strategies. You will engage with C-Suite stakeholders to discuss risks, current threat landscapes, and articulate mitigations/controls and their impacts on risk reduction. Additionally, you will manage and lead cybersecurity transformation and implementation for Maritime clients, design and define cyber risk improvement plans, apply a high-level knowledge of technical and non-technical security controls and policies, and manage remediation planning while advising on improvements.\\nResponsibilities:\\n\\nResponsibilities:\\nConsult, advise, and build cybersecurity roadmaps and strategies for clients within the Governmental sector.\\nEngage with C-Suite stakeholders to discuss risks, threat landscapes, and mitigation/control strategies.\\nLead cybersecurity transformation and implementation for Maritime clients, including both Navy and commercial Maritime sectors.\\nDesign and define cyber risk improvement plans, applying technical and non-technical security controls and policies.\\nManage remediation planning and advise on improvements to enhance cybersecurity posture.\\nConduct and coordinate risk assessments to identify vulnerabilities and develop mitigation strategies.\\nSkills and Qualifications:\\nExperience with cybersecurity, IT delivery, and change management.\\nExperience in analyzing cybersecurity risks and building improvement strategies, roadmaps, processes, controls, and policies.\\nExperience in cyber defence program delivery and managing cybersecurity transformation projects.\\n\\nQuestion: What are responsibilities of cyber security analyst?\\nHelpful Answer: A cyber security analyst is responsible for monitoring, detecting, and responding to security incidents to protect an organization's systems and data. They analyze security alerts and logs to identify potential threats and vulnerabilities, and recommend remediation measures. They are also responsible for conducting vulnerability assessments, penetration tests, and developing and maintaining security policies, procedures, and documentation. Additionally, they collaborate with IT teams to implement security solutions and best practices.\"}\n",
      "\n",
      "\n",
      "\u001b[1m> Entering new StuffDocumentsChain chain...\u001b[0m\n",
      "\n",
      "\n",
      "\u001b[1m> Entering new LLMChain chain...\u001b[0m\n",
      "Prompt after formatting:\n",
      "\u001b[32;1m\u001b[1;3mUse the following pieces of context to answer the question at the end. If you don't know the answer, just say that you don't know, don't try to make up an answer.\n",
      "\n",
      "Prompt: Internal Audit\n",
      "Output: As the third line of defence, Internal Audit's mission is to independently assess the firm's internal control structure, including the firm's governance processes and controls, and risk management and capital and anti-financial crime frameworks, raise awareness of control risk and monitor the implementation of management's control measures.\n",
      "\n",
      "Responsibilities:\n",
      "- Monitor security alerts and logs to identify potential threats and vulnerabilities.\n",
      "- Investigate security incidents, analyze attack vectors, and recommend remediation measures.\n",
      "- Conduct vulnerability assessments and penetration tests to identify weaknesses in systems and networks.\n",
      "- Develop and maintain security policies, procedures, and documentation.\n",
      "- Collaborate with IT teams to implement security solutions and best practices.\n",
      "- Stay updated with the latest cybersecurity threats, trends, and technologies.\n",
      "\n",
      "Responsibilities\n",
      "Communicates and reports on the effectiveness of the firm's governance, risk management and controls that mitigate current and evolving risk\n",
      "Raise awareness of control risk\n",
      "Assesses the firm's control culture and conduct risks\n",
      "Monitors management's implementation of control measures\n",
      "Performing regular risk assessments for the area of coverage \n",
      "Regularly meeting the business/engineering stakeholders and building strong relationships with management \n",
      "Continuously monitoring business and technology developments \n",
      "Monitoring regulatory requirements and developments, as well as industry standards \n",
      "Performing and leading audit work, including defining the scope of risks and controls assessment of controls design and effectiveness, reviewing audit work and reporting findings to internal and external management \n",
      "Validating the closure of management action points \n",
      "Managing, coaching and developing team members \n",
      "Skills And Qualifications:\n",
      "\n",
      "Ability to work effectively across a large audit team, understanding the team's role in the overall strategy of the firm. \n",
      "Written and verbal communication skills a must; strong interpersonal skills essential. Job requires frequent interaction with technology management. \n",
      "Must be able to multitask while managing both time and workload. \n",
      "Must be highly motivated with strong analytical skills, willing and able to learn new business and system processes quickly.\n",
      "\n",
      "Question: What are responsibilities of an Internal Audit?\n",
      "Helpful Answer:\u001b[0m\n",
      "\n",
      "\u001b[1m> Finished chain.\u001b[0m\n",
      "\n",
      "\u001b[1m> Finished chain.\u001b[0m\n",
      "{'output_text': \"Use the following pieces of context to answer the question at the end. If you don't know the answer, just say that you don't know, don't try to make up an answer.\\n\\nPrompt: Internal Audit\\nOutput: As the third line of defence, Internal Audit's mission is to independently assess the firm's internal control structure, including the firm's governance processes and controls, and risk management and capital and anti-financial crime frameworks, raise awareness of control risk and monitor the implementation of management's control measures.\\n\\nResponsibilities:\\n- Monitor security alerts and logs to identify potential threats and vulnerabilities.\\n- Investigate security incidents, analyze attack vectors, and recommend remediation measures.\\n- Conduct vulnerability assessments and penetration tests to identify weaknesses in systems and networks.\\n- Develop and maintain security policies, procedures, and documentation.\\n- Collaborate with IT teams to implement security solutions and best practices.\\n- Stay updated with the latest cybersecurity threats, trends, and technologies.\\n\\nResponsibilities\\nCommunicates and reports on the effectiveness of the firm's governance, risk management and controls that mitigate current and evolving risk\\nRaise awareness of control risk\\nAssesses the firm's control culture and conduct risks\\nMonitors management's implementation of control measures\\nPerforming regular risk assessments for the area of coverage \\nRegularly meeting the business/engineering stakeholders and building strong relationships with management \\nContinuously monitoring business and technology developments \\nMonitoring regulatory requirements and developments, as well as industry standards \\nPerforming and leading audit work, including defining the scope of risks and controls assessment of controls design and effectiveness, reviewing audit work and reporting findings to internal and external management \\nValidating the closure of management action points \\nManaging, coaching and developing team members \\nSkills And Qualifications:\\n\\nAbility to work effectively across a large audit team, understanding the team's role in the overall strategy of the firm. \\nWritten and verbal communication skills a must; strong interpersonal skills essential. Job requires frequent interaction with technology management. \\nMust be able to multitask while managing both time and workload. \\nMust be highly motivated with strong analytical skills, willing and able to learn new business and system processes quickly.\\n\\nQuestion: What are responsibilities of an Internal Audit?\\nHelpful Answer:\\n- Internal Audit is responsible for monitoring the implementation of the firm's governance, risk management and controls to mitigate current and evolving risk.\\n- Responsibilities include:\\n- Communicating and reporting on the effectiveness of the firm's governance, risk management and controls that mitigate current and evolving risk.\\n- Raising awareness of control risk\\n- Assessing the firm's control culture and conducting risk assessments.\\n- Monitoring management's implementation of control measures.\\n- Performing regular risk assessments for the area of coverage.\\n- Regularly meeting the business/engineering stakeholders and building strong relationships with management.\\n- Continuously monitoring business and technology developments.\\n- Monitoring regulatory requirements and developments, as well as industry standards.\\n- Performing and leading audit work, including defining the scope of risks and controls assessment of controls design and effectiveness, reviewing audit work, and reporting findings to internal and external management.\\n- Validating the closure of management action points.\\n- Managing, coaching, and\"}\n"
     ]
    }
   ],
   "source": [
    "import gradio as gr\n",
    "\n",
    "def chat_interface(textbox, chat):\n",
    "    # retriever = db.as_retriever()\n",
    "    # docs = retriever.get_relevant_documents(textbox)\n",
    "    retriever = db.similarity_search(textbox)\n",
    "\n",
    "    # query = f\"{context}\\nQuestion: {textbox}\\nHelpful Answer:\"\n",
    "    input_dict = {'question': textbox, 'input_documents': retriever}\n",
    "    result = qa_chain.invoke(input_dict, return_only_outputs=True)\n",
    "    print(result)\n",
    "    text = result['output_text']\n",
    "    answer = text.split('\\nHelpful Answer:')[1].strip()\n",
    "    return answer\n",
    "    \n",
    "gr.ChatInterface(\n",
    "    fn=chat_interface,\n",
    "    chatbot=gr.Chatbot(height=300),\n",
    "    textbox=gr.Textbox(placeholder=\"Ask me a question\", container=False, scale=7),\n",
    "    title=\"Chatbot\",\n",
    "    description=\"Ask Chatbot any question\",\n",
    "    theme=\"soft\",\n",
    "    examples=[\"What does AI stand for?\", \"What is Software Engineering?\", \"What is Cybersecurity?\"],\n",
    "    cache_examples=False,\n",
    "    retry_btn=None,\n",
    "    undo_btn=\"Delete Previous\",\n",
    "    clear_btn=\"Clear\",\n",
    ").launch()"
   ]
  },
  {
   "cell_type": "markdown",
   "metadata": {},
   "source": [
    "## Evaluation"
   ]
  },
  {
   "cell_type": "code",
   "execution_count": null,
   "metadata": {},
   "outputs": [],
   "source": [
    "# RAG evaluation\n",
    "\n",
    "# Load standardized test set\n",
    "    # IT Consultant, Cloud Engineer...\n",
    "\n",
    "# ROGUE?\n",
    "# F1 Score: common between prediction and gold output\n",
    "from langchain.evaluation import load_evaluator, EvaluatorType\n",
    "\n",
    "\n"
   ]
  },
  {
   "cell_type": "code",
   "execution_count": null,
   "metadata": {},
   "outputs": [],
   "source": []
  },
  {
   "cell_type": "markdown",
   "metadata": {},
   "source": [
    "### T5"
   ]
  },
  {
   "cell_type": "code",
   "execution_count": null,
   "metadata": {},
   "outputs": [],
   "source": [
    "from transformers import AutoTokenizer, AutoModelForSeq2SeqLM, pipeline\n",
    "from langchain import HuggingFacePipeline\n",
    "model_name = \"google/flan-t5-small\"\n",
    "tokenizer = AutoTokenizer.from_pretrained(model_name)\n",
    "model = AutoModelForSeq2SeqLM.from_pretrained(model_name)\n",
    "\n",
    "pipe = pipeline(\n",
    "    \"text2text-generation\", \n",
    "    model=model_name, \n",
    "    tokenizer=tokenizer,\n",
    "    max_new_tokens = 200,\n",
    "    temperature = 0.1,\n",
    "    eos_token_id=tokenizer.eos_token_id,\n",
    "    do_sample=True\n",
    ")\n",
    "llm = HuggingFacePipeline(pipeline=pipe)"
   ]
  },
  {
   "cell_type": "code",
   "execution_count": null,
   "metadata": {},
   "outputs": [],
   "source": [
    "from langchain.prompts import PromptTemplate\n",
    "\n",
    "template = \"\"\"Use the following pieces of context to answer the question at the end. If you don't know the answer, just say that you don't know, don't try to make up an answer.\n",
    "{context}\n",
    "Question: {question}\n",
    "Helpful Answer:\"\"\"\n",
    "QA_CHAIN_PROMPT = PromptTemplate.from_template(template)"
   ]
  },
  {
   "cell_type": "code",
   "execution_count": null,
   "metadata": {},
   "outputs": [],
   "source": [
    "from langchain.chains import RetrievalQA \n",
    "retriever = db.as_retriever(search_kwargs={\"k\": 2})\n",
    "\n",
    "# qa = RetrievalQA.from_chain_type(   \n",
    "#   llm=llm,   \n",
    "#   chain_type=\"refine\",\n",
    "#   retriever=retriever, \n",
    "#   return_source_documents=True\n",
    "# )\n",
    "qa = RetrievalQA.from_chain_type(llm=llm, retriever=retriever, return_source_documents=False, chain_type_kwargs={\"prompt\": QA_CHAIN_PROMPT})\n",
    "print(qa)\n",
    "\n",
    "question = \"What skills should an AI solution analyst have?\"\n",
    "result = qa({\"query\": question})\n",
    "print(result[\"result\"])"
   ]
  },
  {
   "cell_type": "code",
   "execution_count": null,
   "metadata": {},
   "outputs": [],
   "source": [
    "import gradio as gr\n",
    "\n",
    "def chat_interface(textbox, chat):\n",
    "    retriever = db.as_retriever()\n",
    "    docs = retriever.get_relevant_documents(textbox)\n",
    "    context = docs[0].page_content\n",
    "\n",
    "    # query = f\"{context}\\nQuestion: {textbox}\\nHelpful Answer:\"\n",
    "    input_dict = {'question': textbox, 'context': context}\n",
    "    result = qa.invoke(input_dict)\n",
    "    print(result)\n",
    "    text = result['text']\n",
    "    answer = text.split('\\nHelpful Answer:')[1].strip()\n",
    "    return answer\n",
    "    \n",
    "gr.ChatInterface(\n",
    "    fn=chat_interface,\n",
    "    chatbot=gr.Chatbot(height=300),\n",
    "    textbox=gr.Textbox(placeholder=\"Ask me a question\", container=False, scale=7),\n",
    "    title=\"Chatbot\",\n",
    "    description=\"Ask Chatbot any question\",\n",
    "    theme=\"soft\",\n",
    "    examples=[\"What does AI stand for?\", \"What is Software Engineering?\", \"What is Cybersecurity?\"],\n",
    "    cache_examples=False,\n",
    "    retry_btn=None,\n",
    "    undo_btn=\"Delete Previous\",\n",
    "    clear_btn=\"Clear\",\n",
    ").launch()"
   ]
  },
  {
   "cell_type": "code",
   "execution_count": null,
   "metadata": {},
   "outputs": [],
   "source": [
    "import gradio as gr\n",
    "\n",
    "def chat_interface(textbox, chat):\n",
    "    # retriever = db.as_retriever()\n",
    "    # docs = r.get_relevant_documents(textbox)\n",
    "    # context_str = docs[0].page_content\n",
    "\n",
    "    # input_dict = {'question': textbox, 'context_str': context_str}\n",
    "    # docs = retriever.get_relevant_documents(textbox)\n",
    "\n",
    "    # query = f\"{context}\\nQuestion: {textbox}\\nHelpful Answer:\"\n",
    "    result = qa({'query': textbox})\n",
    "    docs = result.get(\"source_documents\", [])\n",
    "    print(docs)\n",
    "    return result[\"result\"]\n",
    "\n",
    "gr.ChatInterface(\n",
    "    fn=chat_interface,\n",
    "    chatbot=gr.Chatbot(height=300),\n",
    "    textbox=gr.Textbox(placeholder=\"Ask me a question\", container=False, scale=7),\n",
    "    title=\"Chatbot\",\n",
    "    description=\"Ask Chatbot any question\",\n",
    "    theme=\"soft\",\n",
    "    examples=[\"What does AI stand for?\", \"What is Software Engineering?\", \"What is Cybersecurity?\"],\n",
    "    cache_examples=False,\n",
    "    retry_btn=None,\n",
    "    undo_btn=\"Delete Previous\",\n",
    "    clear_btn=\"Clear\",\n",
    ").launch()"
   ]
  },
  {
   "cell_type": "code",
   "execution_count": null,
   "metadata": {},
   "outputs": [],
   "source": []
  },
  {
   "cell_type": "code",
   "execution_count": null,
   "metadata": {},
   "outputs": [],
   "source": [
    "# MAYBE DO THIS FIRST? AND SEE THE DOWNSIDE, AND LEARN THAT IT IS NOT REQUIRED (doesn't solve hallucinations and timely context!)\n",
    "# Fine-tune with input and output example data sets\n",
    "\n",
    "# Compare with different models (one fine-tuned one just pre-trained)"
   ]
  },
  {
   "cell_type": "markdown",
   "metadata": {},
   "source": [
    "## Full adapted model (combined of all approaches)"
   ]
  },
  {
   "cell_type": "code",
   "execution_count": null,
   "metadata": {},
   "outputs": [],
   "source": [
    "# Knowledge retrieved\n",
    "# Augmented Prompt\n",
    "# Fine-tuned/pre-trained LLM\n",
    "\n",
    "import gradio as gr\n",
    "def chat_interface(textbox, chat):\n",
    "    # docs = db.similarity_search(textbox)\n",
    "    # input_dict = {'question': textbox, 'input_documents': docs }\n",
    "    input_dict = {'question': textbox}\n",
    "    response = llm_chain.run(input_dict)\n",
    "\n",
    "    print(\"user:\", textbox)\n",
    "    print(\"bot:\", response)\n",
    "    return response\n",
    "\n",
    "gr.ChatInterface(\n",
    "    fn=chat_interface,\n",
    "    chatbot=gr.Chatbot(height=300),\n",
    "    textbox=gr.Textbox(placeholder=\"Ask me a question\", container=False, scale=7),\n",
    "    title=\"Chatbot\",\n",
    "    description=\"Ask Chatbot any question\",\n",
    "    theme=\"soft\",\n",
    "    examples=[\"What does AI stand for?\", \"What is Software Engineering?\", \"What is Cybersecurity?\"],\n",
    "    cache_examples=False,\n",
    "    retry_btn=None,\n",
    "    undo_btn=\"Delete Previous\",\n",
    "    clear_btn=\"Clear\",\n",
    ").launch()"
   ]
  },
  {
   "cell_type": "code",
   "execution_count": null,
   "metadata": {},
   "outputs": [],
   "source": []
  }
 ],
 "metadata": {
  "kernelspec": {
   "display_name": "venv",
   "language": "python",
   "name": "venv"
  },
  "language_info": {
   "codemirror_mode": {
    "name": "ipython",
    "version": 3
   },
   "file_extension": ".py",
   "mimetype": "text/x-python",
   "name": "python",
   "nbconvert_exporter": "python",
   "pygments_lexer": "ipython3",
   "version": "3.11.0"
  }
 },
 "nbformat": 4,
 "nbformat_minor": 2
}
