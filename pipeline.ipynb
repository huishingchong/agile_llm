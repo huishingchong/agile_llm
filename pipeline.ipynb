{
 "cells": [
  {
   "cell_type": "markdown",
   "metadata": {},
   "source": [
    "# RAG Pipeline"
   ]
  },
  {
   "cell_type": "markdown",
   "metadata": {},
   "source": [
    "## Set up\n",
    "### Import Packages and API keys "
   ]
  },
  {
   "cell_type": "code",
   "execution_count": 1,
   "metadata": {},
   "outputs": [],
   "source": [
    "# !pip install transformers datasets torch langchain-community faiss-cpu sentence-transformers\n",
    "from getpass import getpass\n",
    "from dotenv import load_dotenv\n",
    "import os\n",
    "from pathlib import Path\n",
    "\n",
    "env_path = Path('.') / '.env'\n",
    "load_dotenv(dotenv_path=env_path)\n",
    "\n",
    "huggingface_api_token = os.getenv('HUGGINGFACEHUB_API_TOKEN')\n",
    "\n",
    "if not huggingface_api_token:\n",
    "    huggingface_api_token = getpass(\"Enter your Hugging Face Hub API token: \")"
   ]
  },
  {
   "cell_type": "markdown",
   "metadata": {},
   "source": [
    "### Model selection"
   ]
  },
  {
   "cell_type": "code",
   "execution_count": null,
   "metadata": {},
   "outputs": [],
   "source": [
    "from langchain_community.llms import HuggingFaceHub\n",
    "from transformers import AutoTokenizer, AutoModelForCausalLM\n",
    "\n",
    "# tokenizer = AutoTokenizer.from_pretrained(\"tiiuae/falcon-7b-instruct\")\n",
    "# model = AutoModelForCausalLM.from_pretrained(\"tiiuae/falcon-7b-instruct\")\n",
    "\n",
    "# I will be using T5 model from open source huggingface library\n",
    "# model_name = \"mistralai/Mistral-7B-v0.1\"\n",
    "# model_name = \"mistralai/Mistral-7B-Instruct-v0.1\"\n",
    "\n",
    "model_name = \"tiiuae/falcon-7b-instruct\"\n",
    "# model_name = \"tiiuae/falcon-7b\"\n",
    "\n",
    "llm = HuggingFaceHub(repo_id=model_name, model_kwargs={\"temperature\":0.5, \"max_length\":1024, \"max_new_tokens\":200})"
   ]
  },
  {
   "cell_type": "markdown",
   "metadata": {},
   "source": [
    "## Template-based Prompting"
   ]
  },
  {
   "cell_type": "code",
   "execution_count": null,
   "metadata": {},
   "outputs": [],
   "source": [
    "# I will be using Langchain\n",
    "\n",
    "from langchain.prompts import PromptTemplate\n",
    "from langchain.chains import LLMChain, ConversationalRetrievalChain\n",
    "from langchain_community.llms.huggingface_pipeline import HuggingFacePipeline\n",
    "from transformers import pipeline\n",
    "\n",
    "template= \"\"\"\n",
    "Please answer the question.\n",
    "Answer professionally, and where appropriate, in a Computer Science educational context.\n",
    "Question: {question}\n",
    "Response:\n",
    "\"\"\"\n",
    "\n",
    "prompt = PromptTemplate(template=template, input_variables=[\"question\"])\n",
    "# # llm_chain = load_qa_chain(llm, chain_type=\"stuff\")\n",
    "llm_chain = LLMChain(prompt=prompt, llm=llm, verbose=False)\n"
   ]
  },
  {
   "cell_type": "markdown",
   "metadata": {},
   "source": [
    "## RAG from synthetic data set"
   ]
  },
  {
   "cell_type": "markdown",
   "metadata": {},
   "source": [
    "### Set up embeddings and documents to retrieve from"
   ]
  },
  {
   "cell_type": "code",
   "execution_count": 2,
   "metadata": {},
   "outputs": [
    {
     "name": "stderr",
     "output_type": "stream",
     "text": [
      "/Users/huishingchong/agile_llm/venv/lib/python3.11/site-packages/tqdm/auto.py:21: TqdmWarning: IProgress not found. Please update jupyter and ipywidgets. See https://ipywidgets.readthedocs.io/en/stable/user_install.html\n",
      "  from .autonotebook import tqdm as notebook_tqdm\n",
      "/Users/huishingchong/agile_llm/venv/lib/python3.11/site-packages/torch/_utils.py:831: UserWarning: TypedStorage is deprecated. It will be removed in the future and UntypedStorage will be the only storage class. This should only matter to you if you are using storages directly.  To access UntypedStorage directly, use tensor.untyped_storage() instead of tensor.storage()\n",
      "  return self.fget.__get__(instance, owner)()\n"
     ]
    },
    {
     "name": "stdout",
     "output_type": "stream",
     "text": [
      "Prompt: AI solutions analyst\n",
      "Output: Job Description:\n",
      "As an AI Solutions Analyst, you will play a crucial role in driving organizational transformations for medium- and large-scale businesses by documenting, analyzing, and improving business processes. You will work within projects to map as-is processes to to-be processes, aligning them with the future operating model. Acting as a liaison between clients and project teams, you will coordinate and collaborate with stakeholders during workshops and contribute to the design and support of ongoing solutions post-transition. Additionally, you will collaborate with teammates on the analysis and design of complex business applications using the latest technologies, ensuring successful delivery of business solutions.\n",
      "Responsibilities:\n",
      "Document and analyze as-is processes (functional specs and user stories) and make recommendations for improvement by mapping to-be business processes aligned with the future operating model.\n"
     ]
    }
   ],
   "source": [
    "# Use langchain packages to help with implementing retrieval augmentation generation\n",
    "from datasets import load_dataset\n",
    "from langchain.document_loaders.csv_loader import CSVLoader\n",
    "from langchain_community.embeddings import HuggingFaceEmbeddings\n",
    "from langchain.text_splitter import CharacterTextSplitter, RecursiveCharacterTextSplitter\n",
    "from langchain_community.vectorstores import FAISS\n",
    "from sentence_transformers import SentenceTransformer\n",
    "# from langchain_core.prompts import ChatPromptTemplate\n",
    "# from langchain_core.runnables import RunnablePassthrough\n",
    "# from langchain_core.output_parsers import StrOutputParser\n",
    "\n",
    "# Step 1: Load data for retrieval\n",
    "loader = CSVLoader(file_path=\"rag_sample.csv\")\n",
    "documents = loader.load()  \n",
    "\n",
    "# Step 2: Split Documents\n",
    "text_split = RecursiveCharacterTextSplitter(chunk_size=1000, chunk_overlap=50)\n",
    "# text_split = CharacterTextSplitter(chunk_size=1000, chunk_overlap=0)\n",
    "d = text_split.split_documents(documents)\n",
    "\n",
    "# Step 3: Create a FAISS Index\n",
    "modelPath = \"sentence-transformers/gtr-t5-base\" # Use a t5 sentence transformer model that maps sentences & paragraphs to a 768 dimensional dense vector space\n",
    "model_kwargs = {'device':'cpu'}\n",
    "encode_kwargs = {'normalize_embeddings': True} # Normalizing embeddings can help improve similarity metrics by ensuring that embeddings magnitude does not affect the similarity scores\n",
    "\n",
    "# Initialize an instance of HuggingFaceEmbeddings\n",
    "embeddings = HuggingFaceEmbeddings(\n",
    "    model_name=modelPath,\n",
    "    model_kwargs=model_kwargs,\n",
    "    encode_kwargs=encode_kwargs\n",
    ")\n",
    "\n",
    "db = FAISS.from_documents(d, embedding=embeddings)\n",
    "\n",
    "# just checking\n",
    "r = db.as_retriever()\n",
    "docs = r.get_relevant_documents(\"What skills should an AI solution analyst have?\")\n",
    "print(docs[0].page_content)"
   ]
  },
  {
   "cell_type": "markdown",
   "metadata": {},
   "source": [
    "### Falcon"
   ]
  },
  {
   "cell_type": "code",
   "execution_count": 3,
   "metadata": {},
   "outputs": [],
   "source": [
    "from langchain_community.llms import HuggingFaceHub\n",
    "from langchain_community.llms.huggingface_pipeline import HuggingFacePipeline\n",
    "from langchain.chains import RetrievalQA\n",
    "from transformers import AutoTokenizer, AutoModelForCausalLM, pipeline\n",
    "from langchain.prompts import PromptTemplate\n",
    "\n",
    "model_name = \"tiiuae/falcon-7b-instruct\"\n",
    "# model_name = \"tiiuae/falcon-7b\"\n",
    "\n",
    "tokenizer = AutoTokenizer.from_pretrained(model_name)\n",
    "# llm = AutoModelForCausalLM.from_pretrained(model_name, trust_remote_code=True)\n",
    "\n",
    "#Define a text generation pipeline using the model and tokenizer\n",
    "# hf = pipeline(\n",
    "#     \"text-generation\", \n",
    "#     model=model_name, \n",
    "#     tokenizer=tokenizer,\n",
    "#     max_new_tokens = 200,\n",
    "#     temperature = 0.1,\n",
    "#     eos_token_id=tokenizer.eos_token_id,\n",
    "#     do_sample=True\n",
    "# )\n",
    "# llm = HuggingFacePipeline(pipeline=hf)\n",
    "llm = HuggingFaceHub(repo_id=model_name, model_kwargs={\"temperature\":0.5, \"max_length\":1024, \"max_new_tokens\":200})\n",
    "# https://medium.com/international-school-of-ai-data-science/implementing-rag-with-langchain-and-hugging-face-28e3ea66c5f7\n",
    "\n",
    "# TO DELETE CACHE: huggingface-cli delete-cache"
   ]
  },
  {
   "cell_type": "markdown",
   "metadata": {},
   "source": [
    "RetrievalQA"
   ]
  },
  {
   "cell_type": "code",
   "execution_count": 10,
   "metadata": {},
   "outputs": [],
   "source": [
    "from langchain.prompts import PromptTemplate\n",
    "\n",
    "template = \"\"\"Use the following pieces of context to answer the question at the end. If you don't know the answer, just say that you don't know, don't try to make up an answer.\n",
    "Answer professionally, to the best of your ability, and where appropriate, in a Computer Science educational context.\n",
    "Use the context and be specific as you can.\n",
    "Context: {context}\n",
    "Question: {question}\n",
    "Helpful Answer:\"\"\"\n",
    "QA_CHAIN_PROMPT = PromptTemplate(template=template, input_variables=[\"context\", \"question\"])"
   ]
  },
  {
   "cell_type": "code",
   "execution_count": 11,
   "metadata": {},
   "outputs": [
    {
     "name": "stdout",
     "output_type": "stream",
     "text": [
      "\n",
      "\n",
      "\u001b[1m> Entering new RetrievalQA chain...\u001b[0m\n",
      "\n",
      "\u001b[1m> Finished chain.\u001b[0m\n",
      "{'query': 'What skills should an AI solution analyst have?', 'result': \"Use the following pieces of context to answer the question at the end. If you don't know the answer, just say that you don't know, don't try to make up an answer.\\nAnswer professionally, to the best of your ability, and where appropriate, in a Computer Science educational context.\\nUse the context and be specific as you can.\\nContext: Prompt: AI solutions analyst\\nOutput: Job Description:\\nAs an AI Solutions Analyst, you will play a crucial role in driving organizational transformations for medium- and large-scale businesses by documenting, analyzing, and improving business processes. You will work within projects to map as-is processes to to-be processes, aligning them with the future operating model. Acting as a liaison between clients and project teams, you will coordinate and collaborate with stakeholders during workshops and contribute to the design and support of ongoing solutions post-transition. Additionally, you will collaborate with teammates on the analysis and design of complex business applications using the latest technologies, ensuring successful delivery of business solutions.\\nResponsibilities:\\nDocument and analyze as-is processes (functional specs and user stories) and make recommendations for improvement by mapping to-be business processes aligned with the future operating model.\\n\\nOutput: Job Description:\\nWe are seeking a talented Data & AI Solution Architect to join our team. In this role, you will work closely with delivery teams and client stakeholders to provide technical leadership, drive architectural decisions, shape deals and propositions, create plans and roadmaps, and produce design artifacts. You will assist clients in their journey to Microsoft Azure or leverage their existing investment in it, with a significant focus on applying cloud architectural patterns and migration strategies. As a senior member of our technical community, you will provide coaching and mentoring to motivate and inspire more junior colleagues. Additionally, you will engage in early conversations with clients and sales teams, support origination and deal qualification, and become a trusted advisor throughout the sales process. Collaborating with other Solution Architects and SMEs, you will define solutions, drive them from conception to close, and articulate deal pricing.\\n\\nAbility to conduct and coordinate risk assessments to identify vulnerabilities and develop mitigation strategies.\\nStrong communication and stakeholder management skills, with the ability to engage with C-Suite stakeholders effectively.\\n\\nWork within projects driving organizational transformations for medium- and large-scale businesses.\\nLiaise between the client and a team consisting of SMEs, C-suite executives, Experience Designers, Product Managers, Consultant Developers, and QA.\\nCoordinate and collaborate with all project stakeholders during workshops.\\nCollaborate with teammates on the analysis and design of complex business applications using the latest technologies.\\nCreate and review test cases, coordinate with business stakeholders and end-users for user acceptance.\\nContribute to the design of ongoing solutions and provide user support required after transition.\\nWork across multiple projects or smaller pieces of work to support the AI function when workflow is lighter.\\nSkills and Qualifications Required:\\nMaster’s/Bachelor’s degree in Engineering (Computer Science).\\nProven track record of working with various geographically dispersed technical teams to deliver requirements and provide solutions.\\nQuestion: What skills should an AI solution analyst have?\\nHelpful Answer:\\nAn AI solution analyst should have the following skills:\\n- Deep technical knowledge in AI and machine learning\\n- Strong analytical and problem-solving skills\\n- Good communication and stakeholder management skills\\n- Ability to coordinate and collaborate with a team\\n- Knowledge of data and database structures\\n- Good understanding of development processes\\n- Knowledge of cloud architecture and migration strategies\\n- Experience working with complex business applications\\n- Experience with data visualization tools and data analysis\\n- Knowledge of data and database structures\\n- Knowledge of data and database structures\\n- Knowledge of data and database structures\\n- Knowledge of data and database structures\\n- Experience in software development and software testing\\n- Experience working with complex business applications\\n- Strong communication and stakeholder management skills\\n- Knowledge of data and database structures\\n- Experience in software development and software testing\\n- Experience with cloud architecture and migration strategies\\n- Experience working with complex business applications\\n- Experience in software development and software testing\\n- Experience in software development and software testing\\n\", 'source_documents': [Document(page_content='Prompt: AI solutions analyst\\nOutput: Job Description:\\nAs an AI Solutions Analyst, you will play a crucial role in driving organizational transformations for medium- and large-scale businesses by documenting, analyzing, and improving business processes. You will work within projects to map as-is processes to to-be processes, aligning them with the future operating model. Acting as a liaison between clients and project teams, you will coordinate and collaborate with stakeholders during workshops and contribute to the design and support of ongoing solutions post-transition. Additionally, you will collaborate with teammates on the analysis and design of complex business applications using the latest technologies, ensuring successful delivery of business solutions.\\nResponsibilities:\\nDocument and analyze as-is processes (functional specs and user stories) and make recommendations for improvement by mapping to-be business processes aligned with the future operating model.', metadata={'source': 'rag_sample.csv', 'row': 11}), Document(page_content='Output: Job Description:\\nWe are seeking a talented Data & AI Solution Architect to join our team. In this role, you will work closely with delivery teams and client stakeholders to provide technical leadership, drive architectural decisions, shape deals and propositions, create plans and roadmaps, and produce design artifacts. You will assist clients in their journey to Microsoft Azure or leverage their existing investment in it, with a significant focus on applying cloud architectural patterns and migration strategies. As a senior member of our technical community, you will provide coaching and mentoring to motivate and inspire more junior colleagues. Additionally, you will engage in early conversations with clients and sales teams, support origination and deal qualification, and become a trusted advisor throughout the sales process. Collaborating with other Solution Architects and SMEs, you will define solutions, drive them from conception to close, and articulate deal pricing.', metadata={'source': 'rag_sample.csv', 'row': 4}), Document(page_content='Ability to conduct and coordinate risk assessments to identify vulnerabilities and develop mitigation strategies.\\nStrong communication and stakeholder management skills, with the ability to engage with C-Suite stakeholders effectively.', metadata={'source': 'rag_sample.csv', 'row': 5}), Document(page_content='Work within projects driving organizational transformations for medium- and large-scale businesses.\\nLiaise between the client and a team consisting of SMEs, C-suite executives, Experience Designers, Product Managers, Consultant Developers, and QA.\\nCoordinate and collaborate with all project stakeholders during workshops.\\nCollaborate with teammates on the analysis and design of complex business applications using the latest technologies.\\nCreate and review test cases, coordinate with business stakeholders and end-users for user acceptance.\\nContribute to the design of ongoing solutions and provide user support required after transition.\\nWork across multiple projects or smaller pieces of work to support the AI function when workflow is lighter.\\nSkills and Qualifications Required:\\nMaster’s/Bachelor’s degree in Engineering (Computer Science).\\nProven track record of working with various geographically dispersed technical teams to deliver requirements and provide solutions.', metadata={'source': 'rag_sample.csv', 'row': 11})]}\n",
      "An AI solution analyst should have the following skills:\n",
      "- Deep technical knowledge in AI and machine learning\n",
      "- Strong analytical and problem-solving skills\n",
      "- Good communication and stakeholder management skills\n",
      "- Ability to coordinate and collaborate with a team\n",
      "- Knowledge of data and database structures\n",
      "- Good understanding of development processes\n",
      "- Knowledge of cloud architecture and migration strategies\n",
      "- Experience working with complex business applications\n",
      "- Experience with data visualization tools and data analysis\n",
      "- Knowledge of data and database structures\n",
      "- Knowledge of data and database structures\n",
      "- Knowledge of data and database structures\n",
      "- Knowledge of data and database structures\n",
      "- Experience in software development and software testing\n",
      "- Experience working with complex business applications\n",
      "- Strong communication and stakeholder management skills\n",
      "- Knowledge of data and database structures\n",
      "- Experience in software development and software testing\n",
      "- Experience with cloud architecture and migration strategies\n",
      "- Experience working with complex business applications\n",
      "- Experience in software development and software testing\n",
      "- Experience in software development and software testing\n"
     ]
    }
   ],
   "source": [
    "from langchain.chains import RetrievalQA, RetrievalQAWithSourcesChain\n",
    "# retriever = db.as_retriever(search_kwargs={\"k\": 2})\n",
    "retriever = db.as_retriever()\n",
    "qa = RetrievalQA.from_chain_type(llm=llm, retriever=retriever, return_source_documents=True, chain_type_kwargs={\"prompt\": QA_CHAIN_PROMPT})\n",
    "# qa = RetrievalQAWithSourcesChain.from_chain_type(llm=llm, chain_type=\"refine\", retriever=retriever, return_source_documents=False)\n",
    "qa.verbose=True\n",
    "question = \"What skills should an AI solution analyst have?\"\n",
    "result = qa.invoke({\"query\": question})\n",
    "print(result)\n",
    "print(result[\"result\"].split('\\nHelpful Answer:')[1].strip())\n",
    "\n",
    "# Need to be on all the documents?\n"
   ]
  },
  {
   "cell_type": "code",
   "execution_count": 12,
   "metadata": {},
   "outputs": [
    {
     "name": "stdout",
     "output_type": "stream",
     "text": [
      "Running on local URL:  http://127.0.0.1:7860\n",
      "\n",
      "To create a public link, set `share=True` in `launch()`.\n"
     ]
    },
    {
     "data": {
      "text/html": [
       "<div><iframe src=\"http://127.0.0.1:7860/\" width=\"100%\" height=\"500\" allow=\"autoplay; camera; microphone; clipboard-read; clipboard-write;\" frameborder=\"0\" allowfullscreen></iframe></div>"
      ],
      "text/plain": [
       "<IPython.core.display.HTML object>"
      ]
     },
     "metadata": {},
     "output_type": "display_data"
    },
    {
     "data": {
      "text/plain": []
     },
     "execution_count": 12,
     "metadata": {},
     "output_type": "execute_result"
    },
    {
     "name": "stdout",
     "output_type": "stream",
     "text": [
      "\n",
      "\n",
      "\u001b[1m> Entering new RetrievalQA chain...\u001b[0m\n",
      "\n",
      "\u001b[1m> Finished chain.\u001b[0m\n",
      "{'query': 'What software should a Full Stack Software Engineer know to use?', 'result': \"Use the following pieces of context to answer the question at the end. If you don't know the answer, just say that you don't know, don't try to make up an answer.\\nAnswer professionally, to the best of your ability, and where appropriate, in a Computer Science educational context.\\nUse the context and be specific as you can.\\nContext: Prompt: Full stack software engineer\\nOutput: Job Description:\\nAs a Full Stack Software Engineer, you will participate in various aspects of the software development lifecycle, including design, code implementation, testing, and support. Your primary focus will be creating software solutions that support clients' hybrid-cloud and AI journeys, utilizing the latest technologies to ensure high performance, availability, responsiveness, and maintainability.\\nResponsibilities:\\nAnalyze, validate, and propose improvements to existing failures, collaborating with the architect and technical leader.\\nParticipate in every step of the development process, from design to testing, release changes, and troubleshooting, ensuring excellent customer service.\\nDrive discussions with stakeholders and analyze the current landscape to identify opportunities for creative solutions.\\nSkills and Qualifications:\\nBackend or full stack development experience.\\nProficiency in JavaScript and NodeJS.\\n\\nPrompt: Software Engineer\\nOutput: Job Description:\\nWe are looking for a highly motivated Software Engineer to join our team. As a Software Engineer, you will be responsible for designing, developing, and maintaining software applications. You will work closely with cross-functional teams to understand requirements, architect solutions, and deliver high-quality code. The role requires strong problem-solving skills, attention to detail, and a passion for building scalable and robust software systems.\\n\\nPrompt: Software Engineer\\nOutput: Job Description:\\nWe are looking for a Software Engineer to join our team. In this role, you will work alongside other engineers to configure, develop, and manage the deployment of intricate enterprise software solutions. You will have the opportunity to use your programming skills, innovation, and engineering expertise to implement new ideas, develop tools and applications, and improve project methodologies. As part of our team, you will apply Lean/Agile methodologies, understand Software Development Life Cycle (SDLC), utilize CI/CD pipelines, ensure quality and scalability, document and standardize processes, and employ effective testing techniques and issue resolution strategies. Effective communication and interpersonal skills are essential as you will interact with colleagues, customers, and stakeholders on a daily basis.\\nResponsibilities:\\nCollaborate on Smallworld projects, configuring, developing, and managing software solutions.\\n\\nPrompt: Software tester\\nOutput: As a Software Tester, you will play a pivotal role in ensuring that our software solutions not only meet but exceed the quality standards our clients expect. Working closely with our dynamic team of developers, you will design and implement testing strategies, identify issues, and contribute to the product's overall excellence.\\nMain responsibilities include:\\nCreate, maintain and execute high quality automated test scripts\\nDesign and develop test automation frameworks\\nMaintain test documentation for automated processes\\nDevelop and configure test automation strategies.\\tTest Planning & Design: Design and create test cases and scripts to address business and technical use cases.\\nFunctional Testing: Assess and ensure the functional aspects of the application, based on our diverse tech stack.\\nPerformance Testing: Test the system's behavior under particular conditions, ensuring robustness and responsiveness.\\nQuestion: What software should a Full Stack Software Engineer know to use?\\nHelpful Answer: A Full Stack Software Engineer should be familiar with a range of software development tools and technologies, including but not limited to:\\n\\n1. Node.js\\n2. React\\n3. Angular\\n4. Vue\\n5. Bootstrap\\n6. Git\\n7. NPM\\n8. Yarn\\n9. Jira\\n10. Bitbucket\\n11. Visual Studio Code\\n12. Postman\\n13. Docker\\n14. AWS\\n15. Github\\n16. Jekyll\\n17. Sketch\\n18. Materialize\\n19. Foundation\\n20. Bootstrap\\n21. AngularJS\\n22. React\\n23. Vue\\n24. Backbone\\n25. Knockout\\n26. Ember\\n27. React Native\\n28. CodeIgniter\\n29. Laravel\\n30. Laravel5\\n31. Laravel7\\n32. Laravel8\\n33. Laravel9\\n34. Laravel10\\n35. Laravel11\\n\", 'source_documents': [Document(page_content=\"Prompt: Full stack software engineer\\nOutput: Job Description:\\nAs a Full Stack Software Engineer, you will participate in various aspects of the software development lifecycle, including design, code implementation, testing, and support. Your primary focus will be creating software solutions that support clients' hybrid-cloud and AI journeys, utilizing the latest technologies to ensure high performance, availability, responsiveness, and maintainability.\\nResponsibilities:\\nAnalyze, validate, and propose improvements to existing failures, collaborating with the architect and technical leader.\\nParticipate in every step of the development process, from design to testing, release changes, and troubleshooting, ensuring excellent customer service.\\nDrive discussions with stakeholders and analyze the current landscape to identify opportunities for creative solutions.\\nSkills and Qualifications:\\nBackend or full stack development experience.\\nProficiency in JavaScript and NodeJS.\", metadata={'source': 'rag_sample.csv', 'row': 10}), Document(page_content='Prompt: Software Engineer\\nOutput: Job Description:\\nWe are looking for a highly motivated Software Engineer to join our team. As a Software Engineer, you will be responsible for designing, developing, and maintaining software applications. You will work closely with cross-functional teams to understand requirements, architect solutions, and deliver high-quality code. The role requires strong problem-solving skills, attention to detail, and a passion for building scalable and robust software systems.', metadata={'source': 'rag_sample.csv', 'row': 1}), Document(page_content='Prompt: Software Engineer\\nOutput: Job Description:\\nWe are looking for a Software Engineer to join our team. In this role, you will work alongside other engineers to configure, develop, and manage the deployment of intricate enterprise software solutions. You will have the opportunity to use your programming skills, innovation, and engineering expertise to implement new ideas, develop tools and applications, and improve project methodologies. As part of our team, you will apply Lean/Agile methodologies, understand Software Development Life Cycle (SDLC), utilize CI/CD pipelines, ensure quality and scalability, document and standardize processes, and employ effective testing techniques and issue resolution strategies. Effective communication and interpersonal skills are essential as you will interact with colleagues, customers, and stakeholders on a daily basis.\\nResponsibilities:\\nCollaborate on Smallworld projects, configuring, developing, and managing software solutions.', metadata={'source': 'rag_sample.csv', 'row': 3}), Document(page_content=\"Prompt: Software tester\\nOutput: As a Software Tester, you will play a pivotal role in ensuring that our software solutions not only meet but exceed the quality standards our clients expect. Working closely with our dynamic team of developers, you will design and implement testing strategies, identify issues, and contribute to the product's overall excellence.\\nMain responsibilities include:\\nCreate, maintain and execute high quality automated test scripts\\nDesign and develop test automation frameworks\\nMaintain test documentation for automated processes\\nDevelop and configure test automation strategies.\\tTest Planning & Design: Design and create test cases and scripts to address business and technical use cases.\\nFunctional Testing: Assess and ensure the functional aspects of the application, based on our diverse tech stack.\\nPerformance Testing: Test the system's behavior under particular conditions, ensuring robustness and responsiveness.\", metadata={'source': 'rag_sample.csv', 'row': 8})]}\n"
     ]
    }
   ],
   "source": [
    "import gradio as gr\n",
    "\n",
    "def chat_interface(textbox, chat):\n",
    "    # result = qa.invoke({'query': textbox})\n",
    "    # docs = result.get(\"source_documents\", [])\n",
    "    # result=qa({\"input_documents\": docs,\"question\": query})\n",
    "    # retriever = db.as_retriever()\n",
    "    # docs = retriever.get_relevant_documents(textbox)\n",
    "    # context = docs[0].page_content\n",
    "\n",
    "    input_dict = {'query': textbox}\n",
    "    result = qa.invoke(input_dict)\n",
    "    print(result)\n",
    "    text = result['result']\n",
    "    answer = text.split('\\nHelpful Answer:')[1].strip()\n",
    "    return answer\n",
    "\n",
    "# gr.Interface(\n",
    "#     fn=chat_interface,\n",
    "#     inputs=[gr.Textbox(placeholder=\"Ask me a question\", label=\"Question\", lines=5, type=\"text\"),\n",
    "#         gr.UploadButton(label=\"Upload File\", file_types=[\".pdf\", \".csv\", \".doc\"])],\n",
    "#     outputs=gr.Chatbot(height=300),\n",
    "#     title=\"Chatbot\",\n",
    "#     description=\"Ask Chatbot any question\",\n",
    "#     theme=\"soft\",\n",
    "#     examples=[\n",
    "#         [\"What does AI stand for?\"],\n",
    "#         [\"What is Software Engineering?\"],\n",
    "#         [\"What is Cybersecurity?\"]\n",
    "#     ],\n",
    "#     cache_examples=False,\n",
    "# ).launch()\n",
    "\n",
    "gr.ChatInterface(\n",
    "    fn=chat_interface,\n",
    "    chatbot=gr.Chatbot(height=300),\n",
    "    textbox=gr.Textbox(placeholder=\"Ask me a question\", container=False, scale=7),\n",
    "    title=\"Chatbot\",\n",
    "    description=\"Ask Chatbot any question\",\n",
    "    theme=\"soft\",\n",
    "    examples=[\"What does AI stand for?\", \"What is Software Engineering?\", \"What is Cybersecurity?\"],\n",
    "    cache_examples=False,\n",
    "    retry_btn=None,\n",
    "    undo_btn=\"Delete Previous\",\n",
    "    clear_btn=\"Clear\",\n",
    ").launch()"
   ]
  },
  {
   "cell_type": "markdown",
   "metadata": {},
   "source": [
    "With some qa Chain"
   ]
  },
  {
   "cell_type": "code",
   "execution_count": null,
   "metadata": {},
   "outputs": [],
   "source": [
    "from langchain.chains import LLMChain, ConversationalRetrievalChain\n",
    "from langchain.chains.question_answering import load_qa_chain\n",
    "from langchain_community.llms.huggingface_pipeline import HuggingFacePipeline\n",
    "from transformers import pipeline\n",
    "from langchain.prompts import PromptTemplate\n",
    "\n",
    "template = \"\"\"Use the following pieces of context to answer the question at the end. If you don't know the answer, just say that you don't know, don't try to make up an answer.\n",
    "Answer professionally, to the best of your ability, and where appropriate, in a Computer Science educational context.\n",
    "Don't copy from the context.\n",
    "Context: {context}\n",
    "Question: {question}\n",
    "Helpful Answer:\"\"\"\n",
    "\n",
    "QA_CHAIN_PROMPT = PromptTemplate(\n",
    "        template=template, input_variables=[\"context\", \"question\"]\n",
    "    )\n",
    "chain_type_kwargs = {\"questionPrompt\": QA_CHAIN_PROMPT}\n",
    "\n",
    "qa_chain = load_qa_chain(llm, chain_type_kwargs=chain_type_kwargs)\n",
    "# qa = LLMChain(prompt=prompt, llm=llm)"
   ]
  },
  {
   "cell_type": "code",
   "execution_count": null,
   "metadata": {},
   "outputs": [],
   "source": [
    "import gradio as gr\n",
    "\n",
    "def chat_interface(textbox, chat):\n",
    "    retriever = db.as_retriever()\n",
    "    docs = retriever.get_relevant_documents(textbox)\n",
    "    context = docs[0].page_content\n",
    "\n",
    "    # query = f\"{context}\\nQuestion: {textbox}\\nHelpful Answer:\"\n",
    "    input_dict = {'question': textbox, 'context': context}\n",
    "    result = qa.invoke(input_dict)\n",
    "    print(result)\n",
    "    text = result['text']\n",
    "    answer = text.split('\\nHelpful Answer:')[1].strip()\n",
    "    return answer\n",
    "    \n",
    "gr.ChatInterface(\n",
    "    fn=chat_interface,\n",
    "    chatbot=gr.Chatbot(height=300),\n",
    "    textbox=gr.Textbox(placeholder=\"Ask me a question\", container=False, scale=7),\n",
    "    title=\"Chatbot\",\n",
    "    description=\"Ask Chatbot any question\",\n",
    "    theme=\"soft\",\n",
    "    examples=[\"What does AI stand for?\", \"What is Software Engineering?\", \"What is Cybersecurity?\"],\n",
    "    cache_examples=False,\n",
    "    retry_btn=None,\n",
    "    undo_btn=\"Delete Previous\",\n",
    "    clear_btn=\"Clear\",\n",
    ").launch()"
   ]
  },
  {
   "cell_type": "markdown",
   "metadata": {},
   "source": [
    "### T5"
   ]
  },
  {
   "cell_type": "code",
   "execution_count": null,
   "metadata": {},
   "outputs": [],
   "source": [
    "from transformers import AutoTokenizer, AutoModelForSeq2SeqLM, pipeline\n",
    "from langchain import HuggingFacePipeline\n",
    "model_name = \"google/flan-t5-small\"\n",
    "tokenizer = AutoTokenizer.from_pretrained(model_name)\n",
    "model = AutoModelForSeq2SeqLM.from_pretrained(model_name)\n",
    "\n",
    "pipe = pipeline(\n",
    "    \"text2text-generation\", \n",
    "    model=model_name, \n",
    "    tokenizer=tokenizer,\n",
    "    max_new_tokens = 200,\n",
    "    temperature = 0.1,\n",
    "    eos_token_id=tokenizer.eos_token_id,\n",
    "    do_sample=True\n",
    ")\n",
    "llm = HuggingFacePipeline(pipeline=pipe)"
   ]
  },
  {
   "cell_type": "code",
   "execution_count": null,
   "metadata": {},
   "outputs": [],
   "source": [
    "from langchain.prompts import PromptTemplate\n",
    "\n",
    "template = \"\"\"Use the following pieces of context to answer the question at the end. If you don't know the answer, just say that you don't know, don't try to make up an answer.\n",
    "{context}\n",
    "Question: {question}\n",
    "Helpful Answer:\"\"\"\n",
    "QA_CHAIN_PROMPT = PromptTemplate.from_template(template)"
   ]
  },
  {
   "cell_type": "code",
   "execution_count": null,
   "metadata": {},
   "outputs": [],
   "source": [
    "from langchain.chains import RetrievalQA \n",
    "retriever = db.as_retriever(search_kwargs={\"k\": 2})\n",
    "\n",
    "# qa = RetrievalQA.from_chain_type(   \n",
    "#   llm=llm,   \n",
    "#   chain_type=\"refine\",\n",
    "#   retriever=retriever, \n",
    "#   return_source_documents=True\n",
    "# )\n",
    "qa = RetrievalQA.from_chain_type(llm=llm, retriever=retriever, return_source_documents=False, chain_type_kwargs={\"prompt\": QA_CHAIN_PROMPT})\n",
    "print(qa)\n",
    "\n",
    "question = \"What skills should an AI solution analyst have?\"\n",
    "result = qa({\"query\": question})\n",
    "print(result[\"result\"])"
   ]
  },
  {
   "cell_type": "code",
   "execution_count": null,
   "metadata": {},
   "outputs": [],
   "source": [
    "import gradio as gr\n",
    "\n",
    "def chat_interface(textbox, chat):\n",
    "    retriever = db.as_retriever()\n",
    "    docs = retriever.get_relevant_documents(textbox)\n",
    "    context = docs[0].page_content\n",
    "\n",
    "    # query = f\"{context}\\nQuestion: {textbox}\\nHelpful Answer:\"\n",
    "    input_dict = {'question': textbox, 'context': context}\n",
    "    result = qa.invoke(input_dict)\n",
    "    print(result)\n",
    "    text = result['text']\n",
    "    answer = text.split('\\nHelpful Answer:')[1].strip()\n",
    "    return answer\n",
    "    \n",
    "gr.ChatInterface(\n",
    "    fn=chat_interface,\n",
    "    chatbot=gr.Chatbot(height=300),\n",
    "    textbox=gr.Textbox(placeholder=\"Ask me a question\", container=False, scale=7),\n",
    "    title=\"Chatbot\",\n",
    "    description=\"Ask Chatbot any question\",\n",
    "    theme=\"soft\",\n",
    "    examples=[\"What does AI stand for?\", \"What is Software Engineering?\", \"What is Cybersecurity?\"],\n",
    "    cache_examples=False,\n",
    "    retry_btn=None,\n",
    "    undo_btn=\"Delete Previous\",\n",
    "    clear_btn=\"Clear\",\n",
    ").launch()"
   ]
  },
  {
   "cell_type": "code",
   "execution_count": null,
   "metadata": {},
   "outputs": [],
   "source": [
    "import gradio as gr\n",
    "\n",
    "def chat_interface(textbox, chat):\n",
    "    # retriever = db.as_retriever()\n",
    "    # docs = r.get_relevant_documents(textbox)\n",
    "    # context_str = docs[0].page_content\n",
    "\n",
    "    # input_dict = {'question': textbox, 'context_str': context_str}\n",
    "    # docs = retriever.get_relevant_documents(textbox)\n",
    "\n",
    "    # query = f\"{context}\\nQuestion: {textbox}\\nHelpful Answer:\"\n",
    "    result = qa({'query': textbox})\n",
    "    docs = result.get(\"source_documents\", [])\n",
    "    print(docs)\n",
    "    return result[\"result\"]\n",
    "\n",
    "gr.ChatInterface(\n",
    "    fn=chat_interface,\n",
    "    chatbot=gr.Chatbot(height=300),\n",
    "    textbox=gr.Textbox(placeholder=\"Ask me a question\", container=False, scale=7),\n",
    "    title=\"Chatbot\",\n",
    "    description=\"Ask Chatbot any question\",\n",
    "    theme=\"soft\",\n",
    "    examples=[\"What does AI stand for?\", \"What is Software Engineering?\", \"What is Cybersecurity?\"],\n",
    "    cache_examples=False,\n",
    "    retry_btn=None,\n",
    "    undo_btn=\"Delete Previous\",\n",
    "    clear_btn=\"Clear\",\n",
    ").launch()"
   ]
  },
  {
   "cell_type": "code",
   "execution_count": null,
   "metadata": {},
   "outputs": [],
   "source": []
  },
  {
   "cell_type": "markdown",
   "metadata": {},
   "source": [
    "## Fine Tuning"
   ]
  },
  {
   "cell_type": "code",
   "execution_count": null,
   "metadata": {},
   "outputs": [],
   "source": [
    "# MAYBE DO THIS FIRST? AND SEE THE DOWNSIDE, AND LEARN THAT IT IS NOT REQUIRED (doesn't solve hallucinations and timely context!)\n",
    "# Fine-tune with input and output example data sets\n",
    "\n",
    "# Compare with different models (one fine-tuned one just pre-trained)"
   ]
  },
  {
   "cell_type": "markdown",
   "metadata": {},
   "source": [
    "### Evaluation"
   ]
  },
  {
   "cell_type": "code",
   "execution_count": null,
   "metadata": {},
   "outputs": [],
   "source": [
    "# Load test set\n",
    "# Find that fine-tuning is not needed?"
   ]
  },
  {
   "cell_type": "markdown",
   "metadata": {},
   "source": [
    "## Full adapted model (combined of all approaches)"
   ]
  },
  {
   "cell_type": "code",
   "execution_count": null,
   "metadata": {},
   "outputs": [],
   "source": [
    "# Knowledge retrieved\n",
    "# Augmented Prompt\n",
    "# Fine-tuned/pre-trained LLM\n",
    "\n",
    "import gradio as gr\n",
    "def chat_interface(textbox, chat):\n",
    "    # docs = db.similarity_search(textbox)\n",
    "    # input_dict = {'question': textbox, 'input_documents': docs }\n",
    "    input_dict = {'question': textbox}\n",
    "    response = llm_chain.run(input_dict)\n",
    "\n",
    "    print(\"user:\", textbox)\n",
    "    print(\"bot:\", response)\n",
    "    return response\n",
    "\n",
    "gr.ChatInterface(\n",
    "    fn=chat_interface,\n",
    "    chatbot=gr.Chatbot(height=300),\n",
    "    textbox=gr.Textbox(placeholder=\"Ask me a question\", container=False, scale=7),\n",
    "    title=\"Chatbot\",\n",
    "    description=\"Ask Chatbot any question\",\n",
    "    theme=\"soft\",\n",
    "    examples=[\"What does AI stand for?\", \"What is Software Engineering?\", \"What is Cybersecurity?\"],\n",
    "    cache_examples=False,\n",
    "    retry_btn=None,\n",
    "    undo_btn=\"Delete Previous\",\n",
    "    clear_btn=\"Clear\",\n",
    ").launch()"
   ]
  },
  {
   "cell_type": "code",
   "execution_count": null,
   "metadata": {},
   "outputs": [],
   "source": []
  }
 ],
 "metadata": {
  "kernelspec": {
   "display_name": "venv",
   "language": "python",
   "name": "venv"
  },
  "language_info": {
   "codemirror_mode": {
    "name": "ipython",
    "version": 3
   },
   "file_extension": ".py",
   "mimetype": "text/x-python",
   "name": "python",
   "nbconvert_exporter": "python",
   "pygments_lexer": "ipython3",
   "version": "3.11.0"
  }
 },
 "nbformat": 4,
 "nbformat_minor": 2
}
