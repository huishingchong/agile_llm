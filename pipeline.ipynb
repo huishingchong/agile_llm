{
 "cells": [
  {
   "cell_type": "markdown",
   "metadata": {},
   "source": [
    "# RAG Pipeline"
   ]
  },
  {
   "cell_type": "markdown",
   "metadata": {},
   "source": [
    "## Set up\n",
    "### Import Packages and API keys "
   ]
  },
  {
   "cell_type": "code",
   "execution_count": 1,
   "metadata": {},
   "outputs": [],
   "source": [
    "# !pip install transformers datasets torch langchain-community faiss-cpu sentence-transformers\n",
    "from getpass import getpass\n",
    "from dotenv import load_dotenv\n",
    "import os\n",
    "from pathlib import Path\n",
    "\n",
    "env_path = Path('.') / '.env'\n",
    "load_dotenv(dotenv_path=env_path)\n",
    "\n",
    "huggingface_api_token = os.getenv('HUGGINGFACEHUB_API_TOKEN')\n",
    "\n",
    "if not huggingface_api_token:\n",
    "    huggingface_api_token = getpass(\"Enter your Hugging Face Hub API token: \")"
   ]
  },
  {
   "cell_type": "markdown",
   "metadata": {},
   "source": [
    "### Model selection"
   ]
  },
  {
   "cell_type": "code",
   "execution_count": null,
   "metadata": {},
   "outputs": [],
   "source": [
    "from langchain_community.llms import HuggingFaceHub\n",
    "from transformers import AutoTokenizer, AutoModelForCausalLM\n",
    "\n",
    "# tokenizer = AutoTokenizer.from_pretrained(\"tiiuae/falcon-7b-instruct\")\n",
    "# model = AutoModelForCausalLM.from_pretrained(\"tiiuae/falcon-7b-instruct\")\n",
    "\n",
    "# I will be using T5 model from open source huggingface library\n",
    "# model_name = \"mistralai/Mistral-7B-v0.1\"\n",
    "# model_name = \"mistralai/Mistral-7B-Instruct-v0.1\"\n",
    "\n",
    "model_name = \"tiiuae/falcon-7b-instruct\"\n",
    "# model_name = \"tiiuae/falcon-7b\"\n",
    "\n",
    "llm = HuggingFaceHub(repo_id=model_name, model_kwargs={\"temperature\":0.5, \"max_length\":1024, \"max_new_tokens\":200})"
   ]
  },
  {
   "cell_type": "markdown",
   "metadata": {},
   "source": [
    "## RAG from synthetic data set"
   ]
  },
  {
   "cell_type": "markdown",
   "metadata": {},
   "source": [
    "### Set up embeddings and documents to retrieve from"
   ]
  },
  {
   "cell_type": "code",
   "execution_count": 2,
   "metadata": {},
   "outputs": [
    {
     "name": "stderr",
     "output_type": "stream",
     "text": [
      "/Users/huishingchong/agile_llm/venv/lib/python3.11/site-packages/tqdm/auto.py:21: TqdmWarning: IProgress not found. Please update jupyter and ipywidgets. See https://ipywidgets.readthedocs.io/en/stable/user_install.html\n",
      "  from .autonotebook import tqdm as notebook_tqdm\n",
      "/Users/huishingchong/agile_llm/venv/lib/python3.11/site-packages/torch/_utils.py:831: UserWarning: TypedStorage is deprecated. It will be removed in the future and UntypedStorage will be the only storage class. This should only matter to you if you are using storages directly.  To access UntypedStorage directly, use tensor.untyped_storage() instead of tensor.storage()\n",
      "  return self.fget.__get__(instance, owner)()\n"
     ]
    },
    {
     "name": "stdout",
     "output_type": "stream",
     "text": [
      "Prompt: AI solutions analyst\n",
      "Output: Job Description:\n",
      "As an AI Solutions Analyst, you will play a crucial role in driving organizational transformations for medium- and large-scale businesses by documenting, analyzing, and improving business processes. You will work within projects to map as-is processes to to-be processes, aligning them with the future operating model. Acting as a liaison between clients and project teams, you will coordinate and collaborate with stakeholders during workshops and contribute to the design and support of ongoing solutions post-transition. Additionally, you will collaborate with teammates on the analysis and design of complex business applications using the latest technologies, ensuring successful delivery of business solutions.\n",
      "Responsibilities:\n",
      "Document and analyze as-is processes (functional specs and user stories) and make recommendations for improvement by mapping to-be business processes aligned with the future operating model.\n"
     ]
    }
   ],
   "source": [
    "# Use langchain packages to help with implementing retrieval augmentation generation\n",
    "from datasets import load_dataset\n",
    "from langchain.document_loaders.csv_loader import CSVLoader\n",
    "from langchain_community.embeddings import HuggingFaceEmbeddings\n",
    "from langchain.text_splitter import CharacterTextSplitter, RecursiveCharacterTextSplitter\n",
    "from langchain_community.vectorstores import FAISS\n",
    "from sentence_transformers import SentenceTransformer\n",
    "# from langchain_core.prompts import ChatPromptTemplate\n",
    "# from langchain_core.runnables import RunnablePassthrough\n",
    "# from langchain_core.output_parsers import StrOutputParser\n",
    "\n",
    "# Step 1: Load data for retrieval\n",
    "loader = CSVLoader(file_path=\"rag_sample.csv\")\n",
    "documents = loader.load()  \n",
    "\n",
    "# Step 2: Split Documents\n",
    "text_split = RecursiveCharacterTextSplitter(chunk_size=1000, chunk_overlap=50)\n",
    "# text_split = CharacterTextSplitter(chunk_size=1000, chunk_overlap=0)\n",
    "d = text_split.split_documents(documents)\n",
    "\n",
    "# Step 3: Create a FAISS Index\n",
    "modelPath = \"sentence-transformers/gtr-t5-base\" # Use a t5 sentence transformer model that maps sentences & paragraphs to a 768 dimensional dense vector space\n",
    "model_kwargs = {'device':'cpu'}\n",
    "encode_kwargs = {'normalize_embeddings': True} # Normalizing embeddings can help improve similarity metrics by ensuring that embeddings magnitude does not affect the similarity scores\n",
    "\n",
    "# Initialize an instance of HuggingFaceEmbeddings\n",
    "embeddings = HuggingFaceEmbeddings(\n",
    "    model_name=modelPath,\n",
    "    model_kwargs=model_kwargs,\n",
    "    encode_kwargs=encode_kwargs\n",
    ")\n",
    "\n",
    "db = FAISS.from_documents(d, embedding=embeddings)\n",
    "\n",
    "# just checking\n",
    "r = db.as_retriever()\n",
    "docs = r.get_relevant_documents(\"What skills should an AI solution analyst have?\")\n",
    "print(docs[0].page_content)"
   ]
  },
  {
   "cell_type": "markdown",
   "metadata": {},
   "source": [
    "### Specify model: Falcon"
   ]
  },
  {
   "cell_type": "code",
   "execution_count": 3,
   "metadata": {},
   "outputs": [],
   "source": [
    "from langchain_community.llms import HuggingFaceHub\n",
    "from langchain_community.llms.huggingface_pipeline import HuggingFacePipeline\n",
    "from langchain.chains import RetrievalQA\n",
    "from transformers import AutoTokenizer, AutoModelForCausalLM, pipeline\n",
    "from langchain.prompts import PromptTemplate\n",
    "\n",
    "model_name = \"tiiuae/falcon-7b-instruct\"\n",
    "# model_name = \"tiiuae/falcon-7b\"\n",
    "\n",
    "tokenizer = AutoTokenizer.from_pretrained(model_name)\n",
    "# llm = AutoModelForCausalLM.from_pretrained(model_name, trust_remote_code=True)\n",
    "\n",
    "#Define a text generation pipeline using the model and tokenizer\n",
    "# hf = pipeline(\n",
    "#     \"text-generation\", \n",
    "#     model=model_name, \n",
    "#     tokenizer=tokenizer,\n",
    "#     max_new_tokens = 200,\n",
    "#     temperature = 0.1,\n",
    "#     eos_token_id=tokenizer.eos_token_id,\n",
    "#     do_sample=True\n",
    "# )\n",
    "# llm = HuggingFacePipeline(pipeline=hf)\n",
    "llm = HuggingFaceHub(repo_id=model_name, model_kwargs={\"temperature\":0.5, \"max_length\":1024, \"max_new_tokens\":200})\n",
    "# https://medium.com/international-school-of-ai-data-science/implementing-rag-with-langchain-and-hugging-face-28e3ea66c5f7\n",
    "\n",
    "# TO DELETE CACHE: huggingface-cli delete-cache"
   ]
  },
  {
   "cell_type": "markdown",
   "metadata": {},
   "source": [
    "RetrievalQA"
   ]
  },
  {
   "cell_type": "code",
   "execution_count": 4,
   "metadata": {},
   "outputs": [],
   "source": [
    "from langchain.prompts import PromptTemplate\n",
    "\n",
    "template = \"\"\"Use the following pieces of context to answer the question at the end. If you don't know the answer, just say that you don't know, don't try to make up an answer.\n",
    "Answer professionally, to the best of your ability, and where appropriate, in a Computer Science educational context.\n",
    "Use the context and be specific as you can.\n",
    "Context: {context}\n",
    "Question: {question}\n",
    "Helpful Answer:\"\"\"\n",
    "QA_CHAIN_PROMPT = PromptTemplate(template=template, input_variables=[\"context\", \"question\"])"
   ]
  },
  {
   "cell_type": "code",
   "execution_count": 5,
   "metadata": {},
   "outputs": [
    {
     "name": "stdout",
     "output_type": "stream",
     "text": [
      "\n",
      "\n",
      "\u001b[1m> Entering new RetrievalQA chain...\u001b[0m\n",
      "\n",
      "\u001b[1m> Finished chain.\u001b[0m\n",
      "{'query': 'What skills should an AI solution analyst have?', 'result': \"Use the following pieces of context to answer the question at the end. If you don't know the answer, just say that you don't know, don't try to make up an answer.\\nAnswer professionally, to the best of your ability, and where appropriate, in a Computer Science educational context.\\nUse the context and be specific as you can.\\nContext: Prompt: AI solutions analyst\\nOutput: Job Description:\\nAs an AI Solutions Analyst, you will play a crucial role in driving organizational transformations for medium- and large-scale businesses by documenting, analyzing, and improving business processes. You will work within projects to map as-is processes to to-be processes, aligning them with the future operating model. Acting as a liaison between clients and project teams, you will coordinate and collaborate with stakeholders during workshops and contribute to the design and support of ongoing solutions post-transition. Additionally, you will collaborate with teammates on the analysis and design of complex business applications using the latest technologies, ensuring successful delivery of business solutions.\\nResponsibilities:\\nDocument and analyze as-is processes (functional specs and user stories) and make recommendations for improvement by mapping to-be business processes aligned with the future operating model.\\n\\nOutput: Job Description:\\nWe are seeking a talented Data & AI Solution Architect to join our team. In this role, you will work closely with delivery teams and client stakeholders to provide technical leadership, drive architectural decisions, shape deals and propositions, create plans and roadmaps, and produce design artifacts. You will assist clients in their journey to Microsoft Azure or leverage their existing investment in it, with a significant focus on applying cloud architectural patterns and migration strategies. As a senior member of our technical community, you will provide coaching and mentoring to motivate and inspire more junior colleagues. Additionally, you will engage in early conversations with clients and sales teams, support origination and deal qualification, and become a trusted advisor throughout the sales process. Collaborating with other Solution Architects and SMEs, you will define solutions, drive them from conception to close, and articulate deal pricing.\\n\\nAbility to conduct and coordinate risk assessments to identify vulnerabilities and develop mitigation strategies.\\nStrong communication and stakeholder management skills, with the ability to engage with C-Suite stakeholders effectively.\\n\\nWork within projects driving organizational transformations for medium- and large-scale businesses.\\nLiaise between the client and a team consisting of SMEs, C-suite executives, Experience Designers, Product Managers, Consultant Developers, and QA.\\nCoordinate and collaborate with all project stakeholders during workshops.\\nCollaborate with teammates on the analysis and design of complex business applications using the latest technologies.\\nCreate and review test cases, coordinate with business stakeholders and end-users for user acceptance.\\nContribute to the design of ongoing solutions and provide user support required after transition.\\nWork across multiple projects or smaller pieces of work to support the AI function when workflow is lighter.\\nSkills and Qualifications Required:\\nMaster’s/Bachelor’s degree in Engineering (Computer Science).\\nProven track record of working with various geographically dispersed technical teams to deliver requirements and provide solutions.\\nQuestion: What skills should an AI solution analyst have?\\nHelpful Answer:\\nAI solution analysts should have strong technical skills in machine learning, data science, and database design. They should also have excellent communication and collaboration skills, as well as the ability to work with a variety of stakeholders. Additionally, they should be able to develop and present solutions to complex business problems.\", 'source_documents': [Document(page_content='Prompt: AI solutions analyst\\nOutput: Job Description:\\nAs an AI Solutions Analyst, you will play a crucial role in driving organizational transformations for medium- and large-scale businesses by documenting, analyzing, and improving business processes. You will work within projects to map as-is processes to to-be processes, aligning them with the future operating model. Acting as a liaison between clients and project teams, you will coordinate and collaborate with stakeholders during workshops and contribute to the design and support of ongoing solutions post-transition. Additionally, you will collaborate with teammates on the analysis and design of complex business applications using the latest technologies, ensuring successful delivery of business solutions.\\nResponsibilities:\\nDocument and analyze as-is processes (functional specs and user stories) and make recommendations for improvement by mapping to-be business processes aligned with the future operating model.', metadata={'source': 'rag_sample.csv', 'row': 11}), Document(page_content='Output: Job Description:\\nWe are seeking a talented Data & AI Solution Architect to join our team. In this role, you will work closely with delivery teams and client stakeholders to provide technical leadership, drive architectural decisions, shape deals and propositions, create plans and roadmaps, and produce design artifacts. You will assist clients in their journey to Microsoft Azure or leverage their existing investment in it, with a significant focus on applying cloud architectural patterns and migration strategies. As a senior member of our technical community, you will provide coaching and mentoring to motivate and inspire more junior colleagues. Additionally, you will engage in early conversations with clients and sales teams, support origination and deal qualification, and become a trusted advisor throughout the sales process. Collaborating with other Solution Architects and SMEs, you will define solutions, drive them from conception to close, and articulate deal pricing.', metadata={'source': 'rag_sample.csv', 'row': 4}), Document(page_content='Ability to conduct and coordinate risk assessments to identify vulnerabilities and develop mitigation strategies.\\nStrong communication and stakeholder management skills, with the ability to engage with C-Suite stakeholders effectively.', metadata={'source': 'rag_sample.csv', 'row': 5}), Document(page_content='Work within projects driving organizational transformations for medium- and large-scale businesses.\\nLiaise between the client and a team consisting of SMEs, C-suite executives, Experience Designers, Product Managers, Consultant Developers, and QA.\\nCoordinate and collaborate with all project stakeholders during workshops.\\nCollaborate with teammates on the analysis and design of complex business applications using the latest technologies.\\nCreate and review test cases, coordinate with business stakeholders and end-users for user acceptance.\\nContribute to the design of ongoing solutions and provide user support required after transition.\\nWork across multiple projects or smaller pieces of work to support the AI function when workflow is lighter.\\nSkills and Qualifications Required:\\nMaster’s/Bachelor’s degree in Engineering (Computer Science).\\nProven track record of working with various geographically dispersed technical teams to deliver requirements and provide solutions.', metadata={'source': 'rag_sample.csv', 'row': 11})]}\n",
      "AI solution analysts should have strong technical skills in machine learning, data science, and database design. They should also have excellent communication and collaboration skills, as well as the ability to work with a variety of stakeholders. Additionally, they should be able to develop and present solutions to complex business problems.\n"
     ]
    }
   ],
   "source": [
    "from langchain.chains import RetrievalQA, RetrievalQAWithSourcesChain\n",
    "# retriever = db.as_retriever(search_kwargs={\"k\": 2})\n",
    "retriever = db.as_retriever()\n",
    "qa = RetrievalQA.from_chain_type(llm=llm, retriever=retriever, return_source_documents=True, chain_type_kwargs={\"prompt\": QA_CHAIN_PROMPT})\n",
    "# qa = RetrievalQAWithSourcesChain.from_chain_type(llm=llm, chain_type=\"refine\", retriever=retriever, return_source_documents=False)\n",
    "qa.verbose=True\n",
    "question = \"What skills should an AI solution analyst have?\"\n",
    "result = qa.invoke({\"query\": question})\n",
    "print(result)\n",
    "print(result[\"result\"].split('\\nHelpful Answer:')[1].strip())\n",
    "\n",
    "# Need to be on all the documents?\n"
   ]
  },
  {
   "cell_type": "code",
   "execution_count": 6,
   "metadata": {},
   "outputs": [
    {
     "name": "stdout",
     "output_type": "stream",
     "text": [
      "Running on local URL:  http://127.0.0.1:7860\n",
      "\n",
      "To create a public link, set `share=True` in `launch()`.\n"
     ]
    },
    {
     "data": {
      "text/html": [
       "<div><iframe src=\"http://127.0.0.1:7860/\" width=\"100%\" height=\"500\" allow=\"autoplay; camera; microphone; clipboard-read; clipboard-write;\" frameborder=\"0\" allowfullscreen></iframe></div>"
      ],
      "text/plain": [
       "<IPython.core.display.HTML object>"
      ]
     },
     "metadata": {},
     "output_type": "display_data"
    },
    {
     "data": {
      "text/plain": []
     },
     "execution_count": 6,
     "metadata": {},
     "output_type": "execute_result"
    },
    {
     "name": "stdout",
     "output_type": "stream",
     "text": [
      "\n",
      "\n",
      "\u001b[1m> Entering new RetrievalQA chain...\u001b[0m\n",
      "\n",
      "\u001b[1m> Finished chain.\u001b[0m\n",
      "{'query': 'What skills should a cybersecurity analyst have?', 'result': \"Use the following pieces of context to answer the question at the end. If you don't know the answer, just say that you don't know, don't try to make up an answer.\\nAnswer professionally, to the best of your ability, and where appropriate, in a Computer Science educational context.\\nUse the context and be specific as you can.\\nContext: Prompt: Cybersecurity Analyst\\nOutput: Job Description:\\nWe are seeking a skilled Cybersecurity Analyst to join our team. The ideal candidate will be responsible for monitoring, detecting, and responding to security incidents to protect our organization's systems and data. You will analyze security threats, conduct risk assessments, and implement security controls to mitigate vulnerabilities. The role requires strong analytical skills, attention to detail, and a deep understanding of cybersecurity principles and practices.\\n\\nResponsibilities:\\nConsult, advise, and build cybersecurity roadmaps and strategies for clients within the Governmental sector.\\nEngage with C-Suite stakeholders to discuss risks, threat landscapes, and mitigation/control strategies.\\nLead cybersecurity transformation and implementation for Maritime clients, including both Navy and commercial Maritime sectors.\\nDesign and define cyber risk improvement plans, applying technical and non-technical security controls and policies.\\nManage remediation planning and advise on improvements to enhance cybersecurity posture.\\nConduct and coordinate risk assessments to identify vulnerabilities and develop mitigation strategies.\\nSkills and Qualifications:\\nExperience with cybersecurity, IT delivery, and change management.\\nExperience in analyzing cybersecurity risks and building improvement strategies, roadmaps, processes, controls, and policies.\\nExperience in cyber defence program delivery and managing cybersecurity transformation projects.\\n\\nAbility to conduct and coordinate risk assessments to identify vulnerabilities and develop mitigation strategies.\\nStrong communication and stakeholder management skills, with the ability to engage with C-Suite stakeholders effectively.\\n\\nResponsibilities:\\n- Monitor security alerts and logs to identify potential threats and vulnerabilities.\\n- Investigate security incidents, analyze attack vectors, and recommend remediation measures.\\n- Conduct vulnerability assessments and penetration tests to identify weaknesses in systems and networks.\\n- Develop and maintain security policies, procedures, and documentation.\\n- Collaborate with IT teams to implement security solutions and best practices.\\n- Stay updated with the latest cybersecurity threats, trends, and technologies.\\nQuestion: What skills should a cybersecurity analyst have?\\nHelpful Answer:\\nA cybersecurity analyst should have strong analytical skills, attention to detail, and a deep understanding of cybersecurity principles and practices. They should also have good communication and stakeholder management skills, as well as the ability to stay updated with the latest cybersecurity threats, trends, and technologies.\", 'source_documents': [Document(page_content=\"Prompt: Cybersecurity Analyst\\nOutput: Job Description:\\nWe are seeking a skilled Cybersecurity Analyst to join our team. The ideal candidate will be responsible for monitoring, detecting, and responding to security incidents to protect our organization's systems and data. You will analyze security threats, conduct risk assessments, and implement security controls to mitigate vulnerabilities. The role requires strong analytical skills, attention to detail, and a deep understanding of cybersecurity principles and practices.\", metadata={'source': 'rag_sample.csv', 'row': 2}), Document(page_content='Responsibilities:\\nConsult, advise, and build cybersecurity roadmaps and strategies for clients within the Governmental sector.\\nEngage with C-Suite stakeholders to discuss risks, threat landscapes, and mitigation/control strategies.\\nLead cybersecurity transformation and implementation for Maritime clients, including both Navy and commercial Maritime sectors.\\nDesign and define cyber risk improvement plans, applying technical and non-technical security controls and policies.\\nManage remediation planning and advise on improvements to enhance cybersecurity posture.\\nConduct and coordinate risk assessments to identify vulnerabilities and develop mitigation strategies.\\nSkills and Qualifications:\\nExperience with cybersecurity, IT delivery, and change management.\\nExperience in analyzing cybersecurity risks and building improvement strategies, roadmaps, processes, controls, and policies.\\nExperience in cyber defence program delivery and managing cybersecurity transformation projects.', metadata={'source': 'rag_sample.csv', 'row': 5}), Document(page_content='Ability to conduct and coordinate risk assessments to identify vulnerabilities and develop mitigation strategies.\\nStrong communication and stakeholder management skills, with the ability to engage with C-Suite stakeholders effectively.', metadata={'source': 'rag_sample.csv', 'row': 5}), Document(page_content='Responsibilities:\\n- Monitor security alerts and logs to identify potential threats and vulnerabilities.\\n- Investigate security incidents, analyze attack vectors, and recommend remediation measures.\\n- Conduct vulnerability assessments and penetration tests to identify weaknesses in systems and networks.\\n- Develop and maintain security policies, procedures, and documentation.\\n- Collaborate with IT teams to implement security solutions and best practices.\\n- Stay updated with the latest cybersecurity threats, trends, and technologies.', metadata={'source': 'rag_sample.csv', 'row': 2})]}\n",
      "\n",
      "\n",
      "\u001b[1m> Entering new RetrievalQA chain...\u001b[0m\n",
      "\n",
      "\u001b[1m> Finished chain.\u001b[0m\n",
      "{'query': 'List software that a cybersecurtist need to know how to use?', 'result': \"Use the following pieces of context to answer the question at the end. If you don't know the answer, just say that you don't know, don't try to make up an answer.\\nAnswer professionally, to the best of your ability, and where appropriate, in a Computer Science educational context.\\nUse the context and be specific as you can.\\nContext: Prompt: Cybersecurity Advisor\\nOutput: Job Description:\\nWe are seeking a Cybersecurity Advisor to join our team, working with a leading organization in the field of cybersecurity/cyber defence dedicated to safeguarding digital assets and infrastructure within the Governmental sector. As part of our rapidly growing team, you will lead client engagements, consulting, advising, and building cybersecurity roadmaps and strategies. You will engage with C-Suite stakeholders to discuss risks, current threat landscapes, and articulate mitigations/controls and their impacts on risk reduction. Additionally, you will manage and lead cybersecurity transformation and implementation for Maritime clients, design and define cyber risk improvement plans, apply a high-level knowledge of technical and non-technical security controls and policies, and manage remediation planning while advising on improvements.\\nResponsibilities:\\n\\nParticipate in the creation of RFI/RFP documentation and assessment of bid responses from external technology vendors.\\nContribute to the evolution and delivery of the IT strategy, working with IT stakeholders.\\nPerform threat modeling of solutions to identify threats and countermeasures, articulating them in both technical and non-technical terms.\\nDefine secure technical patterns for newly identified components and verify them through testing.\\nSkills and Experience:\\nGood understanding of cloud security controls and tooling, preferably in AWS, GCP, or Azure.\\nUnderstanding of secure coding and application design principles.\\nKnowledge of the e-commerce threat landscape and experience applying relevant controls to mitigate those threats.\\nExperience building strong security governance into guardrails and applying security controls iteratively in an agile/DevSecOps environment.\\nExcellent communication and interpersonal skills.\\n\\nPrompt: Cybersecurity Analyst\\nOutput: Job Description:\\nWe are seeking a skilled Cybersecurity Analyst to join our team. The ideal candidate will be responsible for monitoring, detecting, and responding to security incidents to protect our organization's systems and data. You will analyze security threats, conduct risk assessments, and implement security controls to mitigate vulnerabilities. The role requires strong analytical skills, attention to detail, and a deep understanding of cybersecurity principles and practices.\\n\\nSkills and Qualifications:\\n- Knowledge of cybersecurity principles, practices, and frameworks (e.g., NIST, ISO 27001).\\n- Experience with security tools such as SIEM, IDS/IPS, antivirus, and vulnerability scanners.\\n- Strong understanding of networking protocols, operating systems, and cloud environments.\\n- Proficiency in scripting or programming languages (e.g., Python, PowerShell) for automation.\\n- Excellent communication and teamwork skills.\\n- Relevant certifications such as CISSP, CEH, or CompTIA Security+ are a plus.\\n- Bachelor's degree in Computer Science, Information Security, or related field.\\nQuestion: List software that a cybersecurtist need to know how to use?\\nHelpful Answer:\\n- Microsoft Office (e.g., Word, Excel, PowerPoint)\\n- Adobe Creative Suite (e.g., Photoshop, Illustrator, Premiere)\\n- Antivirus/anti-malware software (e.g., Kaspersky, Bitdefender, McAfee)\\n- Firewall (e.g., Palo Alto, Fortinet)\\n- Intrusion detection/prevention systems (e.g., Splunk, ELK stack)\\n- Database management systems (e.g., MySQL, PostgreSQL)\\n- Network monitoring tools (e.g., Wireshark, tcpdump)\\n- PowerShell (e.g., cmdlets, scripts)\\n- GSuite, O365, or other email service providers\\n- Linux/Unix systems (e.g., RHEL, Ubuntu, CentOS)\\n- Splunk, ELK stack\\n- GSuite, O365,\", 'source_documents': [Document(page_content='Prompt: Cybersecurity Advisor\\nOutput: Job Description:\\nWe are seeking a Cybersecurity Advisor to join our team, working with a leading organization in the field of cybersecurity/cyber defence dedicated to safeguarding digital assets and infrastructure within the Governmental sector. As part of our rapidly growing team, you will lead client engagements, consulting, advising, and building cybersecurity roadmaps and strategies. You will engage with C-Suite stakeholders to discuss risks, current threat landscapes, and articulate mitigations/controls and their impacts on risk reduction. Additionally, you will manage and lead cybersecurity transformation and implementation for Maritime clients, design and define cyber risk improvement plans, apply a high-level knowledge of technical and non-technical security controls and policies, and manage remediation planning while advising on improvements.\\nResponsibilities:', metadata={'source': 'rag_sample.csv', 'row': 5}), Document(page_content='Participate in the creation of RFI/RFP documentation and assessment of bid responses from external technology vendors.\\nContribute to the evolution and delivery of the IT strategy, working with IT stakeholders.\\nPerform threat modeling of solutions to identify threats and countermeasures, articulating them in both technical and non-technical terms.\\nDefine secure technical patterns for newly identified components and verify them through testing.\\nSkills and Experience:\\nGood understanding of cloud security controls and tooling, preferably in AWS, GCP, or Azure.\\nUnderstanding of secure coding and application design principles.\\nKnowledge of the e-commerce threat landscape and experience applying relevant controls to mitigate those threats.\\nExperience building strong security governance into guardrails and applying security controls iteratively in an agile/DevSecOps environment.\\nExcellent communication and interpersonal skills.', metadata={'source': 'rag_sample.csv', 'row': 7}), Document(page_content=\"Prompt: Cybersecurity Analyst\\nOutput: Job Description:\\nWe are seeking a skilled Cybersecurity Analyst to join our team. The ideal candidate will be responsible for monitoring, detecting, and responding to security incidents to protect our organization's systems and data. You will analyze security threats, conduct risk assessments, and implement security controls to mitigate vulnerabilities. The role requires strong analytical skills, attention to detail, and a deep understanding of cybersecurity principles and practices.\", metadata={'source': 'rag_sample.csv', 'row': 2}), Document(page_content=\"Skills and Qualifications:\\n- Knowledge of cybersecurity principles, practices, and frameworks (e.g., NIST, ISO 27001).\\n- Experience with security tools such as SIEM, IDS/IPS, antivirus, and vulnerability scanners.\\n- Strong understanding of networking protocols, operating systems, and cloud environments.\\n- Proficiency in scripting or programming languages (e.g., Python, PowerShell) for automation.\\n- Excellent communication and teamwork skills.\\n- Relevant certifications such as CISSP, CEH, or CompTIA Security+ are a plus.\\n- Bachelor's degree in Computer Science, Information Security, or related field.\", metadata={'source': 'rag_sample.csv', 'row': 2})]}\n",
      "\n",
      "\n",
      "\u001b[1m> Entering new RetrievalQA chain...\u001b[0m\n",
      "\n",
      "\u001b[1m> Finished chain.\u001b[0m\n",
      "{'query': 'I want to make course about practical skills for Software Engineering. Give me topics about different in-demand skill sets needed for a Software Engineer.', 'result': \"Use the following pieces of context to answer the question at the end. If you don't know the answer, just say that you don't know, don't try to make up an answer.\\nAnswer professionally, to the best of your ability, and where appropriate, in a Computer Science educational context.\\nUse the context and be specific as you can.\\nContext: Prompt: Software Engineer\\nOutput: Job Description:\\nWe are looking for a highly motivated Software Engineer to join our team. As a Software Engineer, you will be responsible for designing, developing, and maintaining software applications. You will work closely with cross-functional teams to understand requirements, architect solutions, and deliver high-quality code. The role requires strong problem-solving skills, attention to detail, and a passion for building scalable and robust software systems.\\n\\nPrompt: Software Engineer\\nOutput: Job Description:\\nWe are looking for a Software Engineer to join our team. In this role, you will work alongside other engineers to configure, develop, and manage the deployment of intricate enterprise software solutions. You will have the opportunity to use your programming skills, innovation, and engineering expertise to implement new ideas, develop tools and applications, and improve project methodologies. As part of our team, you will apply Lean/Agile methodologies, understand Software Development Life Cycle (SDLC), utilize CI/CD pipelines, ensure quality and scalability, document and standardize processes, and employ effective testing techniques and issue resolution strategies. Effective communication and interpersonal skills are essential as you will interact with colleagues, customers, and stakeholders on a daily basis.\\nResponsibilities:\\nCollaborate on Smallworld projects, configuring, developing, and managing software solutions.\\n\\nPrompt: Full stack software engineer\\nOutput: Job Description:\\nAs a Full Stack Software Engineer, you will participate in various aspects of the software development lifecycle, including design, code implementation, testing, and support. Your primary focus will be creating software solutions that support clients' hybrid-cloud and AI journeys, utilizing the latest technologies to ensure high performance, availability, responsiveness, and maintainability.\\nResponsibilities:\\nAnalyze, validate, and propose improvements to existing failures, collaborating with the architect and technical leader.\\nParticipate in every step of the development process, from design to testing, release changes, and troubleshooting, ensuring excellent customer service.\\nDrive discussions with stakeholders and analyze the current landscape to identify opportunities for creative solutions.\\nSkills and Qualifications:\\nBackend or full stack development experience.\\nProficiency in JavaScript and NodeJS.\\n\\nUtilize programming skills and engineering expertise to implement new ideas and improve project methodologies.\\nApply Lean/Agile methodologies and SDLC principles to project activities.\\nUse CI/CD pipelines to ensure quality and scalability of software solutions.\\nDocument processes, standardize procedures, and employ effective testing techniques.\\nInteract with colleagues, customers, and stakeholders, demonstrating effective communication and interpersonal skills.\\nSkills and Qualifications:\\nBachelor's degree in Software Engineering, Computer Science, IT, Electronics and Electrical Engineering, or similar.\\nFamiliarity with Unix/Linux/Windows environments.\\nExperience programming in Python, Java, or JavaScript.\\nUnderstanding of Object-Oriented Programming (OOP) concepts.\\nKnowledge of GeoSpatial solutions and databases (SQL, Oracle).\\nUnderstanding of DevOps tools like GitHub, Jenkins, Docker, Ansible, Kubernetes, etc.\\nFamiliarity with Agile Methodology.\\nQuestion: I want to make course about practical skills for Software Engineering. Give me topics about different in-demand skill sets needed for a Software Engineer.\\nHelpful Answer:\\n<p>Software Engineering is a field that requires a range of technical and non-technical skills. Some of the most in-demand skill sets needed for a Software Engineer include:</p>\\n\\n<ul>\\n<li>Programming: languages like C++, Java, and Python are essential for Software Engineers to understand and use.</li>\\n<li>Data Structures and Algorithms: understanding data structures and algorithms is necessary for Software Engineers to design and develop software solutions.</li>\\n<li>Debugging and Testing: Software Engineers need to be able to debug and test software solutions to ensure they are working correctly.</li>\\n<li>Communication and Interpersonal Skills: Software Engineers need to be able to communicate effectively with their team members and stakeholders.</li>\\n<li>Software Design: Software Engineers need to be able to design and develop software solutions that meet customer requirements.</li>\\n<li>Software Development Lifecycle: Software Engineers need to understand the different phases\", 'source_documents': [Document(page_content='Prompt: Software Engineer\\nOutput: Job Description:\\nWe are looking for a highly motivated Software Engineer to join our team. As a Software Engineer, you will be responsible for designing, developing, and maintaining software applications. You will work closely with cross-functional teams to understand requirements, architect solutions, and deliver high-quality code. The role requires strong problem-solving skills, attention to detail, and a passion for building scalable and robust software systems.', metadata={'source': 'rag_sample.csv', 'row': 1}), Document(page_content='Prompt: Software Engineer\\nOutput: Job Description:\\nWe are looking for a Software Engineer to join our team. In this role, you will work alongside other engineers to configure, develop, and manage the deployment of intricate enterprise software solutions. You will have the opportunity to use your programming skills, innovation, and engineering expertise to implement new ideas, develop tools and applications, and improve project methodologies. As part of our team, you will apply Lean/Agile methodologies, understand Software Development Life Cycle (SDLC), utilize CI/CD pipelines, ensure quality and scalability, document and standardize processes, and employ effective testing techniques and issue resolution strategies. Effective communication and interpersonal skills are essential as you will interact with colleagues, customers, and stakeholders on a daily basis.\\nResponsibilities:\\nCollaborate on Smallworld projects, configuring, developing, and managing software solutions.', metadata={'source': 'rag_sample.csv', 'row': 3}), Document(page_content=\"Prompt: Full stack software engineer\\nOutput: Job Description:\\nAs a Full Stack Software Engineer, you will participate in various aspects of the software development lifecycle, including design, code implementation, testing, and support. Your primary focus will be creating software solutions that support clients' hybrid-cloud and AI journeys, utilizing the latest technologies to ensure high performance, availability, responsiveness, and maintainability.\\nResponsibilities:\\nAnalyze, validate, and propose improvements to existing failures, collaborating with the architect and technical leader.\\nParticipate in every step of the development process, from design to testing, release changes, and troubleshooting, ensuring excellent customer service.\\nDrive discussions with stakeholders and analyze the current landscape to identify opportunities for creative solutions.\\nSkills and Qualifications:\\nBackend or full stack development experience.\\nProficiency in JavaScript and NodeJS.\", metadata={'source': 'rag_sample.csv', 'row': 10}), Document(page_content=\"Utilize programming skills and engineering expertise to implement new ideas and improve project methodologies.\\nApply Lean/Agile methodologies and SDLC principles to project activities.\\nUse CI/CD pipelines to ensure quality and scalability of software solutions.\\nDocument processes, standardize procedures, and employ effective testing techniques.\\nInteract with colleagues, customers, and stakeholders, demonstrating effective communication and interpersonal skills.\\nSkills and Qualifications:\\nBachelor's degree in Software Engineering, Computer Science, IT, Electronics and Electrical Engineering, or similar.\\nFamiliarity with Unix/Linux/Windows environments.\\nExperience programming in Python, Java, or JavaScript.\\nUnderstanding of Object-Oriented Programming (OOP) concepts.\\nKnowledge of GeoSpatial solutions and databases (SQL, Oracle).\\nUnderstanding of DevOps tools like GitHub, Jenkins, Docker, Ansible, Kubernetes, etc.\\nFamiliarity with Agile Methodology.\", metadata={'source': 'rag_sample.csv', 'row': 3})]}\n"
     ]
    }
   ],
   "source": [
    "import gradio as gr\n",
    "\n",
    "def chat_interface(textbox, chat):\n",
    "    # result = qa.invoke({'query': textbox})\n",
    "    # docs = result.get(\"source_documents\", [])\n",
    "    # result=qa({\"input_documents\": docs,\"question\": query})\n",
    "    # retriever = db.as_retriever()\n",
    "    # docs = retriever.get_relevant_documents(textbox)\n",
    "    # context = docs[0].page_content\n",
    "\n",
    "    input_dict = {'query': textbox}\n",
    "    result = qa.invoke(input_dict)\n",
    "    print(result)\n",
    "    text = result['result']\n",
    "    answer = text.split('\\nHelpful Answer:')[1].strip()\n",
    "    return answer\n",
    "\n",
    "# gr.Interface(\n",
    "#     fn=chat_interface,\n",
    "#     inputs=[gr.Textbox(placeholder=\"Ask me a question\", label=\"Question\", lines=5, type=\"text\"),\n",
    "#         gr.UploadButton(label=\"Upload File\", file_types=[\".pdf\", \".csv\", \".doc\"])],\n",
    "#     outputs=gr.Chatbot(height=300),\n",
    "#     title=\"Chatbot\",\n",
    "#     description=\"Ask Chatbot any question\",\n",
    "#     theme=\"soft\",\n",
    "#     examples=[\n",
    "#         [\"What does AI stand for?\"],\n",
    "#         [\"What is Software Engineering?\"],\n",
    "#         [\"What is Cybersecurity?\"]\n",
    "#     ],\n",
    "#     cache_examples=False,\n",
    "# ).launch()\n",
    "\n",
    "gr.ChatInterface(\n",
    "    fn=chat_interface,\n",
    "    chatbot=gr.Chatbot(height=300),\n",
    "    textbox=gr.Textbox(placeholder=\"Ask me a question\", container=False, scale=7),\n",
    "    title=\"Chatbot\",\n",
    "    description=\"Ask Chatbot any question\",\n",
    "    theme=\"soft\",\n",
    "    examples=[\"What does AI stand for?\", \"What is Software Engineering?\", \"What is Cybersecurity?\"],\n",
    "    cache_examples=False,\n",
    "    retry_btn=None,\n",
    "    undo_btn=\"Delete Previous\",\n",
    "    clear_btn=\"Clear\",\n",
    ").launch()"
   ]
  },
  {
   "cell_type": "markdown",
   "metadata": {},
   "source": [
    "With some qa Chain"
   ]
  },
  {
   "cell_type": "code",
   "execution_count": null,
   "metadata": {},
   "outputs": [],
   "source": [
    "from langchain.chains import LLMChain, ConversationalRetrievalChain\n",
    "from langchain.chains.question_answering import load_qa_chain\n",
    "from langchain_community.llms.huggingface_pipeline import HuggingFacePipeline\n",
    "from transformers import pipeline\n",
    "from langchain.prompts import PromptTemplate\n",
    "\n",
    "template = \"\"\"Use the following pieces of context to answer the question at the end. If you don't know the answer, just say that you don't know, don't try to make up an answer.\n",
    "Answer professionally, to the best of your ability, and where appropriate, in a Computer Science educational context.\n",
    "Don't copy from the context.\n",
    "Context: {context}\n",
    "Question: {question}\n",
    "Helpful Answer:\"\"\"\n",
    "\n",
    "QA_CHAIN_PROMPT = PromptTemplate(\n",
    "        template=template, input_variables=[\"context\", \"question\"]\n",
    "    )\n",
    "chain_type_kwargs = {\"questionPrompt\": QA_CHAIN_PROMPT}\n",
    "\n",
    "qa_chain = load_qa_chain(llm, chain_type_kwargs=chain_type_kwargs)\n",
    "# qa = LLMChain(prompt=prompt, llm=llm)"
   ]
  },
  {
   "cell_type": "code",
   "execution_count": null,
   "metadata": {},
   "outputs": [],
   "source": [
    "import gradio as gr\n",
    "\n",
    "def chat_interface(textbox, chat):\n",
    "    retriever = db.as_retriever()\n",
    "    docs = retriever.get_relevant_documents(textbox)\n",
    "    context = docs[0].page_content\n",
    "\n",
    "    # query = f\"{context}\\nQuestion: {textbox}\\nHelpful Answer:\"\n",
    "    input_dict = {'question': textbox, 'context': context}\n",
    "    result = qa.invoke(input_dict)\n",
    "    print(result)\n",
    "    text = result['text']\n",
    "    answer = text.split('\\nHelpful Answer:')[1].strip()\n",
    "    return answer\n",
    "    \n",
    "gr.ChatInterface(\n",
    "    fn=chat_interface,\n",
    "    chatbot=gr.Chatbot(height=300),\n",
    "    textbox=gr.Textbox(placeholder=\"Ask me a question\", container=False, scale=7),\n",
    "    title=\"Chatbot\",\n",
    "    description=\"Ask Chatbot any question\",\n",
    "    theme=\"soft\",\n",
    "    examples=[\"What does AI stand for?\", \"What is Software Engineering?\", \"What is Cybersecurity?\"],\n",
    "    cache_examples=False,\n",
    "    retry_btn=None,\n",
    "    undo_btn=\"Delete Previous\",\n",
    "    clear_btn=\"Clear\",\n",
    ").launch()"
   ]
  },
  {
   "cell_type": "markdown",
   "metadata": {},
   "source": [
    "## Evaluation"
   ]
  },
  {
   "cell_type": "code",
   "execution_count": null,
   "metadata": {},
   "outputs": [],
   "source": [
    "# RAG evaluation"
   ]
  },
  {
   "cell_type": "markdown",
   "metadata": {},
   "source": [
    "### T5"
   ]
  },
  {
   "cell_type": "code",
   "execution_count": null,
   "metadata": {},
   "outputs": [],
   "source": [
    "from transformers import AutoTokenizer, AutoModelForSeq2SeqLM, pipeline\n",
    "from langchain import HuggingFacePipeline\n",
    "model_name = \"google/flan-t5-small\"\n",
    "tokenizer = AutoTokenizer.from_pretrained(model_name)\n",
    "model = AutoModelForSeq2SeqLM.from_pretrained(model_name)\n",
    "\n",
    "pipe = pipeline(\n",
    "    \"text2text-generation\", \n",
    "    model=model_name, \n",
    "    tokenizer=tokenizer,\n",
    "    max_new_tokens = 200,\n",
    "    temperature = 0.1,\n",
    "    eos_token_id=tokenizer.eos_token_id,\n",
    "    do_sample=True\n",
    ")\n",
    "llm = HuggingFacePipeline(pipeline=pipe)"
   ]
  },
  {
   "cell_type": "code",
   "execution_count": null,
   "metadata": {},
   "outputs": [],
   "source": [
    "from langchain.prompts import PromptTemplate\n",
    "\n",
    "template = \"\"\"Use the following pieces of context to answer the question at the end. If you don't know the answer, just say that you don't know, don't try to make up an answer.\n",
    "{context}\n",
    "Question: {question}\n",
    "Helpful Answer:\"\"\"\n",
    "QA_CHAIN_PROMPT = PromptTemplate.from_template(template)"
   ]
  },
  {
   "cell_type": "code",
   "execution_count": null,
   "metadata": {},
   "outputs": [],
   "source": [
    "from langchain.chains import RetrievalQA \n",
    "retriever = db.as_retriever(search_kwargs={\"k\": 2})\n",
    "\n",
    "# qa = RetrievalQA.from_chain_type(   \n",
    "#   llm=llm,   \n",
    "#   chain_type=\"refine\",\n",
    "#   retriever=retriever, \n",
    "#   return_source_documents=True\n",
    "# )\n",
    "qa = RetrievalQA.from_chain_type(llm=llm, retriever=retriever, return_source_documents=False, chain_type_kwargs={\"prompt\": QA_CHAIN_PROMPT})\n",
    "print(qa)\n",
    "\n",
    "question = \"What skills should an AI solution analyst have?\"\n",
    "result = qa({\"query\": question})\n",
    "print(result[\"result\"])"
   ]
  },
  {
   "cell_type": "code",
   "execution_count": null,
   "metadata": {},
   "outputs": [],
   "source": [
    "import gradio as gr\n",
    "\n",
    "def chat_interface(textbox, chat):\n",
    "    retriever = db.as_retriever()\n",
    "    docs = retriever.get_relevant_documents(textbox)\n",
    "    context = docs[0].page_content\n",
    "\n",
    "    # query = f\"{context}\\nQuestion: {textbox}\\nHelpful Answer:\"\n",
    "    input_dict = {'question': textbox, 'context': context}\n",
    "    result = qa.invoke(input_dict)\n",
    "    print(result)\n",
    "    text = result['text']\n",
    "    answer = text.split('\\nHelpful Answer:')[1].strip()\n",
    "    return answer\n",
    "    \n",
    "gr.ChatInterface(\n",
    "    fn=chat_interface,\n",
    "    chatbot=gr.Chatbot(height=300),\n",
    "    textbox=gr.Textbox(placeholder=\"Ask me a question\", container=False, scale=7),\n",
    "    title=\"Chatbot\",\n",
    "    description=\"Ask Chatbot any question\",\n",
    "    theme=\"soft\",\n",
    "    examples=[\"What does AI stand for?\", \"What is Software Engineering?\", \"What is Cybersecurity?\"],\n",
    "    cache_examples=False,\n",
    "    retry_btn=None,\n",
    "    undo_btn=\"Delete Previous\",\n",
    "    clear_btn=\"Clear\",\n",
    ").launch()"
   ]
  },
  {
   "cell_type": "code",
   "execution_count": null,
   "metadata": {},
   "outputs": [],
   "source": [
    "import gradio as gr\n",
    "\n",
    "def chat_interface(textbox, chat):\n",
    "    # retriever = db.as_retriever()\n",
    "    # docs = r.get_relevant_documents(textbox)\n",
    "    # context_str = docs[0].page_content\n",
    "\n",
    "    # input_dict = {'question': textbox, 'context_str': context_str}\n",
    "    # docs = retriever.get_relevant_documents(textbox)\n",
    "\n",
    "    # query = f\"{context}\\nQuestion: {textbox}\\nHelpful Answer:\"\n",
    "    result = qa({'query': textbox})\n",
    "    docs = result.get(\"source_documents\", [])\n",
    "    print(docs)\n",
    "    return result[\"result\"]\n",
    "\n",
    "gr.ChatInterface(\n",
    "    fn=chat_interface,\n",
    "    chatbot=gr.Chatbot(height=300),\n",
    "    textbox=gr.Textbox(placeholder=\"Ask me a question\", container=False, scale=7),\n",
    "    title=\"Chatbot\",\n",
    "    description=\"Ask Chatbot any question\",\n",
    "    theme=\"soft\",\n",
    "    examples=[\"What does AI stand for?\", \"What is Software Engineering?\", \"What is Cybersecurity?\"],\n",
    "    cache_examples=False,\n",
    "    retry_btn=None,\n",
    "    undo_btn=\"Delete Previous\",\n",
    "    clear_btn=\"Clear\",\n",
    ").launch()"
   ]
  },
  {
   "cell_type": "code",
   "execution_count": null,
   "metadata": {},
   "outputs": [],
   "source": []
  },
  {
   "cell_type": "code",
   "execution_count": null,
   "metadata": {},
   "outputs": [],
   "source": [
    "# MAYBE DO THIS FIRST? AND SEE THE DOWNSIDE, AND LEARN THAT IT IS NOT REQUIRED (doesn't solve hallucinations and timely context!)\n",
    "# Fine-tune with input and output example data sets\n",
    "\n",
    "# Compare with different models (one fine-tuned one just pre-trained)"
   ]
  },
  {
   "cell_type": "markdown",
   "metadata": {},
   "source": [
    "## Full adapted model (combined of all approaches)"
   ]
  },
  {
   "cell_type": "code",
   "execution_count": null,
   "metadata": {},
   "outputs": [],
   "source": [
    "# Knowledge retrieved\n",
    "# Augmented Prompt\n",
    "# Fine-tuned/pre-trained LLM\n",
    "\n",
    "import gradio as gr\n",
    "def chat_interface(textbox, chat):\n",
    "    # docs = db.similarity_search(textbox)\n",
    "    # input_dict = {'question': textbox, 'input_documents': docs }\n",
    "    input_dict = {'question': textbox}\n",
    "    response = llm_chain.run(input_dict)\n",
    "\n",
    "    print(\"user:\", textbox)\n",
    "    print(\"bot:\", response)\n",
    "    return response\n",
    "\n",
    "gr.ChatInterface(\n",
    "    fn=chat_interface,\n",
    "    chatbot=gr.Chatbot(height=300),\n",
    "    textbox=gr.Textbox(placeholder=\"Ask me a question\", container=False, scale=7),\n",
    "    title=\"Chatbot\",\n",
    "    description=\"Ask Chatbot any question\",\n",
    "    theme=\"soft\",\n",
    "    examples=[\"What does AI stand for?\", \"What is Software Engineering?\", \"What is Cybersecurity?\"],\n",
    "    cache_examples=False,\n",
    "    retry_btn=None,\n",
    "    undo_btn=\"Delete Previous\",\n",
    "    clear_btn=\"Clear\",\n",
    ").launch()"
   ]
  },
  {
   "cell_type": "code",
   "execution_count": null,
   "metadata": {},
   "outputs": [],
   "source": []
  }
 ],
 "metadata": {
  "kernelspec": {
   "display_name": "venv",
   "language": "python",
   "name": "venv"
  },
  "language_info": {
   "codemirror_mode": {
    "name": "ipython",
    "version": 3
   },
   "file_extension": ".py",
   "mimetype": "text/x-python",
   "name": "python",
   "nbconvert_exporter": "python",
   "pygments_lexer": "ipython3",
   "version": "3.11.0"
  }
 },
 "nbformat": 4,
 "nbformat_minor": 2
}
