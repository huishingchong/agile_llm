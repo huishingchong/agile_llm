{
 "cells": [
  {
   "cell_type": "markdown",
   "metadata": {},
   "source": [
    "## Set up\n",
    "### Import Packages and API keys "
   ]
  },
  {
   "cell_type": "code",
   "execution_count": 1,
   "metadata": {},
   "outputs": [],
   "source": [
    "# !pip install transformers datasets torch langchain-community faiss-cpu sentence-transformers\n",
    "from getpass import getpass\n",
    "from dotenv import load_dotenv\n",
    "import os\n",
    "from pathlib import Path\n",
    "\n",
    "env_path = Path('.') / '.env'\n",
    "load_dotenv(dotenv_path=env_path)\n",
    "\n",
    "huggingface_api_token = os.getenv('HUGGINGFACEHUB_API_TOKEN')\n",
    "\n",
    "if not huggingface_api_token:\n",
    "    huggingface_api_token = getpass(\"Enter your Hugging Face Hub API token: \")"
   ]
  },
  {
   "cell_type": "markdown",
   "metadata": {},
   "source": [
    "## Model Selection"
   ]
  },
  {
   "cell_type": "code",
   "execution_count": 11,
   "metadata": {},
   "outputs": [],
   "source": [
    "from langchain_community.llms import HuggingFaceHub\n",
    "from transformers import AutoTokenizer, AutoModelForCausalLM\n",
    "\n",
    "# tokenizer = AutoTokenizer.from_pretrained(\"tiiuae/falcon-7b-instruct\")\n",
    "# model = AutoModelForCausalLM.from_pretrained(\"tiiuae/falcon-7b-instruct\")\n",
    "\n",
    "# I will be using T5 model from open source huggingface library\n",
    "# model_name = \"mistralai/Mistral-7B-v0.1\"\n",
    "# model_name = \"mistralai/Mistral-7B-Instruct-v0.1\"\n",
    "\n",
    "model_name = \"tiiuae/falcon-7b-instruct\"\n",
    "# model_name = \"tiiuae/falcon-7b\"\n",
    "\n",
    "llm = HuggingFaceHub(repo_id=model_name, model_kwargs={\"temperature\":0.5, \"max_length\":1024, \"max_new_tokens\":200})"
   ]
  },
  {
   "cell_type": "markdown",
   "metadata": {},
   "source": [
    "## Template-based prompting with Langchain"
   ]
  },
  {
   "cell_type": "code",
   "execution_count": 12,
   "metadata": {},
   "outputs": [],
   "source": [
    "# I will be using Langchain\n",
    "\n",
    "from langchain.prompts import PromptTemplate\n",
    "from langchain.chains import LLMChain\n",
    "\n",
    "template= \"\"\"\n",
    "Please answer the question.\n",
    "Answer professionally, and where appropriate, in a Computer Science educational context.\n",
    "Question: {question}\n",
    "Response:\n",
    "\"\"\"\n",
    "\n",
    "prompt = PromptTemplate(template=template, input_variables=[\"question\"])\n",
    "llm_chain = LLMChain(prompt=prompt, llm=llm, verbose=True)\n"
   ]
  },
  {
   "cell_type": "markdown",
   "metadata": {},
   "source": [
    "## Chat Interface"
   ]
  },
  {
   "cell_type": "code",
   "execution_count": 13,
   "metadata": {},
   "outputs": [
    {
     "name": "stdout",
     "output_type": "stream",
     "text": [
      "Running on local URL:  http://127.0.0.1:7869\n",
      "\n",
      "To create a public link, set `share=True` in `launch()`.\n"
     ]
    },
    {
     "data": {
      "text/html": [
       "<div><iframe src=\"http://127.0.0.1:7869/\" width=\"100%\" height=\"500\" allow=\"autoplay; camera; microphone; clipboard-read; clipboard-write;\" frameborder=\"0\" allowfullscreen></iframe></div>"
      ],
      "text/plain": [
       "<IPython.core.display.HTML object>"
      ]
     },
     "metadata": {},
     "output_type": "display_data"
    },
    {
     "data": {
      "text/plain": []
     },
     "execution_count": 13,
     "metadata": {},
     "output_type": "execute_result"
    },
    {
     "name": "stdout",
     "output_type": "stream",
     "text": [
      "\n",
      "\n",
      "\u001b[1m> Entering new LLMChain chain...\u001b[0m\n",
      "Prompt after formatting:\n",
      "\u001b[32;1m\u001b[1;3m\n",
      "Please answer the question.\n",
      "Answer professionally, and where appropriate, in a Computer Science educational context.\n",
      "Question: What are courses on IBM SkillsBuild?\n",
      "Response:\n",
      "\u001b[0m\n",
      "\n",
      "\u001b[1m> Finished chain.\u001b[0m\n",
      "\n",
      "Please answer the question.\n",
      "Answer professionally, and where appropriate, in a Computer Science educational context.\n",
      "Question: What are courses on IBM SkillsBuild?\n",
      "Response:\n",
      "IBM SkillsBuild offers a variety of courses on different topics related to IBM technologies. Some of these courses are:\n",
      "\n",
      "1. IBM Cognos Analytics - Introduction\n",
      "2. IBM Cognos Analytics - Advanced\n",
      "3. IBM Cognos Analytics - Administration\n",
      "4. IBM Cognos Analytics - Developer\n",
      "5. IBM Cognos Analytics - Data Modeler\n",
      "6. IBM Cognos Analytics - Report Developer\n",
      "7. IBM Cognos Analytics - Business Intelligence\n",
      "8. IBM Cognos Analytics - Dashboard Designer\n",
      "9. IBM Cognos Analytics - Cubicin\n",
      "10. IBM Cognos Analytics - Report Studio\n",
      "\n",
      "These courses are designed to help individuals gain a better understanding of IBM Cognos Analytics and its related technologies. They are developed by IBM and are available on their SkillsBuild platform.\n",
      "\n",
      "\n",
      "\u001b[1m> Entering new LLMChain chain...\u001b[0m\n",
      "Prompt after formatting:\n",
      "\u001b[32;1m\u001b[1;3m\n",
      "Please answer the question.\n",
      "Answer professionally, and where appropriate, in a Computer Science educational context.\n",
      "Question: What is IBM Cognos Analytics\n",
      "Response:\n",
      "\u001b[0m\n",
      "\n",
      "\u001b[1m> Finished chain.\u001b[0m\n",
      "\n",
      "Please answer the question.\n",
      "Answer professionally, and where appropriate, in a Computer Science educational context.\n",
      "Question: What is IBM Cognos Analytics\n",
      "Response:\n",
      "IBM Cognos Analytics is a business intelligence tool used to analyze and visualize data. It is a powerful tool that allows users to quickly and easily analyze large amounts of data and create interactive dashboards. It can be used to gain insights into various areas such as finance, marketing, and supply chain management. It is widely used in businesses around the world to make data-driven decisions.\n",
      "\n",
      "\n",
      "\u001b[1m> Entering new LLMChain chain...\u001b[0m\n",
      "Prompt after formatting:\n",
      "\u001b[32;1m\u001b[1;3m\n",
      "Please answer the question.\n",
      "Answer professionally, and where appropriate, in a Computer Science educational context.\n",
      "Question: what is IBM Cognos Analytics\n",
      "Response:\n",
      "\u001b[0m\n",
      "\n",
      "\u001b[1m> Finished chain.\u001b[0m\n",
      "\n",
      "Please answer the question.\n",
      "Answer professionally, and where appropriate, in a Computer Science educational context.\n",
      "Question: what is IBM Cognos Analytics\n",
      "Response:\n",
      "IBM Cognos Analytics is a business intelligence platform that helps organizations make data-driven decisions. It enables users to analyze and visualize data from multiple sources, build dashboards and reports, and share insights with colleagues. It is widely used across industries, including finance, healthcare, and retail, to name a few.\n"
     ]
    }
   ],
   "source": [
    "import gradio as gr\n",
    "\n",
    "def chat_interface(textbox, chat):\n",
    "    input_dict = {'question': textbox}\n",
    "    response_dict = llm_chain.invoke(input_dict)\n",
    "    text = response_dict['text']  # Extract the text from the dictionary\n",
    "    # Split the text based on \"Response:\" and extract the part after it\n",
    "    # if \"Response:\" in text:\n",
    "    response_text = text.split(\"Response:\")[1].strip()\n",
    "    print(text)\n",
    "    return response_text\n",
    "\n",
    "gr.ChatInterface(\n",
    "    fn=chat_interface,\n",
    "    chatbot=gr.Chatbot(height=300),\n",
    "    textbox=gr.Textbox(placeholder=\"Ask me a question\", container=False, scale=7),\n",
    "    title=\"Chatbot\",\n",
    "    description=\"Ask Chatbot any question\",\n",
    "    theme=\"soft\",\n",
    "    examples=[\"What does AI stand for?\", \"What is Software Engineering?\", \"What is Cybersecurity?\"],\n",
    "    cache_examples=False,\n",
    "    retry_btn=None,\n",
    "    undo_btn=\"Delete Previous\",\n",
    "    clear_btn=\"Clear\",\n",
    ").launch()\n",
    "\n",
    "#I am a final year Computer Science student seeking to find a graduate role in __. What are practical skills required for a career in __?\n",
    "#I am a beginner that wants to get into __, where should I start?\n"
   ]
  },
  {
   "cell_type": "markdown",
   "metadata": {},
   "source": [
    "## Evaluation"
   ]
  },
  {
   "cell_type": "code",
   "execution_count": 5,
   "metadata": {},
   "outputs": [
    {
     "name": "stdout",
     "output_type": "stream",
     "text": [
      "\n",
      "Please answer the question.\n",
      "Answer professionally, and where appropriate, in a Computer Science educational context.\n",
      "Question: Hi there\n",
      "Response:\n",
      "Hi there! How can I help you?\n",
      "\n",
      "Please answer the question.\n",
      "Answer professionally, and where appropriate, in a Computer Science educational context.\n",
      "Question: Can you ask me a question?\n",
      "Response:\n",
      "\n",
      "Certainly! What would you like to know?\n",
      "\n",
      "Please answer the question.\n",
      "Answer professionally, and where appropriate, in a Computer Science educational context.\n",
      "Question: Tell me a fact related to Computer Science\n",
      "Response:\n",
      "The first computer was invented in 1936 by Alan Turing, and it was called the Electronic Numerical Integrator and Computer (ENIAC).\n",
      "\n",
      "Please answer the question.\n",
      "Answer professionally, and where appropriate, in a Computer Science educational context.\n",
      "Question: What is IBM SkillsBuild?\n",
      "Response:\n",
      "IBM SkillsBuild is a cloud-based learning platform for technical professionals that provides a wide range of training content, including courses, hands-on labs, and certification exams. It offers courses in various areas such as software development, data analytics, cloud computing, and more. The platform also allows users to track their progress and earn certifications that are recognized by leading employers.\n",
      "\n",
      "Please answer the question.\n",
      "Answer professionally, and where appropriate, in a Computer Science educational context.\n",
      "Question: Can you name me a course from IBM SkillsBuild\n",
      "Response:\n",
      "<a href=\"https://developer.ibm.com/skillsbuild/v1/courses/CX00DBBF0-C0A6-4F0E-B0A7-6B2F1B9B6CC6\">CX00DBBF0-C0A6-4F0E-B0A7-6B2F1B9B6CC6</a>\n",
      "\n",
      "Please answer the question.\n",
      "Answer professionally, and where appropriate, in a Computer Science educational context.\n",
      "Question: Can you name me a course from IBM SkillsBuild\n",
      "Response:\n",
      "<a href=\"https://developer.ibm.com/skillsbuild/v1/courses/CX00DBBF0-C0A6-4F0E-B0A7-6B2F1B9B6CC6\">CX00DBBF0-C0A6-4F0E-B0A7-6B2F1B9B6CC6</a>\n",
      "\n",
      "Please answer the question.\n",
      "Answer professionally, and where appropriate, in a Computer Science educational context.\n",
      "Question: What subjects do IBM SkillsBuild teach\n",
      "Response:\n",
      "IBM SkillsBuild offers a comprehensive range of technical and non-technical courses to help individuals build their skills and advance in their careers. Some of the subjects covered include:\n",
      "\n",
      "1. Programming\n",
      "2. Data Science\n",
      "3. Cloud Computing\n",
      "4. Cybersecurity\n",
      "5. Software Development\n",
      "6. Technical Writing\n",
      "7. Agile Methodology\n",
      "8. Business Analysis\n",
      "9. Web Design\n",
      "10. Project Management\n",
      "\n",
      "These courses are taught by industry experts and can help individuals build their skills in various areas, enabling them to stay competitive in the modern job market.\n",
      "\n",
      "Please answer the question.\n",
      "Answer professionally, and where appropriate, in a Computer Science educational context.\n",
      "Question: What software will I learn from IBM SkillsBuild for Cybersecurity\n",
      "Response:\n",
      "\n",
      "As a graduate of IBM SkillsBuild for Cybersecurity, you will learn a range of software tools and techniques to protect your organization's data and systems. Some examples include:\n",
      "\n",
      "- IBM Security AppScan, to scan web and mobile applications for security vulnerabilities\n",
      "- IBM X-Force, to identify and analyze the latest cybersecurity threats and trends\n",
      "- IBM QRadar, to detect and respond to advanced threats in real-time\n",
      "- IBM WebSphere, to secure and manage your organization's applications and infrastructure\n",
      "\n",
      "By mastering these tools and techniques, you will be able to protect your organization from a range of cybersecurity threats.\n"
     ]
    }
   ],
   "source": [
    "# Load standardized test set\n",
    "    # IT Consultant, Cloud Engineer...\n",
    "\n",
    "# ROGUE? BLUE?\n",
    "\n",
    "# F1 Score: common between prediction and gold output\n",
    "\n",
    "#pheonix"
   ]
  },
  {
   "cell_type": "markdown",
   "metadata": {},
   "source": [
    "Finetuning doesn't solve hallucinations and timely context!\n"
   ]
  }
 ],
 "metadata": {
  "kernelspec": {
   "display_name": "venv",
   "language": "python",
   "name": "venv"
  },
  "language_info": {
   "codemirror_mode": {
    "name": "ipython",
    "version": 3
   },
   "file_extension": ".py",
   "mimetype": "text/x-python",
   "name": "python",
   "nbconvert_exporter": "python",
   "pygments_lexer": "ipython3",
   "version": "3.11.0"
  }
 },
 "nbformat": 4,
 "nbformat_minor": 2
}
