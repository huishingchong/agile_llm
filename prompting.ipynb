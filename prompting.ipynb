{
  "cells": [
    {
      "cell_type": "markdown",
      "metadata": {
        "colab_type": "text",
        "id": "view-in-github"
      },
      "source": [
        "<a href=\"https://colab.research.google.com/github/huishingchong/agile_llm/blob/main/prompting.ipynb\" target=\"_parent\"><img src=\"https://colab.research.google.com/assets/colab-badge.svg\" alt=\"Open In Colab\"/></a>"
      ]
    },
    {
      "cell_type": "markdown",
      "metadata": {
        "id": "2IERH3ypnr9y"
      },
      "source": [
        "## Set up\n",
        "### Import Packages and API keys"
      ]
    },
    {
      "cell_type": "code",
      "execution_count": null,
      "metadata": {
        "colab": {
          "base_uri": "https://localhost:8080/"
        },
        "id": "h0ogZcywn33J",
        "outputId": "c71c5ba0-91f9-4689-fd62-b17ca667ed3f"
      },
      "outputs": [
        {
          "name": "stdout",
          "output_type": "stream",
          "text": [
            "Requirement already satisfied: transformers in /usr/local/lib/python3.10/dist-packages (4.38.1)\n",
            "Requirement already satisfied: datasets in /usr/local/lib/python3.10/dist-packages (2.17.1)\n",
            "Requirement already satisfied: torch in /usr/local/lib/python3.10/dist-packages (2.1.0+cu121)\n",
            "Requirement already satisfied: langchain in /usr/local/lib/python3.10/dist-packages (0.1.9)\n",
            "Requirement already satisfied: langchain-community in /usr/local/lib/python3.10/dist-packages (0.0.24)\n",
            "Requirement already satisfied: faiss-cpu in /usr/local/lib/python3.10/dist-packages (1.8.0)\n",
            "Requirement already satisfied: sentence-transformers in /usr/local/lib/python3.10/dist-packages (2.5.1)\n",
            "Requirement already satisfied: python-dotenv in /usr/local/lib/python3.10/dist-packages (1.0.1)\n",
            "Requirement already satisfied: gradio in /usr/local/lib/python3.10/dist-packages (4.19.2)\n",
            "Requirement already satisfied: filelock in /usr/local/lib/python3.10/dist-packages (from transformers) (3.13.1)\n",
            "Requirement already satisfied: huggingface-hub<1.0,>=0.19.3 in /usr/local/lib/python3.10/dist-packages (from transformers) (0.20.3)\n",
            "Requirement already satisfied: numpy>=1.17 in /usr/local/lib/python3.10/dist-packages (from transformers) (1.25.2)\n",
            "Requirement already satisfied: packaging>=20.0 in /usr/local/lib/python3.10/dist-packages (from transformers) (23.2)\n",
            "Requirement already satisfied: pyyaml>=5.1 in /usr/local/lib/python3.10/dist-packages (from transformers) (6.0.1)\n",
            "Requirement already satisfied: regex!=2019.12.17 in /usr/local/lib/python3.10/dist-packages (from transformers) (2023.12.25)\n",
            "Requirement already satisfied: requests in /usr/local/lib/python3.10/dist-packages (from transformers) (2.31.0)\n",
            "Requirement already satisfied: tokenizers<0.19,>=0.14 in /usr/local/lib/python3.10/dist-packages (from transformers) (0.15.2)\n",
            "Requirement already satisfied: safetensors>=0.4.1 in /usr/local/lib/python3.10/dist-packages (from transformers) (0.4.2)\n",
            "Requirement already satisfied: tqdm>=4.27 in /usr/local/lib/python3.10/dist-packages (from transformers) (4.66.2)\n",
            "Requirement already satisfied: pyarrow>=12.0.0 in /usr/local/lib/python3.10/dist-packages (from datasets) (14.0.2)\n",
            "Requirement already satisfied: pyarrow-hotfix in /usr/local/lib/python3.10/dist-packages (from datasets) (0.6)\n",
            "Requirement already satisfied: dill<0.3.9,>=0.3.0 in /usr/local/lib/python3.10/dist-packages (from datasets) (0.3.8)\n",
            "Requirement already satisfied: pandas in /usr/local/lib/python3.10/dist-packages (from datasets) (1.5.3)\n",
            "Requirement already satisfied: xxhash in /usr/local/lib/python3.10/dist-packages (from datasets) (3.4.1)\n",
            "Requirement already satisfied: multiprocess in /usr/local/lib/python3.10/dist-packages (from datasets) (0.70.16)\n",
            "Requirement already satisfied: fsspec[http]<=2023.10.0,>=2023.1.0 in /usr/local/lib/python3.10/dist-packages (from datasets) (2023.6.0)\n",
            "Requirement already satisfied: aiohttp in /usr/local/lib/python3.10/dist-packages (from datasets) (3.9.3)\n",
            "Requirement already satisfied: typing-extensions in /usr/local/lib/python3.10/dist-packages (from torch) (4.10.0)\n",
            "Requirement already satisfied: sympy in /usr/local/lib/python3.10/dist-packages (from torch) (1.12)\n",
            "Requirement already satisfied: networkx in /usr/local/lib/python3.10/dist-packages (from torch) (3.2.1)\n",
            "Requirement already satisfied: jinja2 in /usr/local/lib/python3.10/dist-packages (from torch) (3.1.3)\n",
            "Requirement already satisfied: triton==2.1.0 in /usr/local/lib/python3.10/dist-packages (from torch) (2.1.0)\n",
            "Requirement already satisfied: SQLAlchemy<3,>=1.4 in /usr/local/lib/python3.10/dist-packages (from langchain) (2.0.27)\n",
            "Requirement already satisfied: async-timeout<5.0.0,>=4.0.0 in /usr/local/lib/python3.10/dist-packages (from langchain) (4.0.3)\n",
            "Requirement already satisfied: dataclasses-json<0.7,>=0.5.7 in /usr/local/lib/python3.10/dist-packages (from langchain) (0.6.4)\n",
            "Requirement already satisfied: jsonpatch<2.0,>=1.33 in /usr/local/lib/python3.10/dist-packages (from langchain) (1.33)\n",
            "Requirement already satisfied: langchain-core<0.2,>=0.1.26 in /usr/local/lib/python3.10/dist-packages (from langchain) (0.1.28)\n",
            "Requirement already satisfied: langsmith<0.2.0,>=0.1.0 in /usr/local/lib/python3.10/dist-packages (from langchain) (0.1.10)\n",
            "Requirement already satisfied: pydantic<3,>=1 in /usr/local/lib/python3.10/dist-packages (from langchain) (2.6.3)\n",
            "Requirement already satisfied: tenacity<9.0.0,>=8.1.0 in /usr/local/lib/python3.10/dist-packages (from langchain) (8.2.3)\n",
            "Requirement already satisfied: scikit-learn in /usr/local/lib/python3.10/dist-packages (from sentence-transformers) (1.2.2)\n",
            "Requirement already satisfied: scipy in /usr/local/lib/python3.10/dist-packages (from sentence-transformers) (1.11.4)\n",
            "Requirement already satisfied: Pillow in /usr/local/lib/python3.10/dist-packages (from sentence-transformers) (9.4.0)\n",
            "Requirement already satisfied: aiofiles<24.0,>=22.0 in /usr/local/lib/python3.10/dist-packages (from gradio) (23.2.1)\n",
            "Requirement already satisfied: altair<6.0,>=4.2.0 in /usr/local/lib/python3.10/dist-packages (from gradio) (4.2.2)\n",
            "Requirement already satisfied: fastapi in /usr/local/lib/python3.10/dist-packages (from gradio) (0.110.0)\n",
            "Requirement already satisfied: ffmpy in /usr/local/lib/python3.10/dist-packages (from gradio) (0.3.2)\n",
            "Requirement already satisfied: gradio-client==0.10.1 in /usr/local/lib/python3.10/dist-packages (from gradio) (0.10.1)\n",
            "Requirement already satisfied: httpx>=0.24.1 in /usr/local/lib/python3.10/dist-packages (from gradio) (0.27.0)\n",
            "Requirement already satisfied: importlib-resources<7.0,>=1.3 in /usr/local/lib/python3.10/dist-packages (from gradio) (6.1.2)\n",
            "Requirement already satisfied: markupsafe~=2.0 in /usr/local/lib/python3.10/dist-packages (from gradio) (2.1.5)\n",
            "Requirement already satisfied: matplotlib~=3.0 in /usr/local/lib/python3.10/dist-packages (from gradio) (3.7.1)\n",
            "Requirement already satisfied: orjson~=3.0 in /usr/local/lib/python3.10/dist-packages (from gradio) (3.9.15)\n",
            "Requirement already satisfied: pydub in /usr/local/lib/python3.10/dist-packages (from gradio) (0.25.1)\n",
            "Requirement already satisfied: python-multipart>=0.0.9 in /usr/local/lib/python3.10/dist-packages (from gradio) (0.0.9)\n",
            "Requirement already satisfied: ruff>=0.2.2 in /usr/local/lib/python3.10/dist-packages (from gradio) (0.3.0)\n",
            "Requirement already satisfied: semantic-version~=2.0 in /usr/local/lib/python3.10/dist-packages (from gradio) (2.10.0)\n",
            "Requirement already satisfied: tomlkit==0.12.0 in /usr/local/lib/python3.10/dist-packages (from gradio) (0.12.0)\n",
            "Requirement already satisfied: typer[all]<1.0,>=0.9 in /usr/local/lib/python3.10/dist-packages (from gradio) (0.9.0)\n",
            "Requirement already satisfied: uvicorn>=0.14.0 in /usr/local/lib/python3.10/dist-packages (from gradio) (0.27.1)\n",
            "Requirement already satisfied: websockets<12.0,>=10.0 in /usr/local/lib/python3.10/dist-packages (from gradio-client==0.10.1->gradio) (11.0.3)\n",
            "Requirement already satisfied: aiosignal>=1.1.2 in /usr/local/lib/python3.10/dist-packages (from aiohttp->datasets) (1.3.1)\n",
            "Requirement already satisfied: attrs>=17.3.0 in /usr/local/lib/python3.10/dist-packages (from aiohttp->datasets) (23.2.0)\n",
            "Requirement already satisfied: frozenlist>=1.1.1 in /usr/local/lib/python3.10/dist-packages (from aiohttp->datasets) (1.4.1)\n",
            "Requirement already satisfied: multidict<7.0,>=4.5 in /usr/local/lib/python3.10/dist-packages (from aiohttp->datasets) (6.0.5)\n",
            "Requirement already satisfied: yarl<2.0,>=1.0 in /usr/local/lib/python3.10/dist-packages (from aiohttp->datasets) (1.9.4)\n",
            "Requirement already satisfied: entrypoints in /usr/local/lib/python3.10/dist-packages (from altair<6.0,>=4.2.0->gradio) (0.4)\n",
            "Requirement already satisfied: jsonschema>=3.0 in /usr/local/lib/python3.10/dist-packages (from altair<6.0,>=4.2.0->gradio) (4.19.2)\n",
            "Requirement already satisfied: toolz in /usr/local/lib/python3.10/dist-packages (from altair<6.0,>=4.2.0->gradio) (0.12.1)\n",
            "Requirement already satisfied: marshmallow<4.0.0,>=3.18.0 in /usr/local/lib/python3.10/dist-packages (from dataclasses-json<0.7,>=0.5.7->langchain) (3.21.0)\n",
            "Requirement already satisfied: typing-inspect<1,>=0.4.0 in /usr/local/lib/python3.10/dist-packages (from dataclasses-json<0.7,>=0.5.7->langchain) (0.9.0)\n",
            "Requirement already satisfied: anyio in /usr/local/lib/python3.10/dist-packages (from httpx>=0.24.1->gradio) (3.7.1)\n",
            "Requirement already satisfied: certifi in /usr/local/lib/python3.10/dist-packages (from httpx>=0.24.1->gradio) (2024.2.2)\n",
            "Requirement already satisfied: httpcore==1.* in /usr/local/lib/python3.10/dist-packages (from httpx>=0.24.1->gradio) (1.0.4)\n",
            "Requirement already satisfied: idna in /usr/local/lib/python3.10/dist-packages (from httpx>=0.24.1->gradio) (3.6)\n",
            "Requirement already satisfied: sniffio in /usr/local/lib/python3.10/dist-packages (from httpx>=0.24.1->gradio) (1.3.1)\n",
            "Requirement already satisfied: h11<0.15,>=0.13 in /usr/local/lib/python3.10/dist-packages (from httpcore==1.*->httpx>=0.24.1->gradio) (0.14.0)\n",
            "Requirement already satisfied: jsonpointer>=1.9 in /usr/local/lib/python3.10/dist-packages (from jsonpatch<2.0,>=1.33->langchain) (2.4)\n",
            "Requirement already satisfied: contourpy>=1.0.1 in /usr/local/lib/python3.10/dist-packages (from matplotlib~=3.0->gradio) (1.2.0)\n",
            "Requirement already satisfied: cycler>=0.10 in /usr/local/lib/python3.10/dist-packages (from matplotlib~=3.0->gradio) (0.12.1)\n",
            "Requirement already satisfied: fonttools>=4.22.0 in /usr/local/lib/python3.10/dist-packages (from matplotlib~=3.0->gradio) (4.49.0)\n",
            "Requirement already satisfied: kiwisolver>=1.0.1 in /usr/local/lib/python3.10/dist-packages (from matplotlib~=3.0->gradio) (1.4.5)\n",
            "Requirement already satisfied: pyparsing>=2.3.1 in /usr/local/lib/python3.10/dist-packages (from matplotlib~=3.0->gradio) (3.1.1)\n",
            "Requirement already satisfied: python-dateutil>=2.7 in /usr/local/lib/python3.10/dist-packages (from matplotlib~=3.0->gradio) (2.8.2)\n",
            "Requirement already satisfied: pytz>=2020.1 in /usr/local/lib/python3.10/dist-packages (from pandas->datasets) (2023.4)\n",
            "Requirement already satisfied: annotated-types>=0.4.0 in /usr/local/lib/python3.10/dist-packages (from pydantic<3,>=1->langchain) (0.6.0)\n",
            "Requirement already satisfied: pydantic-core==2.16.3 in /usr/local/lib/python3.10/dist-packages (from pydantic<3,>=1->langchain) (2.16.3)\n",
            "Requirement already satisfied: charset-normalizer<4,>=2 in /usr/local/lib/python3.10/dist-packages (from requests->transformers) (3.3.2)\n",
            "Requirement already satisfied: urllib3<3,>=1.21.1 in /usr/local/lib/python3.10/dist-packages (from requests->transformers) (2.0.7)\n",
            "Requirement already satisfied: greenlet!=0.4.17 in /usr/local/lib/python3.10/dist-packages (from SQLAlchemy<3,>=1.4->langchain) (3.0.3)\n",
            "Requirement already satisfied: click<9.0.0,>=7.1.1 in /usr/local/lib/python3.10/dist-packages (from typer[all]<1.0,>=0.9->gradio) (8.1.7)\n",
            "Requirement already satisfied: colorama<0.5.0,>=0.4.3 in /usr/local/lib/python3.10/dist-packages (from typer[all]<1.0,>=0.9->gradio) (0.4.6)\n",
            "Requirement already satisfied: shellingham<2.0.0,>=1.3.0 in /usr/local/lib/python3.10/dist-packages (from typer[all]<1.0,>=0.9->gradio) (1.5.4)\n",
            "Requirement already satisfied: rich<14.0.0,>=10.11.0 in /usr/local/lib/python3.10/dist-packages (from typer[all]<1.0,>=0.9->gradio) (13.7.0)\n",
            "Requirement already satisfied: starlette<0.37.0,>=0.36.3 in /usr/local/lib/python3.10/dist-packages (from fastapi->gradio) (0.36.3)\n",
            "Requirement already satisfied: joblib>=1.1.1 in /usr/local/lib/python3.10/dist-packages (from scikit-learn->sentence-transformers) (1.3.2)\n",
            "Requirement already satisfied: threadpoolctl>=2.0.0 in /usr/local/lib/python3.10/dist-packages (from scikit-learn->sentence-transformers) (3.3.0)\n",
            "Requirement already satisfied: mpmath>=0.19 in /usr/local/lib/python3.10/dist-packages (from sympy->torch) (1.3.0)\n",
            "Requirement already satisfied: exceptiongroup in /usr/local/lib/python3.10/dist-packages (from anyio->httpx>=0.24.1->gradio) (1.2.0)\n",
            "Requirement already satisfied: jsonschema-specifications>=2023.03.6 in /usr/local/lib/python3.10/dist-packages (from jsonschema>=3.0->altair<6.0,>=4.2.0->gradio) (2023.12.1)\n",
            "Requirement already satisfied: referencing>=0.28.4 in /usr/local/lib/python3.10/dist-packages (from jsonschema>=3.0->altair<6.0,>=4.2.0->gradio) (0.33.0)\n",
            "Requirement already satisfied: rpds-py>=0.7.1 in /usr/local/lib/python3.10/dist-packages (from jsonschema>=3.0->altair<6.0,>=4.2.0->gradio) (0.18.0)\n",
            "Requirement already satisfied: six>=1.5 in /usr/local/lib/python3.10/dist-packages (from python-dateutil>=2.7->matplotlib~=3.0->gradio) (1.16.0)\n",
            "Requirement already satisfied: markdown-it-py>=2.2.0 in /usr/local/lib/python3.10/dist-packages (from rich<14.0.0,>=10.11.0->typer[all]<1.0,>=0.9->gradio) (3.0.0)\n",
            "Requirement already satisfied: pygments<3.0.0,>=2.13.0 in /usr/local/lib/python3.10/dist-packages (from rich<14.0.0,>=10.11.0->typer[all]<1.0,>=0.9->gradio) (2.16.1)\n",
            "Requirement already satisfied: mypy-extensions>=0.3.0 in /usr/local/lib/python3.10/dist-packages (from typing-inspect<1,>=0.4.0->dataclasses-json<0.7,>=0.5.7->langchain) (1.0.0)\n",
            "Requirement already satisfied: mdurl~=0.1 in /usr/local/lib/python3.10/dist-packages (from markdown-it-py>=2.2.0->rich<14.0.0,>=10.11.0->typer[all]<1.0,>=0.9->gradio) (0.1.2)\n"
          ]
        }
      ],
      "source": [
        "!pip install transformers datasets torch langchain langchain-community faiss-cpu sentence-transformers python-dotenv gradio"
      ]
    },
    {
      "cell_type": "code",
      "execution_count": 1,
      "metadata": {
        "colab": {
          "base_uri": "https://localhost:8080/"
        },
        "id": "kuVFT6u1nr9z",
        "outputId": "fb5c34f6-2876-4c80-e838-4030952e50ec"
      },
      "outputs": [],
      "source": [
        "from getpass import getpass\n",
        "from dotenv import load_dotenv\n",
        "import os\n",
        "from pathlib import Path\n",
        "\n",
        "env_path = Path('.') / '.env'\n",
        "load_dotenv(dotenv_path=env_path)\n",
        "\n",
        "huggingface_api_token = os.getenv('HUGGINGFACEHUB_API_TOKEN')\n",
        "\n",
        "if not huggingface_api_token:\n",
        "    huggingface_api_token = getpass(\"Enter your Hugging Face Hub API token: \")"
      ]
    },
    {
      "cell_type": "code",
      "execution_count": null,
      "metadata": {
        "colab": {
          "base_uri": "https://localhost:8080/"
        },
        "id": "uWJecw89pqWP",
        "outputId": "82a189de-e1b2-4209-e6dd-58c8b996ef65"
      },
      "outputs": [
        {
          "name": "stdout",
          "output_type": "stream",
          "text": [
            "··········\n"
          ]
        }
      ],
      "source": [
        "# get a token: https://huggingface.co/docs/api-inference/quicktour#get-your-api-token\n",
        "import os\n",
        "from getpass import getpass\n",
        "\n",
        "HUGGINGFACEHUB_API_TOKEN = getpass()\n",
        "os.environ[\"HUGGINGFACEHUB_API_TOKEN\"] = HUGGINGFACEHUB_API_TOKEN"
      ]
    },
    {
      "cell_type": "markdown",
      "metadata": {
        "id": "mA_nWPbcu1t5"
      },
      "source": [
        "## Specify Pretrained and Fine-tuned model"
      ]
    },
    {
      "cell_type": "code",
      "execution_count": 2,
      "metadata": {
        "colab": {
          "base_uri": "https://localhost:8080/"
        },
        "id": "SeXB1HxiMwsA",
        "outputId": "34b82e50-cd69-456d-9722-6246957ec444"
      },
      "outputs": [
        {
          "name": "stderr",
          "output_type": "stream",
          "text": [
            "/Users/huishingchong/agile_llm/venv/lib/python3.11/site-packages/tqdm/auto.py:21: TqdmWarning: IProgress not found. Please update jupyter and ipywidgets. See https://ipywidgets.readthedocs.io/en/stable/user_install.html\n",
            "  from .autonotebook import tqdm as notebook_tqdm\n"
          ]
        },
        {
          "name": "stdout",
          "output_type": "stream",
          "text": [
            "Token has not been saved to git credential helper. Pass `add_to_git_credential=True` if you want to set the git credential as well.\n",
            "Token is valid (permission: read).\n",
            "Your token has been saved to /Users/huishingchong/.cache/huggingface/token\n",
            "Login successful\n",
            "Token has not been saved to git credential helper. Pass `add_to_git_credential=True` if you want to set the git credential as well.\n",
            "Token is valid (permission: read).\n",
            "Your token has been saved to /Users/huishingchong/.cache/huggingface/token\n",
            "Login successful\n"
          ]
        }
      ],
      "source": [
        "from langchain_community.llms import HuggingFaceEndpoint\n",
        "pre_trained_model_name = \"tiiuae/falcon-7b\"\n",
        "# pre_trained_model_name = \"mistralai/Mistral-7B-v0.1\"\n",
        "pre_trained_llm = HuggingFaceEndpoint(\n",
        "    repo_id=pre_trained_model_name,\n",
        "    model=pre_trained_model_name,\n",
        "    task=\"text-generation\",\n",
        "    temperature=0.5,\n",
        "    # max_length:1024,\n",
        "    max_new_tokens=200\n",
        ")\n",
        "\n",
        "fine_tuned_model_name = \"tiiuae/falcon-7b-instruct\"\n",
        "# fine_tuned_model_name = \"mistralai/Mistral-7B-Instruct-v0.1\"\n",
        "fine_tuned_llm = HuggingFaceEndpoint(\n",
        "    repo_id=fine_tuned_model_name,\n",
        "    model=fine_tuned_model_name,\n",
        "    task=\"text-generation\",\n",
        "    temperature=0.5,\n",
        "    # max_length:1024,\n",
        "    max_new_tokens=200\n",
        ")"
      ]
    },
    {
      "cell_type": "markdown",
      "metadata": {
        "id": "r6i2qN_Enr91"
      },
      "source": [
        "## Template-based prompting with Langchain"
      ]
    },
    {
      "cell_type": "code",
      "execution_count": 3,
      "metadata": {
        "id": "A_iRiO1Snr91"
      },
      "outputs": [],
      "source": [
        "from langchain.prompts import PromptTemplate\n",
        "template= \"\"\"\n",
        "Please answer the question.\n",
        "Answer professionally, and where appropriate, in a Computer Science educational context.\n",
        "Question: {question}\n",
        "Response: \"\"\"\n",
        "\n",
        "prompt = PromptTemplate(template=template, input_variables=[\"question\"])\n"
      ]
    },
    {
      "cell_type": "code",
      "execution_count": 4,
      "metadata": {
        "id": "vRLK6CZavZbF"
      },
      "outputs": [],
      "source": [
        "from langchain.chains import LLMChain\n",
        "\n",
        "pre_trained_llm_chain = LLMChain(prompt=prompt, llm=pre_trained_llm, verbose=False)\n",
        "fine_tuned_llm_chain = LLMChain(prompt=prompt, llm=fine_tuned_llm, verbose=False)"
      ]
    },
    {
      "cell_type": "code",
      "execution_count": 5,
      "metadata": {
        "colab": {
          "base_uri": "https://localhost:8080/"
        },
        "id": "qXHcyEy6v04l",
        "outputId": "080aaf77-225c-4a84-b0e7-646454fc55b2"
      },
      "outputs": [
        {
          "data": {
            "text/plain": [
              "{'question': 'what is AI?',\n",
              " 'text': '(Please answer the question)\\nAnswer: (Please answer the question)\\nPlease use the following link to complete the survey:\\nPlease let me know if you have any questions.\\nThank you for your time.\\nSincerely,\\nDr. Richard K. Lyons\\nAssociate Professor\\nDepartment of Computer Science\\nUniversity of North Carolina at Charlotte\\n(704) 687-2606\\nrichard.lyons@uncc.edu\\nYou are receiving this email because you have been in contact with the Department of Computer Science at the University of North Carolina at Charlotte. If you wish to be removed from the mailing list, please reply to this email and type \"remove\" in the subject line.'}"
            ]
          },
          "execution_count": 5,
          "metadata": {},
          "output_type": "execute_result"
        }
      ],
      "source": [
        "question = \"what is AI?\"\n",
        "input_dict = {'question': question}\n",
        "response = pre_trained_llm_chain.invoke(input_dict)\n",
        "response"
      ]
    },
    {
      "cell_type": "code",
      "execution_count": 6,
      "metadata": {
        "colab": {
          "base_uri": "https://localhost:8080/"
        },
        "id": "R3Pec96dnr91",
        "outputId": "f873d43e-9ef7-4ed3-c3cb-8df04083ef98"
      },
      "outputs": [
        {
          "data": {
            "text/plain": [
              "{'question': 'what is AI?',\n",
              " 'text': '\\nAI, or Artificial Intelligence, is a branch of computer science that focuses on creating intelligent machines that can perform tasks that typically require human intelligence. These tasks include problem-solving, learning, and adapting to new situations. AI is used in many applications, such as robotics, search engines, and medical diagnosis, to name a few. In the context of a Computer Science educational program, AI is typically studied as a specialized field, with courses covering topics such as machine learning, natural language processing, and robotics.'}"
            ]
          },
          "execution_count": 6,
          "metadata": {},
          "output_type": "execute_result"
        }
      ],
      "source": [
        "question = \"what is AI?\"\n",
        "input_dict = {'question': question}\n",
        "response = fine_tuned_llm_chain.invoke(input_dict)\n",
        "response"
      ]
    },
    {
      "cell_type": "markdown",
      "metadata": {
        "id": "x8GfKI0kwct0"
      },
      "source": [
        "From observation, the fine-tuned LLM (that was trained on chat/instruct datasets) follows and answers the prompt appropriately, however the pre-trained LLM does not seem to follow guidance from the prompt."
      ]
    },
    {
      "cell_type": "markdown",
      "metadata": {
        "id": "PjlwJCLJnr91"
      },
      "source": [
        "## Chat Interface"
      ]
    },
    {
      "cell_type": "code",
      "execution_count": null,
      "metadata": {
        "id": "cOawxE5Inr91"
      },
      "outputs": [],
      "source": [
        "import gradio as gr\n",
        "\n",
        "def chat_interface(textbox, chat):\n",
        "    input_dict = {'question': textbox}\n",
        "    response = fine_tuned_llm_chain.invoke(input_dict)\n",
        "    return response['text']\n",
        "\n",
        "gr.ChatInterface(\n",
        "    fn=chat_interface,\n",
        "    chatbot=gr.Chatbot(height=300),\n",
        "    textbox=gr.Textbox(placeholder=\"Ask me a question\", container=False, scale=7),\n",
        "    title=\"Chatbot\",\n",
        "    description=\"Ask Chatbot any question\",\n",
        "    theme=\"soft\",\n",
        "    examples=[\"What does AI stand for?\", \"What is Software Engineering?\", \"What is Cybersecurity?\"],\n",
        "    cache_examples=False,\n",
        "    retry_btn=None,\n",
        "    undo_btn=\"Delete Previous\",\n",
        "    clear_btn=\"Clear\",\n",
        ").launch(debug=True)\n"
      ]
    },
    {
      "cell_type": "markdown",
      "metadata": {
        "id": "A9I0lJ95nr92"
      },
      "source": [
        "## Evaluation\n",
        "### Comparing the performance between pre-trained and fine-tuned models with the same prompting."
      ]
    },
    {
      "cell_type": "code",
      "execution_count": null,
      "metadata": {
        "colab": {
          "base_uri": "https://localhost:8080/"
        },
        "id": "z5d0ilHFHDQd",
        "outputId": "95a69fec-a74a-45da-a133-99ad47b6c3dd"
      },
      "outputs": [],
      "source": [
        "!pip install torch tiktoken evaluate mlflow bert-score evaluate textstat\n"
      ]
    },
    {
      "cell_type": "markdown",
      "metadata": {
        "id": "oOxY_0PEtVhC"
      },
      "source": [
        "Prepare data set"
      ]
    },
    {
      "cell_type": "code",
      "execution_count": 7,
      "metadata": {
        "id": "VoV6GT3ZtoI2"
      },
      "outputs": [],
      "source": [
        "import pandas as pd\n",
        "data_skills_build = pd.DataFrame({\n",
        "    \"question\": [\n",
        "        \"How does IBM SkillsBuild help individuals develop their technical skills and advance their careers?\",\n",
        "        \"Can you explain the different learning paths available on IBM SkillsBuild platform?\",\n",
        "        \"What resources does IBM SkillsBuild offer to different age groups and how does it support their learning and professional development goals?\",\n",
        "        \"How does IBM SkillsBuild support personalized learning experiences for users?\",\n",
        "        # \"Can you describe the role of industry certifications in validating technical skills acquired through IBM SkillsBuild?\",\n",
        "        \"What resources does IBM SkillsBuild offer to help users prepare for certification exams in various technology domains?\"\n",
        "    ],\n",
        "    \"ground_truth\": [\n",
        "        \"With IBM SkillsBuild, individuals can develop their technical skills and advance their careers through a comprehensive suite of features and resources tailored to their needs. The platform offers a diverse range of learning opportunities, including modules on leadership, communication, programming, problem-solving, and writing skills, all of which are crucial for success in today's job market. By providing access to high-quality educational content and interactive learning experiences, IBM SkillsBuild empowers users to acquire new skills, deepen their expertise, and stay competitive in their respective fields. Additionally, the platform offers digital credentials that allow users to showcase their achievements and qualifications to potential employers, enhancing their credibility and marketability in the job market. Overall, IBM SkillsBuild serves as a valuable resource for individuals looking to upskill, reskill, or transition into new career paths, enabling them to pursue their professional goals with confidence and competence.\",\n",
        "        \"IBM SkillsBuild offers diverse paths for individuals to enhance their skills and pursue career goals. These paths include technical skills development in areas like programming, cloud computing, and cybersecurity, as well as soft skills enhancement such as communication and leadership. Career advancement tracks are available for fields like software development and digital marketing, while industry-specific learning paths cater to sectors like healthcare and finance. Additionally, individuals can obtain specialized certifications to validate their expertise in specific technologies or domains. Overall, IBM SkillsBuild provides a comprehensive platform for professional development, empowering learners to acquire new skills, advance their careers, and achieve their aspirations.\",\n",
        "        \"Adult Learners is designed for learners (age 18+) seeking employment in the immediate future. It provides adult learners with free job role preparation specifically focused on entry-level tech roles to help them gain meaningful employment, while earning credentials. High School Students is designed for learners at the career exploration stage (aged 13 to 18). It’s designed to help students begin their career exploration with free digital learning on cutting-edge technology and workplace skills. Academia is designed for university students and faculty. Students from IBM’s partner Universities can earn digital credentials, access software, and explore a library of university guest lectures across data science, artificial intelligence, security and more. Learners also have access to expert conversations from IBM volunteers, access to IBM software, and project-based learning (practical exercises to apply learning they have acquired, including labs using IBM technology). Software Downloads is an element within the IBM SkillsBuild program designed to provide learners and educators at degree-granting accredited academic institutions with access to select IBM assets at no-charge for classroom (teaching and learning) and non-commercial research purposes at the academic institution.\",\n",
        "        \"IBM SkillsBuild supports personalized learning experiences for users through several key features and capabilities: 1. Skill Assessment: The platform offers skill assessments to evaluate users' current proficiency levels in various domains, including technology, business, and digital literacy. These assessments help identify users' strengths and areas for improvement, enabling personalized learning paths. 2. Personalized Learning Paths: Based on the results of skill assessments and users' career goals, IBM SkillsBuild creates personalized learning paths tailored to each individual. These learning paths consist of curated learning modules, courses, and resources designed to address users' specific skill gaps and career objectives. 3. Adaptive Learning Content: The platform leverages adaptive learning technologies to dynamically adjust the difficulty and content of learning materials based on users' progress and performance. This ensures that users receive content that is appropriate for their skill levels and learning pace, optimizing the learning experience. 4. Recommendation Engine: IBM SkillsBuild employs a recommendation engine that suggests relevant courses, learning resources, and learning activities based on users' interests, preferences, and learning history. This personalized recommendation system helps users discover new topics, deepen their knowledge, and stay engaged with the learning process. 5. Interactive Learning Features: The platform offers interactive learning features such as quizzes, simulations, hands-on labs, and projects to enhance user engagement and retention. These interactive elements provide users with opportunities to apply their knowledge, practice skills, and receive immediate feedback, fostering active learning and skill development. 6. Progress Tracking and Feedback: IBM SkillsBuild enables users to track their learning progress, monitor their skill development, and receive feedback on their performance. Users can view their achievements, completion certificates, and skill badges, motivating them to continue learning and advancing their careers. Overall, IBM SkillsBuild's personalized learning approach empowers users to acquire new skills, gain valuable insights, and achieve their professional goals in a flexible and adaptive learning environment.\",\n",
        "        # \"Industry certifications validate technical skills acquired through IBM SkillsBuild by...\",\n",
        "        \"IBM SkillsBuild offers a comprehensive range of resources to assist users in preparing for certification exams across various technology domains. These resources typically include: \\nCourses and Learning Paths: SkillsBuild provides structured learning paths and courses designed to cover the topics and skills required for specific certification exams. These courses are often developed in collaboration with industry experts and align with the exam objectives. \\nHands-on Labs and Exercises: Users can access hands-on labs and exercises to gain practical experience and reinforce theoretical concepts covered in the courses. These labs often simulate real-world scenarios and provide a sandbox environment for experimentation.\\nPractice Tests and Assessments: SkillsBuild offers practice tests and assessments that mirror the format and difficulty level of the actual certification exams. These tests help users gauge their readiness and identify areas where they need to focus additional study.\\nInteractive Tutorials and Videos: Interactive tutorials and instructional videos supplement the learning experience by providing visual explanations, demonstrations, and walkthroughs of key concepts and techniques.\\nCommunity Forums and Support: Users can engage with a community of peers and experts through forums, discussion boards, and social media channels. This allows them to seek help, share insights, and collaborate with others who are also preparing for certification exams.\"\n",
        "    ]\n",
        "})\n",
        "data_cs = pd.DataFrame({\n",
        "    \"question\": [\n",
        "        \"Can you explain the concept of quantum computing and its potential applications?\",\n",
        "        \"How does blockchain technology impact cybersecurity practices?\",\n",
        "        \"Can you explain the difference between front-end and back-end web development?\",\n",
        "        \"How does cloud computing influence modern software development practices?\",\n",
        "        \"What are the key principles of agile software development methodology?\",\n",
        "        \"Can you describe the role of DevOps in the software development lifecycle?\",\n",
        "        \"How does natural language processing (NLP) contribute to advancements in artificial intelligence?\",\n",
        "        \"Can you provide examples of real-world applications of computer vision technology?\",\n",
        "    ],\n",
        "    \"ground_truth\": [\n",
        "        \"Quantum computing leverages the principles of quantum mechanics to process information in ways that traditional computers cannot. Unlike classical computers that use bits to represent information as either 0 or 1, quantum computers use quantum bits or qubits, which can exist in multiple states simultaneously due to superposition and can be entangled with each other, enabling exponentially faster computations for certain problems. Potential applications of quantum computing span various domains such as cryptography, where quantum algorithms can break traditional encryption methods, and optimization, where quantum algorithms can efficiently solve complex optimization problems encountered in fields like logistics, drug discovery, and financial modeling. Furthermore, quantum machine learning holds promise for enhancing pattern recognition, data analysis, and AI algorithms. However, the field is still in its nascent stages, with practical quantum computers facing significant engineering and scalability challenges before achieving widespread adoption.\",\n",
        "        \"Blockchain technology has a significant impact on cybersecurity practices by introducing new mechanisms for enhancing data integrity, confidentiality, and trust in digital transactions. One of the key features of blockchain is its decentralized and immutable ledger, which records transactions in a transparent and tamper-resistant manner, making it extremely difficult for malicious actors to alter or manipulate data without detection. This inherent transparency and immutability help mitigate the risk of data tampering, fraud, and unauthorized access, thereby strengthening cybersecurity defenses. Additionally, blockchain's use of cryptographic techniques ensures secure authentication, data encryption, and digital signatures, further bolstering the confidentiality and integrity of sensitive information. Furthermore, blockchain enables the development of decentralized identity management systems, where users have control over their digital identities and can securely authenticate themselves without relying on centralized authorities. Overall, blockchain technology provides innovative solutions for addressing cybersecurity challenges, offering improved data protection, integrity verification, and trustworthiness in digital transactions and interactions.\",\n",
        "        \"Front-end web development focuses on creating the visual elements and user experience of a website or web application that users interact with directly in a web browser. Front-end developers use languages like HTML, CSS, and JavaScript to design layouts, style elements, and add interactivity. They ensure the website is visually appealing, intuitive, and responsive across devices. In contrast, back-end web development deals with the server-side logic, databases, and infrastructure that power the functionality of the website or application. Back-end developers work with languages like Python, Java, or Node.js to handle server operations, process user requests, and manage data. They implement features like user authentication, database interactions, and server-side validation to ensure security and performance. Both front-end and back-end development are essential for creating a functional and engaging web experience, with developers often specializing in one or the other or working on full-stack development, encompassing both aspects.\",\n",
        "        \"Cloud computing has revolutionized modern software development practices by providing a scalable, flexible, and cost-effective infrastructure for building, deploying, and managing software applications. Cloud computing offers on-demand access to a wide range of computing resources, including storage, processing power, and networking, which eliminates the need for organizations to invest in and maintain their own physical hardware infrastructure. This accessibility to scalable resources enables developers to rapidly provision and deploy applications, iterate on software releases more quickly, and respond promptly to changing business requirements or user demands. Moreover, cloud platforms offer a rich ecosystem of managed services and tools for development, testing, monitoring, and deployment, streamlining the software development lifecycle and reducing time-to-market. Additionally, cloud computing facilitates collaboration among geographically distributed teams by providing centralized access to development environments and shared resources. Overall, cloud computing empowers developers with the agility, scalability, and efficiency needed to innovate and deliver high-quality software products in today's fast-paced digital landscape.\",\n",
        "        \"Agile software development methodology is based on several key principles that emphasize flexibility, collaboration, and continuous improvement throughout the software development process. Firstly, agile values individuals and interactions over processes and tools, emphasizing the importance of effective communication and teamwork within cross-functional teams. Secondly, it prioritizes working software over comprehensive documentation, encouraging the delivery of functional software increments in short iterations, allowing for rapid feedback and adaptation to changing requirements. Thirdly, customer collaboration is valued over contract negotiation, promoting active involvement and feedback from stakeholders throughout the development cycle to ensure the delivered product meets their needs. Additionally, agile emphasizes responding to change over following a rigid plan, embracing change as a natural part of the development process and adapting quickly to new requirements or insights. Overall, these principles guide agile teams in delivering high-quality software that meets customer expectations through iterative development, collaboration, and flexibility.\",\n",
        "        \"DevOps plays a crucial role in the software development lifecycle by bridging the gap between development (Dev) and operations (Ops) teams, with the goal of accelerating software delivery while maintaining high quality and reliability. DevOps promotes collaboration, communication, and automation throughout the development process, from code creation to deployment and maintenance. It emphasizes practices such as continuous integration (CI) and continuous delivery (CD), where code changes are frequently integrated, tested, and deployed in automated pipelines, enabling rapid feedback and iteration. DevOps also encourages infrastructure as code (IaC), where infrastructure configurations are managed programmatically, allowing for consistent, repeatable deployments and scalability. By fostering a culture of collaboration, automation, and continuous improvement, DevOps enables teams to deliver software faster, more reliably, and with reduced risk, ultimately enhancing the efficiency and effectiveness of the software development lifecycle.\",\n",
        "        \"Natural language processing (NLP) plays a pivotal role in advancing artificial intelligence (AI) by enabling machines to understand, interpret, and generate human language. Through the application of algorithms and techniques from computational linguistics and machine learning, NLP allows computers to analyze and derive meaning from unstructured text data, such as written or spoken language. This capability opens up a wide array of applications across various domains, including language translation, sentiment analysis, chatbots, virtual assistants, and information extraction. By harnessing the power of NLP, AI systems can interact with humans in a more natural and intuitive manner, facilitating communication and collaboration between humans and machines. Moreover, NLP enhances AI's ability to process and derive insights from vast amounts of textual data, leading to advancements in fields like data analytics, knowledge discovery, and decision support. Overall, NLP serves as a cornerstone of AI development, driving innovation and unlocking new possibilities for human-computer interaction and intelligent automation.\",\n",
        "        \"Computer vision technology has numerous real-world applications across various industries. In healthcare, it's used for medical image analysis, enabling automated diagnosis and detection of diseases from X-rays, MRIs, and CT scans, improving patient outcomes and treatment planning. In retail, computer vision powers cashier-less checkout systems, smart shelves, and facial recognition for personalized shopping experiences and inventory management. In autonomous vehicles, computer vision algorithms analyze road scenes, detect obstacles, and interpret traffic signs to facilitate safe navigation and driving decisions. In manufacturing, it's utilized for quality inspection, defect detection, and robotic automation, enhancing production efficiency and product quality. Additionally, computer vision is employed in security and surveillance systems for facial recognition, object tracking, and anomaly detection, bolstering public safety and crime prevention efforts. These examples illustrate the diverse applications and transformative impact of computer vision technology across various domains.\",\n",
        "    ]\n",
        "})\n",
        "\n",
        "#TO REVISE\n",
        "data_cs_industry = pd.DataFrame({\n",
        "    \"question\": [\n",
        "        \"What are the latest trends in artificial intelligence and machine learning?\",\n",
        "        \"What are some emerging programming languages that are gaining popularity in the industry?\",\n",
        "        \"I am a beginner that wants to get into Data Science, where should I start?\",\n",
        "        \"I am a final-year Computer Science student wanting to find a graduate role in Cybersecurity. What are the practical skills required for a career in Cybersecurity that are currently in-demand?\",\n",
        "        \"What are the essential skills required for a career in cybersecurity?\",\n",
        "        \"What are some in-demand technical skills for aspiring data analysts?\",\n",
        "        \"What are the career prospects for individuals with expertise in cybersecurity risk management?\",\n",
        "    ],\n",
        "    \"ground_truth\": [\n",
        "        \"In the realm of artificial intelligence (AI) and machine learning (ML), several notable trends have emerged recently. Firstly, there's a growing focus on explainable AI (XAI), which aims to make AI models more transparent and understandable to humans, crucial for applications in fields like healthcare and finance where interpretability is paramount. Secondly, federated learning has gained traction, enabling training of ML models across decentralized devices while preserving data privacy, pivotal for IoT and edge computing scenarios. Additionally, reinforcement learning (RL) advancements, particularly in deep RL, have seen remarkable progress, empowering AI systems to make sequential decisions in dynamic environments, with applications spanning robotics, autonomous vehicles, and gaming. Lastly, the integration of AI with other technologies like blockchain for enhanced security and trustworthiness and with quantum computing for tackling complex optimization problems signifies promising directions for future research and innovation in the AI landscape.\",\n",
        "        \"Several emerging programming languages are gaining traction in the industry due to their unique features and capabilities. One such language is Rust, known for its emphasis on safety, concurrency, and performance, making it suitable for systems programming where reliability and efficiency are critical. Another language on the rise is Julia, which specializes in numerical and scientific computing, offering high performance comparable to traditional languages like C and Fortran while maintaining a user-friendly syntax and extensive library support. Additionally, Kotlin, a statically typed language interoperable with Java, has become increasingly popular for Android app development, offering modern features and improved developer productivity. Lastly, Swift, developed by Apple, has gained momentum for iOS and macOS development, providing a concise and expressive syntax along with powerful features like optionals and automatic memory management. These emerging languages cater to specific niches and address evolving industry needs, showcasing their growing relevance and adoption in the programming landscape.\",\n",
        "        \"Here is a few things to learn about Data Science to get you started: \\nLearn Python or R: Choose one as your primary programming language. \\nBasic Statistics: Understand mean, median, mode, standard deviation, and probability.\\nData Manipulation: Learn Pandas (Python) or dplyr (R) for data cleaning and manipulation.\\nData Visualization: Use Matplotlib, Seaborn (Python), or ggplot2 (R) for visualization.\\nMachine Learning Basics: Start with linear regression, logistic regression, decision trees, and evaluation metrics.\\nPractice: Work on projects using real-world datasets from sources like Kaggle.\\nStay Updated: Follow online resources and communities for the latest trends and techniques.\",\n",
        "        \"As a final-year Computer Science student aiming for a graduate role in cybersecurity, it's essential to focus on developing practical skills that are currently in high demand in the industry.\\nSome of these key skills include:\\n\\n1. Knowledge of Networking: Understanding networking fundamentals, protocols (such as TCP/IP), and network architecture is crucial for identifying and mitigating security threats. Familiarize yourself with concepts like firewalls, routers, VPNs, and intrusion detection systems (IDS).\\n\\n2. Proficiency in Operating Systems: Gain proficiency in operating systems such as Linux and Windows, including command-line operations, system administration tasks, and security configurations. Being able to secure and harden operating systems is essential for protecting against common cybersecurity threats.\\n\\n3. Understanding of Cryptography: Cryptography is at the heart of cybersecurity, so having a solid understanding of encryption algorithms, cryptographic protocols, and cryptographic techniques is vital. Learn about symmetric and asymmetric encryption, digital signatures, hashing algorithms, and their applications in securing data and communications.\\n\\n4. Penetration Testing and Ethical Hacking: Develop skills in penetration testing and ethical hacking to identify vulnerabilities and assess the security posture of systems and networks. Familiarize yourself with tools and techniques used by ethical hackers, such as Kali Linux, Metasploit, Nmap, and Wireshark.\\n\\n5. Security Assessment and Risk Management: Learn how to conduct security assessments, risk assessments, and threat modeling to identify, prioritize, and mitigate security risks effectively. Understand risk management frameworks like NIST, ISO 27001, and COBIT, and how to apply them in real-world scenarios.\\n\\n6. Incident Response and Forensics: Acquire knowledge of incident response procedures, including detection, analysis, containment, eradication, and recovery from security incidents. Understand digital forensics principles and techniques for investigating and analyzing security breaches and cybercrimes.\\n\\n7. Security Awareness and Communication: Develop strong communication skills to effectively convey cybersecurity concepts, risks, and recommendations to technical and non-technical stakeholders. Being able to raise awareness about cybersecurity best practices and policies is essential for promoting a security-conscious culture within organizations.\\n\\n8. Continuous Learning and Adaptability: Cybersecurity is a rapidly evolving field, so it's essential to cultivate a mindset of continuous learning and adaptability. Stay updated with the latest threats, trends, technologies, and best practices through professional development, certifications, and participation in cybersecurity communities and events.\\n\\nBy focusing on developing these practical skills and staying abreast of industry trends and advancements, you'll be well-prepared to pursue a successful career in cybersecurity upon graduation. Additionally, consider obtaining relevant certifications such as CompTIA Security+, CEH (Certified Ethical Hacker), CISSP (Certified Information Systems Security Professional), or others to further enhance your credentials and marketability in the field.\",\n",
        "        \"A career in cybersecurity require a broad spectrum of practical skills, including proficiency in network security protocols and tools like firewalls and intrusion detection/prevention systems (IDS/IPS) for safeguarding network infrastructure. Secure coding practices and knowledge of common vulnerabilities are essential for developing secure software applications, with expertise in frameworks like OWASP Top 10 aiding in vulnerability mitigation. Encryption techniques and cryptographic protocols are vital for securing sensitive data, while incident response and digital forensics skills, alongside tools like SIEM systems, enable effective threat detection and response. Proficiency in penetration testing frameworks like Metasploit and security assessment tools is crucial for identifying and remediating security weaknesses, while knowledge of compliance frameworks such as GDPR ensures organizational adherence to cybersecurity regulations. Effective communication and collaboration skills are imperative for conveying cybersecurity risks and recommendations to stakeholders and collaborating with cross-functional teams to implement security measures. Continued learning and staying updated with the latest cybersecurity trends and technologies are key for navigating this ever-evolving field successfully.\",\n",
        "        \"In-demand technical skills for data analysts include proficiency in programming languages like Python, R, or SQL for data manipulation, analysis, and visualization. Familiarity with statistical analysis techniques, such as regression analysis, hypothesis testing, and predictive modeling, is essential for deriving insights from data. Knowledge of data querying and database management systems like MySQL, PostgreSQL, or MongoDB is valuable for accessing and organizing large datasets. Expertise in data wrangling techniques, using tools like pandas, dplyr, or data.table, enables cleaning and transforming raw data into actionable insights. Proficiency in data visualization libraries like Matplotlib, ggplot2, or seaborn is crucial for creating informative and visually appealing charts, graphs, and dashboards to communicate findings effectively. Additionally, experience with machine learning frameworks like scikit-learn or TensorFlow, along with knowledge of data mining techniques, enhances the ability to build predictive models and extract patterns from data.\",\n",
        "        \"Career opportunities for individuals in cybersecurity risk management include roles such as cybersecurity risk analysts, security consultants, risk managers, compliance officers, and cybersecurity architects. These professionals play a critical role in identifying, evaluating, and prioritizing cybersecurity risks, developing risk mitigation strategies, and ensuring compliance with regulatory requirements and industry standards. With the ever-evolving threat landscape and the increasing complexity of cybersecurity challenges, individuals with expertise in cybersecurity risk management can expect to have a wide range of career opportunities and advancement prospects in both the public and private sectors, including government agencies, financial institutions, healthcare organizations, and consulting firms. Additionally, obtaining relevant certifications such as Certified Information Systems Security Professional (CISSP), Certified Information Security Manager (CISM), or Certified Risk and Information Systems Control (CRISC) can further enhance career prospects and credibility in the field.\",\n",
        "    ]\n",
        "})"
      ]
    },
    {
      "cell_type": "markdown",
      "metadata": {},
      "source": [
        "Run the models over the evaluation data set once and save results to their respective csv file (for static evaluation)"
      ]
    },
    {
      "cell_type": "code",
      "execution_count": 8,
      "metadata": {
        "id": "8Cm2HUJEhUpg"
      },
      "outputs": [],
      "source": [
        "# Helper function: To prevent having to run predictions again, save output to the dataset as a new column 'predictions'\n",
        "import datasets\n",
        "\n",
        "def chain_predictions_from_data(llm_chain, eval_data):\n",
        "  data = eval_data.copy()\n",
        "  predictions = []  # List to store predictions for all questions\n",
        "  for question in data['question']:\n",
        "    # Invoke the llm_chain model with the current question\n",
        "    input_dict = {'question': question}\n",
        "    response = llm_chain.invoke(input_dict)\n",
        "    generated_text = response['text']\n",
        "    predictions.append(generated_text)  # Append the generated text to the predictions list\n",
        "\n",
        "  data['predictions'] = predictions  # Assign the predictions list to a new column\n",
        "  return data"
      ]
    },
    {
      "cell_type": "code",
      "execution_count": 9,
      "metadata": {
        "colab": {
          "base_uri": "https://localhost:8080/"
        },
        "id": "VFgxYdbhxE9p",
        "outputId": "ad82e3dc-ac96-4ae9-f238-c8aacfe0eaad"
      },
      "outputs": [],
      "source": [
        "pre_data_skills_build = chain_predictions_from_data(pre_trained_llm_chain, data_skills_build)\n",
        "pre_data_cs = chain_predictions_from_data(pre_trained_llm_chain, data_cs)\n",
        "pre_data_cs_industry = chain_predictions_from_data(pre_trained_llm_chain, data_cs_industry)\n",
        "\n",
        "# Create folders if they don't exist\n",
        "os.makedirs(\"skillsbuild\", exist_ok=True)\n",
        "os.makedirs(\"cs\", exist_ok=True)\n",
        "os.makedirs(\"industry\", exist_ok=True)\n",
        "\n",
        "pre_data_skills_build.to_csv(\"skillsbuild/pre-trained.csv\", index=False)\n",
        "pre_data_cs.to_csv(\"cs/pre-trained.csv\", index=False)\n",
        "pre_data_cs_industry.to_csv(\"industry/pre-trained.csv\", index=False)"
      ]
    },
    {
      "cell_type": "code",
      "execution_count": 10,
      "metadata": {
        "colab": {
          "base_uri": "https://localhost:8080/"
        },
        "id": "FAqTdOdPxDrk",
        "outputId": "628a9022-50eb-411f-fdfe-2fbc1089540b"
      },
      "outputs": [],
      "source": [
        "fine_data_skills_build = chain_predictions_from_data(fine_tuned_llm_chain, data_skills_build)\n",
        "fine_data_cs = chain_predictions_from_data(fine_tuned_llm_chain, data_cs)\n",
        "fine_data_cs_industry = chain_predictions_from_data(fine_tuned_llm_chain, data_cs_industry)\n",
        "\n",
        "fine_data_skills_build.to_csv(\"skillsbuild/fine-trained.csv\", index=False)\n",
        "fine_data_cs.to_csv(\"cs/fine-trained.csv\", index=False)\n",
        "fine_data_cs_industry.to_csv(\"industry/fine-trained.csv\", index=False)"
      ]
    },
    {
      "cell_type": "markdown",
      "metadata": {
        "id": "bX8YvjeAMV67"
      },
      "source": [
        "Generate bert score results table"
      ]
    },
    {
      "cell_type": "code",
      "execution_count": 11,
      "metadata": {
        "id": "qPrW2jG0Lfxw"
      },
      "outputs": [],
      "source": [
        "from evaluate import load\n",
        "\n",
        "def generate_bert_results_table(eval_data):\n",
        "    ref_texts = eval_data['ground_truth']\n",
        "    predictions = eval_data['predictions']\n",
        "\n",
        "    # Compute BERTScore\n",
        "    bertscore = load(\"bertscore\")\n",
        "    results = bertscore.compute(predictions=predictions, references=ref_texts, model_type=\"distilbert-base-uncased\")\n",
        "\n",
        "    # Create DataFrame from BERTScore results\n",
        "    bert_results_table = pd.DataFrame(results, index=range(0, len(results['precision'])))\n",
        "    bert_results_table['question'] = eval_data['question']\n",
        "\n",
        "    bert_results_table.drop(columns=['hashcode'], inplace=True)\n",
        "    bert_results_table = bert_results_table[['question', 'precision', 'recall', 'f1']]\n",
        "\n",
        "    return bert_results_table"
      ]
    },
    {
      "cell_type": "code",
      "execution_count": 12,
      "metadata": {
        "colab": {
          "base_uri": "https://localhost:8080/",
          "height": 370
        },
        "id": "bCeuSuIGs0Rr",
        "outputId": "9ccbaa7e-784b-4947-f9ae-2df6ce6ff5af"
      },
      "outputs": [
        {
          "data": {
            "text/html": [
              "<div>\n",
              "<style scoped>\n",
              "    .dataframe tbody tr th:only-of-type {\n",
              "        vertical-align: middle;\n",
              "    }\n",
              "\n",
              "    .dataframe tbody tr th {\n",
              "        vertical-align: top;\n",
              "    }\n",
              "\n",
              "    .dataframe thead th {\n",
              "        text-align: right;\n",
              "    }\n",
              "</style>\n",
              "<table border=\"1\" class=\"dataframe\">\n",
              "  <thead>\n",
              "    <tr style=\"text-align: right;\">\n",
              "      <th></th>\n",
              "      <th>question</th>\n",
              "      <th>precision</th>\n",
              "      <th>recall</th>\n",
              "      <th>f1</th>\n",
              "    </tr>\n",
              "  </thead>\n",
              "  <tbody>\n",
              "    <tr>\n",
              "      <th>0</th>\n",
              "      <td>Can you explain the concept of quantum computi...</td>\n",
              "      <td>0.778063</td>\n",
              "      <td>0.787294</td>\n",
              "      <td>0.782651</td>\n",
              "    </tr>\n",
              "    <tr>\n",
              "      <th>1</th>\n",
              "      <td>How does blockchain technology impact cybersec...</td>\n",
              "      <td>0.678306</td>\n",
              "      <td>0.695065</td>\n",
              "      <td>0.686583</td>\n",
              "    </tr>\n",
              "    <tr>\n",
              "      <th>2</th>\n",
              "      <td>Can you explain the difference between front-e...</td>\n",
              "      <td>0.742588</td>\n",
              "      <td>0.766526</td>\n",
              "      <td>0.754367</td>\n",
              "    </tr>\n",
              "    <tr>\n",
              "      <th>3</th>\n",
              "      <td>How does cloud computing influence modern soft...</td>\n",
              "      <td>0.738730</td>\n",
              "      <td>0.742602</td>\n",
              "      <td>0.740661</td>\n",
              "    </tr>\n",
              "    <tr>\n",
              "      <th>4</th>\n",
              "      <td>What are the key principles of agile software ...</td>\n",
              "      <td>0.681095</td>\n",
              "      <td>0.689578</td>\n",
              "      <td>0.685310</td>\n",
              "    </tr>\n",
              "    <tr>\n",
              "      <th>5</th>\n",
              "      <td>Can you describe the role of DevOps in the sof...</td>\n",
              "      <td>0.670405</td>\n",
              "      <td>0.573432</td>\n",
              "      <td>0.618138</td>\n",
              "    </tr>\n",
              "    <tr>\n",
              "      <th>6</th>\n",
              "      <td>How does natural language processing (NLP) con...</td>\n",
              "      <td>0.809256</td>\n",
              "      <td>0.816455</td>\n",
              "      <td>0.812840</td>\n",
              "    </tr>\n",
              "    <tr>\n",
              "      <th>7</th>\n",
              "      <td>Can you provide examples of real-world applica...</td>\n",
              "      <td>0.736872</td>\n",
              "      <td>0.726091</td>\n",
              "      <td>0.731442</td>\n",
              "    </tr>\n",
              "  </tbody>\n",
              "</table>\n",
              "</div>"
            ],
            "text/plain": [
              "                                            question  precision    recall  \\\n",
              "0  Can you explain the concept of quantum computi...   0.778063  0.787294   \n",
              "1  How does blockchain technology impact cybersec...   0.678306  0.695065   \n",
              "2  Can you explain the difference between front-e...   0.742588  0.766526   \n",
              "3  How does cloud computing influence modern soft...   0.738730  0.742602   \n",
              "4  What are the key principles of agile software ...   0.681095  0.689578   \n",
              "5  Can you describe the role of DevOps in the sof...   0.670405  0.573432   \n",
              "6  How does natural language processing (NLP) con...   0.809256  0.816455   \n",
              "7  Can you provide examples of real-world applica...   0.736872  0.726091   \n",
              "\n",
              "         f1  \n",
              "0  0.782651  \n",
              "1  0.686583  \n",
              "2  0.754367  \n",
              "3  0.740661  \n",
              "4  0.685310  \n",
              "5  0.618138  \n",
              "6  0.812840  \n",
              "7  0.731442  "
            ]
          },
          "execution_count": 12,
          "metadata": {},
          "output_type": "execute_result"
        }
      ],
      "source": [
        "generate_bert_results_table(pre_data_cs)"
      ]
    },
    {
      "cell_type": "code",
      "execution_count": 13,
      "metadata": {
        "colab": {
          "base_uri": "https://localhost:8080/",
          "height": 370
        },
        "id": "ayuVnCydy5jU",
        "outputId": "c784bf3a-75dc-4996-bd90-f7a0d7d653f9"
      },
      "outputs": [
        {
          "data": {
            "text/html": [
              "<div>\n",
              "<style scoped>\n",
              "    .dataframe tbody tr th:only-of-type {\n",
              "        vertical-align: middle;\n",
              "    }\n",
              "\n",
              "    .dataframe tbody tr th {\n",
              "        vertical-align: top;\n",
              "    }\n",
              "\n",
              "    .dataframe thead th {\n",
              "        text-align: right;\n",
              "    }\n",
              "</style>\n",
              "<table border=\"1\" class=\"dataframe\">\n",
              "  <thead>\n",
              "    <tr style=\"text-align: right;\">\n",
              "      <th></th>\n",
              "      <th>question</th>\n",
              "      <th>precision</th>\n",
              "      <th>recall</th>\n",
              "      <th>f1</th>\n",
              "    </tr>\n",
              "  </thead>\n",
              "  <tbody>\n",
              "    <tr>\n",
              "      <th>0</th>\n",
              "      <td>Can you explain the concept of quantum computi...</td>\n",
              "      <td>0.855157</td>\n",
              "      <td>0.851550</td>\n",
              "      <td>0.853350</td>\n",
              "    </tr>\n",
              "    <tr>\n",
              "      <th>1</th>\n",
              "      <td>How does blockchain technology impact cybersec...</td>\n",
              "      <td>0.837080</td>\n",
              "      <td>0.836755</td>\n",
              "      <td>0.836918</td>\n",
              "    </tr>\n",
              "    <tr>\n",
              "      <th>2</th>\n",
              "      <td>Can you explain the difference between front-e...</td>\n",
              "      <td>0.855173</td>\n",
              "      <td>0.828819</td>\n",
              "      <td>0.841790</td>\n",
              "    </tr>\n",
              "    <tr>\n",
              "      <th>3</th>\n",
              "      <td>How does cloud computing influence modern soft...</td>\n",
              "      <td>0.877785</td>\n",
              "      <td>0.827568</td>\n",
              "      <td>0.851937</td>\n",
              "    </tr>\n",
              "    <tr>\n",
              "      <th>4</th>\n",
              "      <td>What are the key principles of agile software ...</td>\n",
              "      <td>0.797728</td>\n",
              "      <td>0.809658</td>\n",
              "      <td>0.803649</td>\n",
              "    </tr>\n",
              "    <tr>\n",
              "      <th>5</th>\n",
              "      <td>Can you describe the role of DevOps in the sof...</td>\n",
              "      <td>0.863096</td>\n",
              "      <td>0.813653</td>\n",
              "      <td>0.837645</td>\n",
              "    </tr>\n",
              "    <tr>\n",
              "      <th>6</th>\n",
              "      <td>How does natural language processing (NLP) con...</td>\n",
              "      <td>0.881150</td>\n",
              "      <td>0.852130</td>\n",
              "      <td>0.866397</td>\n",
              "    </tr>\n",
              "    <tr>\n",
              "      <th>7</th>\n",
              "      <td>Can you provide examples of real-world applica...</td>\n",
              "      <td>0.810709</td>\n",
              "      <td>0.805672</td>\n",
              "      <td>0.808183</td>\n",
              "    </tr>\n",
              "  </tbody>\n",
              "</table>\n",
              "</div>"
            ],
            "text/plain": [
              "                                            question  precision    recall  \\\n",
              "0  Can you explain the concept of quantum computi...   0.855157  0.851550   \n",
              "1  How does blockchain technology impact cybersec...   0.837080  0.836755   \n",
              "2  Can you explain the difference between front-e...   0.855173  0.828819   \n",
              "3  How does cloud computing influence modern soft...   0.877785  0.827568   \n",
              "4  What are the key principles of agile software ...   0.797728  0.809658   \n",
              "5  Can you describe the role of DevOps in the sof...   0.863096  0.813653   \n",
              "6  How does natural language processing (NLP) con...   0.881150  0.852130   \n",
              "7  Can you provide examples of real-world applica...   0.810709  0.805672   \n",
              "\n",
              "         f1  \n",
              "0  0.853350  \n",
              "1  0.836918  \n",
              "2  0.841790  \n",
              "3  0.851937  \n",
              "4  0.803649  \n",
              "5  0.837645  \n",
              "6  0.866397  \n",
              "7  0.808183  "
            ]
          },
          "execution_count": 13,
          "metadata": {},
          "output_type": "execute_result"
        }
      ],
      "source": [
        "generate_bert_results_table(fine_data_cs)"
      ]
    },
    {
      "cell_type": "code",
      "execution_count": 14,
      "metadata": {
        "colab": {
          "base_uri": "https://localhost:8080/",
          "height": 286
        },
        "id": "DiRBMu117ACg",
        "outputId": "402270d4-6fb0-4cfa-a746-c8ccb5a94a2f"
      },
      "outputs": [
        {
          "data": {
            "text/html": [
              "<div>\n",
              "<style scoped>\n",
              "    .dataframe tbody tr th:only-of-type {\n",
              "        vertical-align: middle;\n",
              "    }\n",
              "\n",
              "    .dataframe tbody tr th {\n",
              "        vertical-align: top;\n",
              "    }\n",
              "\n",
              "    .dataframe thead th {\n",
              "        text-align: right;\n",
              "    }\n",
              "</style>\n",
              "<table border=\"1\" class=\"dataframe\">\n",
              "  <thead>\n",
              "    <tr style=\"text-align: right;\">\n",
              "      <th></th>\n",
              "      <th>question</th>\n",
              "      <th>precision</th>\n",
              "      <th>recall</th>\n",
              "      <th>f1</th>\n",
              "    </tr>\n",
              "  </thead>\n",
              "  <tbody>\n",
              "    <tr>\n",
              "      <th>0</th>\n",
              "      <td>What are the latest trends in artificial intel...</td>\n",
              "      <td>0.681019</td>\n",
              "      <td>0.682410</td>\n",
              "      <td>0.681713</td>\n",
              "    </tr>\n",
              "    <tr>\n",
              "      <th>1</th>\n",
              "      <td>What are some emerging programming languages t...</td>\n",
              "      <td>0.696078</td>\n",
              "      <td>0.720470</td>\n",
              "      <td>0.708064</td>\n",
              "    </tr>\n",
              "    <tr>\n",
              "      <th>2</th>\n",
              "      <td>I am a beginner that wants to get into Data Sc...</td>\n",
              "      <td>0.737282</td>\n",
              "      <td>0.771507</td>\n",
              "      <td>0.754006</td>\n",
              "    </tr>\n",
              "    <tr>\n",
              "      <th>3</th>\n",
              "      <td>I am a final-year Computer Science student wan...</td>\n",
              "      <td>0.845743</td>\n",
              "      <td>0.758846</td>\n",
              "      <td>0.799942</td>\n",
              "    </tr>\n",
              "    <tr>\n",
              "      <th>4</th>\n",
              "      <td>What are the essential skills required for a c...</td>\n",
              "      <td>0.717060</td>\n",
              "      <td>0.690978</td>\n",
              "      <td>0.703777</td>\n",
              "    </tr>\n",
              "    <tr>\n",
              "      <th>5</th>\n",
              "      <td>What are some in-demand technical skills for a...</td>\n",
              "      <td>0.779673</td>\n",
              "      <td>0.683995</td>\n",
              "      <td>0.728707</td>\n",
              "    </tr>\n",
              "    <tr>\n",
              "      <th>6</th>\n",
              "      <td>What are the career prospects for individuals ...</td>\n",
              "      <td>0.674847</td>\n",
              "      <td>0.753747</td>\n",
              "      <td>0.712118</td>\n",
              "    </tr>\n",
              "  </tbody>\n",
              "</table>\n",
              "</div>"
            ],
            "text/plain": [
              "                                            question  precision    recall  \\\n",
              "0  What are the latest trends in artificial intel...   0.681019  0.682410   \n",
              "1  What are some emerging programming languages t...   0.696078  0.720470   \n",
              "2  I am a beginner that wants to get into Data Sc...   0.737282  0.771507   \n",
              "3  I am a final-year Computer Science student wan...   0.845743  0.758846   \n",
              "4  What are the essential skills required for a c...   0.717060  0.690978   \n",
              "5  What are some in-demand technical skills for a...   0.779673  0.683995   \n",
              "6  What are the career prospects for individuals ...   0.674847  0.753747   \n",
              "\n",
              "         f1  \n",
              "0  0.681713  \n",
              "1  0.708064  \n",
              "2  0.754006  \n",
              "3  0.799942  \n",
              "4  0.703777  \n",
              "5  0.728707  \n",
              "6  0.712118  "
            ]
          },
          "execution_count": 14,
          "metadata": {},
          "output_type": "execute_result"
        }
      ],
      "source": [
        "generate_bert_results_table(pre_data_cs_industry)"
      ]
    },
    {
      "cell_type": "code",
      "execution_count": 15,
      "metadata": {
        "colab": {
          "base_uri": "https://localhost:8080/",
          "height": 286
        },
        "id": "9qmbzVNqLyR7",
        "outputId": "0bbe6ff4-3f29-43fd-d771-fd9445c3d95d"
      },
      "outputs": [
        {
          "data": {
            "text/html": [
              "<div>\n",
              "<style scoped>\n",
              "    .dataframe tbody tr th:only-of-type {\n",
              "        vertical-align: middle;\n",
              "    }\n",
              "\n",
              "    .dataframe tbody tr th {\n",
              "        vertical-align: top;\n",
              "    }\n",
              "\n",
              "    .dataframe thead th {\n",
              "        text-align: right;\n",
              "    }\n",
              "</style>\n",
              "<table border=\"1\" class=\"dataframe\">\n",
              "  <thead>\n",
              "    <tr style=\"text-align: right;\">\n",
              "      <th></th>\n",
              "      <th>question</th>\n",
              "      <th>precision</th>\n",
              "      <th>recall</th>\n",
              "      <th>f1</th>\n",
              "    </tr>\n",
              "  </thead>\n",
              "  <tbody>\n",
              "    <tr>\n",
              "      <th>0</th>\n",
              "      <td>What are the latest trends in artificial intel...</td>\n",
              "      <td>0.824704</td>\n",
              "      <td>0.766329</td>\n",
              "      <td>0.794445</td>\n",
              "    </tr>\n",
              "    <tr>\n",
              "      <th>1</th>\n",
              "      <td>What are some emerging programming languages t...</td>\n",
              "      <td>0.806882</td>\n",
              "      <td>0.810512</td>\n",
              "      <td>0.808693</td>\n",
              "    </tr>\n",
              "    <tr>\n",
              "      <th>2</th>\n",
              "      <td>I am a beginner that wants to get into Data Sc...</td>\n",
              "      <td>0.782380</td>\n",
              "      <td>0.789238</td>\n",
              "      <td>0.785794</td>\n",
              "    </tr>\n",
              "    <tr>\n",
              "      <th>3</th>\n",
              "      <td>I am a final-year Computer Science student wan...</td>\n",
              "      <td>0.872115</td>\n",
              "      <td>0.804891</td>\n",
              "      <td>0.837156</td>\n",
              "    </tr>\n",
              "    <tr>\n",
              "      <th>4</th>\n",
              "      <td>What are the essential skills required for a c...</td>\n",
              "      <td>0.783961</td>\n",
              "      <td>0.812180</td>\n",
              "      <td>0.797821</td>\n",
              "    </tr>\n",
              "    <tr>\n",
              "      <th>5</th>\n",
              "      <td>What are some in-demand technical skills for a...</td>\n",
              "      <td>0.899045</td>\n",
              "      <td>0.824881</td>\n",
              "      <td>0.860368</td>\n",
              "    </tr>\n",
              "    <tr>\n",
              "      <th>6</th>\n",
              "      <td>What are the career prospects for individuals ...</td>\n",
              "      <td>0.821867</td>\n",
              "      <td>0.853099</td>\n",
              "      <td>0.837192</td>\n",
              "    </tr>\n",
              "  </tbody>\n",
              "</table>\n",
              "</div>"
            ],
            "text/plain": [
              "                                            question  precision    recall  \\\n",
              "0  What are the latest trends in artificial intel...   0.824704  0.766329   \n",
              "1  What are some emerging programming languages t...   0.806882  0.810512   \n",
              "2  I am a beginner that wants to get into Data Sc...   0.782380  0.789238   \n",
              "3  I am a final-year Computer Science student wan...   0.872115  0.804891   \n",
              "4  What are the essential skills required for a c...   0.783961  0.812180   \n",
              "5  What are some in-demand technical skills for a...   0.899045  0.824881   \n",
              "6  What are the career prospects for individuals ...   0.821867  0.853099   \n",
              "\n",
              "         f1  \n",
              "0  0.794445  \n",
              "1  0.808693  \n",
              "2  0.785794  \n",
              "3  0.837156  \n",
              "4  0.797821  \n",
              "5  0.860368  \n",
              "6  0.837192  "
            ]
          },
          "execution_count": 15,
          "metadata": {},
          "output_type": "execute_result"
        }
      ],
      "source": [
        "generate_bert_results_table(fine_data_cs_industry)"
      ]
    },
    {
      "cell_type": "code",
      "execution_count": 16,
      "metadata": {
        "colab": {
          "base_uri": "https://localhost:8080/",
          "height": 206
        },
        "id": "9myxOeRHs2p-",
        "outputId": "82c759f8-6fd7-42c3-d57e-64a7b7994360"
      },
      "outputs": [
        {
          "data": {
            "text/html": [
              "<div>\n",
              "<style scoped>\n",
              "    .dataframe tbody tr th:only-of-type {\n",
              "        vertical-align: middle;\n",
              "    }\n",
              "\n",
              "    .dataframe tbody tr th {\n",
              "        vertical-align: top;\n",
              "    }\n",
              "\n",
              "    .dataframe thead th {\n",
              "        text-align: right;\n",
              "    }\n",
              "</style>\n",
              "<table border=\"1\" class=\"dataframe\">\n",
              "  <thead>\n",
              "    <tr style=\"text-align: right;\">\n",
              "      <th></th>\n",
              "      <th>question</th>\n",
              "      <th>precision</th>\n",
              "      <th>recall</th>\n",
              "      <th>f1</th>\n",
              "    </tr>\n",
              "  </thead>\n",
              "  <tbody>\n",
              "    <tr>\n",
              "      <th>0</th>\n",
              "      <td>How does IBM SkillsBuild help individuals deve...</td>\n",
              "      <td>0.683562</td>\n",
              "      <td>0.696611</td>\n",
              "      <td>0.690025</td>\n",
              "    </tr>\n",
              "    <tr>\n",
              "      <th>1</th>\n",
              "      <td>Can you explain the different learning paths a...</td>\n",
              "      <td>0.760888</td>\n",
              "      <td>0.750641</td>\n",
              "      <td>0.755729</td>\n",
              "    </tr>\n",
              "    <tr>\n",
              "      <th>2</th>\n",
              "      <td>What resources does IBM SkillsBuild offer to d...</td>\n",
              "      <td>0.791096</td>\n",
              "      <td>0.752240</td>\n",
              "      <td>0.771179</td>\n",
              "    </tr>\n",
              "    <tr>\n",
              "      <th>3</th>\n",
              "      <td>How does IBM SkillsBuild support personalized ...</td>\n",
              "      <td>0.811032</td>\n",
              "      <td>0.791336</td>\n",
              "      <td>0.801063</td>\n",
              "    </tr>\n",
              "    <tr>\n",
              "      <th>4</th>\n",
              "      <td>What resources does IBM SkillsBuild offer to h...</td>\n",
              "      <td>0.691666</td>\n",
              "      <td>0.680519</td>\n",
              "      <td>0.686047</td>\n",
              "    </tr>\n",
              "  </tbody>\n",
              "</table>\n",
              "</div>"
            ],
            "text/plain": [
              "                                            question  precision    recall  \\\n",
              "0  How does IBM SkillsBuild help individuals deve...   0.683562  0.696611   \n",
              "1  Can you explain the different learning paths a...   0.760888  0.750641   \n",
              "2  What resources does IBM SkillsBuild offer to d...   0.791096  0.752240   \n",
              "3  How does IBM SkillsBuild support personalized ...   0.811032  0.791336   \n",
              "4  What resources does IBM SkillsBuild offer to h...   0.691666  0.680519   \n",
              "\n",
              "         f1  \n",
              "0  0.690025  \n",
              "1  0.755729  \n",
              "2  0.771179  \n",
              "3  0.801063  \n",
              "4  0.686047  "
            ]
          },
          "execution_count": 16,
          "metadata": {},
          "output_type": "execute_result"
        }
      ],
      "source": [
        "generate_bert_results_table(pre_data_skills_build)"
      ]
    },
    {
      "cell_type": "code",
      "execution_count": 17,
      "metadata": {
        "colab": {
          "base_uri": "https://localhost:8080/",
          "height": 206
        },
        "id": "OZchRtG-7K-x",
        "outputId": "e47f0878-958a-483c-a6ca-cec763c2e591"
      },
      "outputs": [
        {
          "data": {
            "text/html": [
              "<div>\n",
              "<style scoped>\n",
              "    .dataframe tbody tr th:only-of-type {\n",
              "        vertical-align: middle;\n",
              "    }\n",
              "\n",
              "    .dataframe tbody tr th {\n",
              "        vertical-align: top;\n",
              "    }\n",
              "\n",
              "    .dataframe thead th {\n",
              "        text-align: right;\n",
              "    }\n",
              "</style>\n",
              "<table border=\"1\" class=\"dataframe\">\n",
              "  <thead>\n",
              "    <tr style=\"text-align: right;\">\n",
              "      <th></th>\n",
              "      <th>question</th>\n",
              "      <th>precision</th>\n",
              "      <th>recall</th>\n",
              "      <th>f1</th>\n",
              "    </tr>\n",
              "  </thead>\n",
              "  <tbody>\n",
              "    <tr>\n",
              "      <th>0</th>\n",
              "      <td>How does IBM SkillsBuild help individuals deve...</td>\n",
              "      <td>0.855215</td>\n",
              "      <td>0.865630</td>\n",
              "      <td>0.860391</td>\n",
              "    </tr>\n",
              "    <tr>\n",
              "      <th>1</th>\n",
              "      <td>Can you explain the different learning paths a...</td>\n",
              "      <td>0.762717</td>\n",
              "      <td>0.827119</td>\n",
              "      <td>0.793613</td>\n",
              "    </tr>\n",
              "    <tr>\n",
              "      <th>2</th>\n",
              "      <td>What resources does IBM SkillsBuild offer to d...</td>\n",
              "      <td>0.810133</td>\n",
              "      <td>0.761275</td>\n",
              "      <td>0.784944</td>\n",
              "    </tr>\n",
              "    <tr>\n",
              "      <th>3</th>\n",
              "      <td>How does IBM SkillsBuild support personalized ...</td>\n",
              "      <td>0.861324</td>\n",
              "      <td>0.819746</td>\n",
              "      <td>0.840021</td>\n",
              "    </tr>\n",
              "    <tr>\n",
              "      <th>4</th>\n",
              "      <td>What resources does IBM SkillsBuild offer to h...</td>\n",
              "      <td>0.879381</td>\n",
              "      <td>0.808881</td>\n",
              "      <td>0.842659</td>\n",
              "    </tr>\n",
              "  </tbody>\n",
              "</table>\n",
              "</div>"
            ],
            "text/plain": [
              "                                            question  precision    recall  \\\n",
              "0  How does IBM SkillsBuild help individuals deve...   0.855215  0.865630   \n",
              "1  Can you explain the different learning paths a...   0.762717  0.827119   \n",
              "2  What resources does IBM SkillsBuild offer to d...   0.810133  0.761275   \n",
              "3  How does IBM SkillsBuild support personalized ...   0.861324  0.819746   \n",
              "4  What resources does IBM SkillsBuild offer to h...   0.879381  0.808881   \n",
              "\n",
              "         f1  \n",
              "0  0.860391  \n",
              "1  0.793613  \n",
              "2  0.784944  \n",
              "3  0.840021  \n",
              "4  0.842659  "
            ]
          },
          "execution_count": 17,
          "metadata": {},
          "output_type": "execute_result"
        }
      ],
      "source": [
        "generate_bert_results_table(fine_data_skills_build)"
      ]
    },
    {
      "cell_type": "markdown",
      "metadata": {},
      "source": [
        "MLFlow: Toxicity and Readability metrics"
      ]
    },
    {
      "cell_type": "code",
      "execution_count": null,
      "metadata": {
        "id": "-GdYtqDkI5fp"
      },
      "outputs": [],
      "source": [
        "# to connect to mlflow server, run: mlflow ui"
      ]
    },
    {
      "cell_type": "code",
      "execution_count": 18,
      "metadata": {
        "colab": {
          "base_uri": "https://localhost:8080/"
        },
        "id": "4aqMar9Gnr92",
        "outputId": "a6ae0c22-e0f0-4721-a64e-c07992dcc642"
      },
      "outputs": [
        {
          "name": "stderr",
          "output_type": "stream",
          "text": [
            "2024/03/11 16:59:42 INFO mlflow.tracking.fluent: Experiment with name '/falcon-evaluation' does not exist. Creating a new experiment.\n"
          ]
        }
      ],
      "source": [
        "import mlflow\n",
        "from mlflow.models import infer_signature\n",
        "import pandas as pd\n",
        "\n",
        "input_columns = [{\"question\": \"string\"}]\n",
        "output_columns = [{\"text\": \"string\"}]\n",
        "signature = infer_signature(input_columns, output_columns)\n",
        "\n",
        "mlflow.set_tracking_uri(\"http://127.0.0.1:5000\")\n",
        "mlflow.set_experiment(\"/falcon-evaluation\")\n",
        "\n",
        "# eval_data: dataframe with questions, ground_truth and predictions\n",
        "def mlflow_evaluation(eval_data):\n",
        "  with mlflow.start_run() as run:\n",
        "    mlflow_results = mlflow.evaluate(\n",
        "        data=eval_data,\n",
        "        targets=\"ground_truth\",\n",
        "        predictions=\"predictions\",\n",
        "        model_type=\"question-answering\",\n",
        "    )\n",
        "    # print(f\"See aggregated evaluation results below: \\n{mlflow_results.metrics}\")\n",
        "\n",
        "    eval_table = mlflow_results.tables[\"eval_results_table\"]\n",
        "    print(f\"See evaluation table below: \\n{eval_table}\")"
      ]
    },
    {
      "cell_type": "code",
      "execution_count": 19,
      "metadata": {
        "colab": {
          "base_uri": "https://localhost:8080/",
          "height": 819,
          "referenced_widgets": [
            "f9af2f819a7049c5b44a68a2360abef8",
            "cd2262d5e65b4caa9f34f7fe901d8c76",
            "4a100d1b8f3d43d095cfd46f63aec905",
            "f11044facf0c4c4795d9eb813e050d65",
            "5e66209521de493cb344a22bbf8e9bac",
            "002110f5ffa742f28af6afc9306b7927",
            "e2e9156ec1304d56b913a038725fc453",
            "0db97adbe70b4ff2a69e2e1ce80e43b1",
            "e0a7941d608443edb576bf7d3c001cc0",
            "0ff0d0d565c14112a6f18b6d18cf9bb0",
            "7c6c5fabc56b4239933fca0a64000d1d"
          ]
        },
        "id": "gOgmkfO37hk4",
        "outputId": "04003359-5f4f-46ff-eed8-97e0a33a3ef6"
      },
      "outputs": [
        {
          "name": "stderr",
          "output_type": "stream",
          "text": [
            "/Users/huishingchong/agile_llm/venv/lib/python3.11/site-packages/mlflow/data/digest_utils.py:29: FutureWarning: DataFrame.applymap has been deprecated. Use DataFrame.map instead.\n",
            "  string_columns = trimmed_df.columns[(df.applymap(type) == str).all(0)]\n",
            "/Users/huishingchong/agile_llm/venv/lib/python3.11/site-packages/mlflow/models/evaluation/base.py:414: FutureWarning: DataFrame.applymap has been deprecated. Use DataFrame.map instead.\n",
            "  data = data.applymap(_hash_array_like_element_as_bytes)\n",
            "2024/03/11 16:59:44 INFO mlflow.models.evaluation.base: Evaluating the model with the default evaluator.\n",
            "2024/03/11 16:59:44 INFO mlflow.models.evaluation.default_evaluator: Testing metrics on first row...\n",
            "Using default facebook/roberta-hate-speech-dynabench-r4-target checkpoint\n",
            "2024/03/11 16:59:48 WARNING mlflow.metrics.metric_definitions: Failed to load flesch kincaid metric, skipping metric logging.\n",
            "2024/03/11 16:59:48 WARNING mlflow.metrics.metric_definitions: Failed to load automated readability index metric, skipping metric logging.\n",
            "2024/03/11 16:59:48 INFO mlflow.models.evaluation.default_evaluator: Evaluating builtin metrics: token_count\n",
            "2024/03/11 16:59:48 INFO mlflow.models.evaluation.default_evaluator: Evaluating builtin metrics: toxicity\n",
            "2024/03/11 16:59:49 INFO mlflow.models.evaluation.default_evaluator: Evaluating builtin metrics: flesch_kincaid_grade_level\n",
            "2024/03/11 16:59:49 WARNING mlflow.metrics.metric_definitions: Failed to load flesch kincaid metric, skipping metric logging.\n",
            "2024/03/11 16:59:49 INFO mlflow.models.evaluation.default_evaluator: Evaluating builtin metrics: ari_grade_level\n",
            "2024/03/11 16:59:49 WARNING mlflow.metrics.metric_definitions: Failed to load automated readability index metric, skipping metric logging.\n",
            "2024/03/11 16:59:49 INFO mlflow.models.evaluation.default_evaluator: Evaluating builtin metrics: exact_match\n",
            "Downloading artifacts: 100%|██████████| 1/1 [00:00<00:00, 37.79it/s]"
          ]
        },
        {
          "name": "stdout",
          "output_type": "stream",
          "text": [
            "See evaluation table below: \n",
            "                                            question  \\\n",
            "0  How does IBM SkillsBuild help individuals deve...   \n",
            "1  Can you explain the different learning paths a...   \n",
            "2  What resources does IBM SkillsBuild offer to d...   \n",
            "3  How does IBM SkillsBuild support personalized ...   \n",
            "4  What resources does IBM SkillsBuild offer to h...   \n",
            "\n",
            "                                        ground_truth  \\\n",
            "0  With IBM SkillsBuild, individuals can develop ...   \n",
            "1  IBM SkillsBuild offers diverse paths for indiv...   \n",
            "2  Adult Learners is designed for learners (age 1...   \n",
            "3  IBM SkillsBuild supports personalized learning...   \n",
            "4  IBM SkillsBuild offers a comprehensive range o...   \n",
            "\n",
            "                                         predictions  token_count  \\\n",
            "0  (maximum 300 words)\\nAnswer professionally, an...          181   \n",
            "1  (1)\\n- IBM SkillsBuild has three main learning...          185   \n",
            "2  (100 words)\\nIBM SkillsBuild is an initiative ...          192   \n",
            "3  (100 words)\\nIBM SkillsBuild is a personalized...          187   \n",
            "4  (Note: This question is from the IBM SkillsBui...          136   \n",
            "\n",
            "   toxicity/v1/score  \n",
            "0           0.004457  \n",
            "1           0.000748  \n",
            "2           0.000411  \n",
            "3           0.000966  \n",
            "4           0.013107  \n"
          ]
        },
        {
          "name": "stderr",
          "output_type": "stream",
          "text": [
            "\n"
          ]
        }
      ],
      "source": [
        "mlflow_evaluation(pre_data_skills_build)"
      ]
    },
    {
      "cell_type": "code",
      "execution_count": 20,
      "metadata": {
        "id": "R0vCRiOy7dQ3"
      },
      "outputs": [
        {
          "name": "stderr",
          "output_type": "stream",
          "text": [
            "/Users/huishingchong/agile_llm/venv/lib/python3.11/site-packages/mlflow/data/digest_utils.py:29: FutureWarning: DataFrame.applymap has been deprecated. Use DataFrame.map instead.\n",
            "  string_columns = trimmed_df.columns[(df.applymap(type) == str).all(0)]\n",
            "/Users/huishingchong/agile_llm/venv/lib/python3.11/site-packages/mlflow/models/evaluation/base.py:414: FutureWarning: DataFrame.applymap has been deprecated. Use DataFrame.map instead.\n",
            "  data = data.applymap(_hash_array_like_element_as_bytes)\n",
            "2024/03/11 16:59:59 INFO mlflow.models.evaluation.base: Evaluating the model with the default evaluator.\n",
            "2024/03/11 16:59:59 INFO mlflow.models.evaluation.default_evaluator: Testing metrics on first row...\n",
            "2024/03/11 17:00:00 WARNING mlflow.metrics.metric_definitions: Failed to load flesch kincaid metric, skipping metric logging.\n",
            "2024/03/11 17:00:00 WARNING mlflow.metrics.metric_definitions: Failed to load automated readability index metric, skipping metric logging.\n",
            "2024/03/11 17:00:00 INFO mlflow.models.evaluation.default_evaluator: Evaluating builtin metrics: token_count\n",
            "2024/03/11 17:00:00 INFO mlflow.models.evaluation.default_evaluator: Evaluating builtin metrics: toxicity\n",
            "2024/03/11 17:00:01 INFO mlflow.models.evaluation.default_evaluator: Evaluating builtin metrics: flesch_kincaid_grade_level\n",
            "2024/03/11 17:00:01 WARNING mlflow.metrics.metric_definitions: Failed to load flesch kincaid metric, skipping metric logging.\n",
            "2024/03/11 17:00:01 INFO mlflow.models.evaluation.default_evaluator: Evaluating builtin metrics: ari_grade_level\n",
            "2024/03/11 17:00:01 WARNING mlflow.metrics.metric_definitions: Failed to load automated readability index metric, skipping metric logging.\n",
            "2024/03/11 17:00:01 INFO mlflow.models.evaluation.default_evaluator: Evaluating builtin metrics: exact_match\n",
            "Downloading artifacts: 100%|██████████| 1/1 [00:00<00:00, 57.35it/s]"
          ]
        },
        {
          "name": "stdout",
          "output_type": "stream",
          "text": [
            "See evaluation table below: \n",
            "                                            question  \\\n",
            "0  Can you explain the concept of quantum computi...   \n",
            "1  How does blockchain technology impact cybersec...   \n",
            "2  Can you explain the difference between front-e...   \n",
            "3  How does cloud computing influence modern soft...   \n",
            "4  What are the key principles of agile software ...   \n",
            "5  Can you describe the role of DevOps in the sof...   \n",
            "6  How does natural language processing (NLP) con...   \n",
            "7  Can you provide examples of real-world applica...   \n",
            "\n",
            "                                        ground_truth  \\\n",
            "0  Quantum computing leverages the principles of ...   \n",
            "1  Blockchain technology has a significant impact...   \n",
            "2  Front-end web development focuses on creating ...   \n",
            "3  Cloud computing has revolutionized modern soft...   \n",
            "4  Agile software development methodology is base...   \n",
            "5  DevOps plays a crucial role in the software de...   \n",
            "6  Natural language processing (NLP) plays a pivo...   \n",
            "7  Computer vision technology has numerous real-w...   \n",
            "\n",
            "                                         predictions  token_count  \\\n",
            "0  “Quantum computing is the next stage in the ev...          193   \n",
            "1  (1 page)\\nPlease answer the question.\\nAnswer ...          175   \n",
            "2  (1) Front-end web development involves the cre...          185   \n",
            "3  (200 words)\\nCloud computing is a type of comp...          197   \n",
            "4  (10 points)\\nAnswer the question.\\nAnswer prof...          177   \n",
            "5  (a) 1,000 words\\n(b) 2,000 words\\n(c) 3,000 wo...          177   \n",
            "6  “Natural language processing (NLP) is a field ...          190   \n",
            "7  (1)\\nThe following is a list of real-world app...          185   \n",
            "\n",
            "   toxicity/v1/score  \n",
            "0           0.000773  \n",
            "1           0.004989  \n",
            "2           0.000563  \n",
            "3           0.000300  \n",
            "4           0.002679  \n",
            "5           0.073114  \n",
            "6           0.000623  \n",
            "7           0.002114  \n"
          ]
        },
        {
          "name": "stderr",
          "output_type": "stream",
          "text": [
            "\n"
          ]
        }
      ],
      "source": [
        "mlflow_evaluation(pre_data_cs)"
      ]
    },
    {
      "cell_type": "code",
      "execution_count": 21,
      "metadata": {
        "id": "c5HZSG37s_dM"
      },
      "outputs": [
        {
          "name": "stderr",
          "output_type": "stream",
          "text": [
            "/Users/huishingchong/agile_llm/venv/lib/python3.11/site-packages/mlflow/data/digest_utils.py:29: FutureWarning: DataFrame.applymap has been deprecated. Use DataFrame.map instead.\n",
            "  string_columns = trimmed_df.columns[(df.applymap(type) == str).all(0)]\n",
            "/Users/huishingchong/agile_llm/venv/lib/python3.11/site-packages/mlflow/models/evaluation/base.py:414: FutureWarning: DataFrame.applymap has been deprecated. Use DataFrame.map instead.\n",
            "  data = data.applymap(_hash_array_like_element_as_bytes)\n",
            "2024/03/11 17:00:04 INFO mlflow.models.evaluation.base: Evaluating the model with the default evaluator.\n",
            "2024/03/11 17:00:04 INFO mlflow.models.evaluation.default_evaluator: Testing metrics on first row...\n",
            "2024/03/11 17:00:04 WARNING mlflow.metrics.metric_definitions: Failed to load flesch kincaid metric, skipping metric logging.\n",
            "2024/03/11 17:00:04 WARNING mlflow.metrics.metric_definitions: Failed to load automated readability index metric, skipping metric logging.\n",
            "2024/03/11 17:00:04 INFO mlflow.models.evaluation.default_evaluator: Evaluating builtin metrics: token_count\n",
            "2024/03/11 17:00:04 INFO mlflow.models.evaluation.default_evaluator: Evaluating builtin metrics: toxicity\n",
            "2024/03/11 17:00:06 INFO mlflow.models.evaluation.default_evaluator: Evaluating builtin metrics: flesch_kincaid_grade_level\n",
            "2024/03/11 17:00:06 WARNING mlflow.metrics.metric_definitions: Failed to load flesch kincaid metric, skipping metric logging.\n",
            "2024/03/11 17:00:06 INFO mlflow.models.evaluation.default_evaluator: Evaluating builtin metrics: ari_grade_level\n",
            "2024/03/11 17:00:06 WARNING mlflow.metrics.metric_definitions: Failed to load automated readability index metric, skipping metric logging.\n",
            "2024/03/11 17:00:06 INFO mlflow.models.evaluation.default_evaluator: Evaluating builtin metrics: exact_match\n",
            "Downloading artifacts: 100%|██████████| 1/1 [00:00<00:00, 157.21it/s]"
          ]
        },
        {
          "name": "stdout",
          "output_type": "stream",
          "text": [
            "See evaluation table below: \n",
            "                                            question  \\\n",
            "0  What are the latest trends in artificial intel...   \n",
            "1  What are some emerging programming languages t...   \n",
            "2  I am a beginner that wants to get into Data Sc...   \n",
            "3  I am a final-year Computer Science student wan...   \n",
            "4  What are the essential skills required for a c...   \n",
            "5  What are some in-demand technical skills for a...   \n",
            "6  What are the career prospects for individuals ...   \n",
            "\n",
            "                                        ground_truth  \\\n",
            "0  In the realm of artificial intelligence (AI) a...   \n",
            "1  Several emerging programming languages are gai...   \n",
            "2  Here is a few things to learn about Data Scien...   \n",
            "3  As a final-year Computer Science student aimin...   \n",
            "4  A career in cybersecurity require a broad spec...   \n",
            "5  In-demand technical skills for data analysts i...   \n",
            "6  Career opportunities for individuals in cybers...   \n",
            "\n",
            "                                         predictions  token_count  \\\n",
            "0  (a) Explain the difference between Artificial ...          172   \n",
            "1  (The answer can be based on the student’s own ...          179   \n",
            "2  (1)\\n(a) I would suggest that you start with t...          176   \n",
            "3  (300 words)\\nI am a final-year Computer Scienc...          201   \n",
            "4  (minimum 250 words)\\nAnswer professionally, an...          181   \n",
            "5  (a) Data science, data analysis, and data visu...          184   \n",
            "6  (500 words)\\nPlease answer the question.\\nAnsw...          183   \n",
            "\n",
            "   toxicity/v1/score  \n",
            "0           0.000850  \n",
            "1           0.000687  \n",
            "2           0.001495  \n",
            "3           0.000579  \n",
            "4           0.004793  \n",
            "5           0.002337  \n",
            "6           0.001581  \n"
          ]
        },
        {
          "name": "stderr",
          "output_type": "stream",
          "text": [
            "\n"
          ]
        }
      ],
      "source": [
        "mlflow_evaluation(pre_data_cs_industry)"
      ]
    },
    {
      "cell_type": "code",
      "execution_count": 22,
      "metadata": {
        "colab": {
          "base_uri": "https://localhost:8080/",
          "height": 819,
          "referenced_widgets": [
            "d1e3d9a58fc04559966d8da8bbc2b42f",
            "2c898e47af9641d8b12a4b7bed2378b3",
            "67ed264fa605419e824a6b2e97530ea8",
            "9bd04048285c472abe78531e57fec28b",
            "641cdde5f7804636bfda43a6894690cd",
            "a3aaefb7495c4e86a1f31d9fb0d5958b",
            "94faef49863143a7b8a7fa820fccdc63",
            "85b3c477075b42908555011cb2684149",
            "369e924735f84768b0d88b0cbaf2b80e",
            "5d45b0c52c1d4cc1858e1aadb06b2ba8",
            "48b6e92486bf4bd89d2fde5d4858bf58"
          ]
        },
        "id": "lY3CyS8m8C_J",
        "outputId": "3e40ca35-2d8f-423b-966e-0ece973a09d1"
      },
      "outputs": [
        {
          "name": "stderr",
          "output_type": "stream",
          "text": [
            "/Users/huishingchong/agile_llm/venv/lib/python3.11/site-packages/mlflow/data/digest_utils.py:29: FutureWarning: DataFrame.applymap has been deprecated. Use DataFrame.map instead.\n",
            "  string_columns = trimmed_df.columns[(df.applymap(type) == str).all(0)]\n",
            "/Users/huishingchong/agile_llm/venv/lib/python3.11/site-packages/mlflow/models/evaluation/base.py:414: FutureWarning: DataFrame.applymap has been deprecated. Use DataFrame.map instead.\n",
            "  data = data.applymap(_hash_array_like_element_as_bytes)\n",
            "2024/03/11 17:00:08 INFO mlflow.models.evaluation.base: Evaluating the model with the default evaluator.\n",
            "2024/03/11 17:00:08 INFO mlflow.models.evaluation.default_evaluator: Testing metrics on first row...\n",
            "2024/03/11 17:00:09 WARNING mlflow.metrics.metric_definitions: Failed to load flesch kincaid metric, skipping metric logging.\n",
            "2024/03/11 17:00:09 WARNING mlflow.metrics.metric_definitions: Failed to load automated readability index metric, skipping metric logging.\n",
            "2024/03/11 17:00:09 INFO mlflow.models.evaluation.default_evaluator: Evaluating builtin metrics: token_count\n",
            "2024/03/11 17:00:09 INFO mlflow.models.evaluation.default_evaluator: Evaluating builtin metrics: toxicity\n",
            "2024/03/11 17:00:09 INFO mlflow.models.evaluation.default_evaluator: Evaluating builtin metrics: flesch_kincaid_grade_level\n",
            "2024/03/11 17:00:09 WARNING mlflow.metrics.metric_definitions: Failed to load flesch kincaid metric, skipping metric logging.\n",
            "2024/03/11 17:00:09 INFO mlflow.models.evaluation.default_evaluator: Evaluating builtin metrics: ari_grade_level\n",
            "2024/03/11 17:00:09 WARNING mlflow.metrics.metric_definitions: Failed to load automated readability index metric, skipping metric logging.\n",
            "2024/03/11 17:00:09 INFO mlflow.models.evaluation.default_evaluator: Evaluating builtin metrics: exact_match\n",
            "Downloading artifacts: 100%|██████████| 1/1 [00:00<00:00, 47.76it/s]"
          ]
        },
        {
          "name": "stdout",
          "output_type": "stream",
          "text": [
            "See evaluation table below: \n",
            "                                            question  \\\n",
            "0  How does IBM SkillsBuild help individuals deve...   \n",
            "1  Can you explain the different learning paths a...   \n",
            "2  What resources does IBM SkillsBuild offer to d...   \n",
            "3  How does IBM SkillsBuild support personalized ...   \n",
            "4  What resources does IBM SkillsBuild offer to h...   \n",
            "\n",
            "                                        ground_truth  \\\n",
            "0  With IBM SkillsBuild, individuals can develop ...   \n",
            "1  IBM SkillsBuild offers diverse paths for indiv...   \n",
            "2  Adult Learners is designed for learners (age 1...   \n",
            "3  IBM SkillsBuild supports personalized learning...   \n",
            "4  IBM SkillsBuild offers a comprehensive range o...   \n",
            "\n",
            "                                         predictions  token_count  \\\n",
            "0  \\nIBM SkillsBuild is a comprehensive learning ...          176   \n",
            "1  \\nThere are several learning paths available o...          183   \n",
            "2  \\nIBM SkillsBuild offers a variety of resource...          109   \n",
            "3  \\nIBM SkillsBuild is a learning platform that ...          157   \n",
            "4  \\nIBM SkillsBuild offers a variety of resource...           81   \n",
            "\n",
            "   toxicity/v1/score  \n",
            "0           0.000269  \n",
            "1           0.003949  \n",
            "2           0.000241  \n",
            "3           0.000320  \n",
            "4           0.000235  \n"
          ]
        },
        {
          "name": "stderr",
          "output_type": "stream",
          "text": [
            "\n"
          ]
        }
      ],
      "source": [
        "mlflow_evaluation(fine_data_skills_build)"
      ]
    },
    {
      "cell_type": "code",
      "execution_count": 23,
      "metadata": {
        "colab": {
          "base_uri": "https://localhost:8080/",
          "height": 1000,
          "referenced_widgets": [
            "336ecac5a866429db7dac78387453356",
            "cd22b708d82b4205b2e96f966b6dd595",
            "813ef5dfe8d74fe2b2bc841630bf1340",
            "2ab1c92ca1f944259f7c8239443ffb50",
            "255a3c728a664275aba0f1f651d27be6",
            "570e0df976c448f8acc8535ae9538007",
            "7d7952fb4bab4a9a8e52c92fbc215689",
            "3dd69d432ee840daa6d06367ea79aaa0",
            "122f84ccd6bb418197260a9a5145ffc9",
            "69f12587f666462f82c7741435ca793e",
            "fd4c2e1420844f379b09ab5c68a9c5e5"
          ]
        },
        "id": "UbjofgcY7hPx",
        "outputId": "43f8f4a9-5d9f-48f7-a231-9b66cc5ede7e"
      },
      "outputs": [
        {
          "name": "stderr",
          "output_type": "stream",
          "text": [
            "/Users/huishingchong/agile_llm/venv/lib/python3.11/site-packages/mlflow/data/digest_utils.py:29: FutureWarning: DataFrame.applymap has been deprecated. Use DataFrame.map instead.\n",
            "  string_columns = trimmed_df.columns[(df.applymap(type) == str).all(0)]\n",
            "/Users/huishingchong/agile_llm/venv/lib/python3.11/site-packages/mlflow/models/evaluation/base.py:414: FutureWarning: DataFrame.applymap has been deprecated. Use DataFrame.map instead.\n",
            "  data = data.applymap(_hash_array_like_element_as_bytes)\n",
            "2024/03/11 17:00:12 INFO mlflow.models.evaluation.base: Evaluating the model with the default evaluator.\n",
            "2024/03/11 17:00:12 INFO mlflow.models.evaluation.default_evaluator: Testing metrics on first row...\n",
            "2024/03/11 17:00:12 WARNING mlflow.metrics.metric_definitions: Failed to load flesch kincaid metric, skipping metric logging.\n",
            "2024/03/11 17:00:12 WARNING mlflow.metrics.metric_definitions: Failed to load automated readability index metric, skipping metric logging.\n",
            "2024/03/11 17:00:12 INFO mlflow.models.evaluation.default_evaluator: Evaluating builtin metrics: token_count\n",
            "2024/03/11 17:00:12 INFO mlflow.models.evaluation.default_evaluator: Evaluating builtin metrics: toxicity\n",
            "2024/03/11 17:00:13 INFO mlflow.models.evaluation.default_evaluator: Evaluating builtin metrics: flesch_kincaid_grade_level\n",
            "2024/03/11 17:00:13 WARNING mlflow.metrics.metric_definitions: Failed to load flesch kincaid metric, skipping metric logging.\n",
            "2024/03/11 17:00:13 INFO mlflow.models.evaluation.default_evaluator: Evaluating builtin metrics: ari_grade_level\n",
            "2024/03/11 17:00:13 WARNING mlflow.metrics.metric_definitions: Failed to load automated readability index metric, skipping metric logging.\n",
            "2024/03/11 17:00:13 INFO mlflow.models.evaluation.default_evaluator: Evaluating builtin metrics: exact_match\n",
            "Downloading artifacts: 100%|██████████| 1/1 [00:00<00:00, 235.69it/s]"
          ]
        },
        {
          "name": "stdout",
          "output_type": "stream",
          "text": [
            "See evaluation table below: \n",
            "                                            question  \\\n",
            "0  Can you explain the concept of quantum computi...   \n",
            "1  How does blockchain technology impact cybersec...   \n",
            "2  Can you explain the difference between front-e...   \n",
            "3  How does cloud computing influence modern soft...   \n",
            "4  What are the key principles of agile software ...   \n",
            "5  Can you describe the role of DevOps in the sof...   \n",
            "6  How does natural language processing (NLP) con...   \n",
            "7  Can you provide examples of real-world applica...   \n",
            "\n",
            "                                        ground_truth  \\\n",
            "0  Quantum computing leverages the principles of ...   \n",
            "1  Blockchain technology has a significant impact...   \n",
            "2  Front-end web development focuses on creating ...   \n",
            "3  Cloud computing has revolutionized modern soft...   \n",
            "4  Agile software development methodology is base...   \n",
            "5  DevOps plays a crucial role in the software de...   \n",
            "6  Natural language processing (NLP) plays a pivo...   \n",
            "7  Computer vision technology has numerous real-w...   \n",
            "\n",
            "                                         predictions  token_count  \\\n",
            "0  \\nQuantum computing is a field of computing th...          192   \n",
            "1  \\nBlockchain technology can significantly impa...          195   \n",
            "2  \\nCertainly. Front-end development is the part...          118   \n",
            "3  \\nCloud computing has had a significant impact...          100   \n",
            "4  \\nThe key principles of agile software develop...          173   \n",
            "5  \\nDevOps is a cultural practice that combines ...           93   \n",
            "6  \\nNatural language processing (NLP) is an impo...          128   \n",
            "7  \\nCertainly! Computer vision technology has nu...          165   \n",
            "\n",
            "   toxicity/v1/score  \n",
            "0           0.000220  \n",
            "1           0.000392  \n",
            "2           0.000189  \n",
            "3           0.000187  \n",
            "4           0.002961  \n",
            "5           0.000168  \n",
            "6           0.000170  \n",
            "7           0.002237  \n"
          ]
        },
        {
          "name": "stderr",
          "output_type": "stream",
          "text": [
            "\n"
          ]
        }
      ],
      "source": [
        "mlflow_evaluation(fine_data_cs)"
      ]
    },
    {
      "cell_type": "code",
      "execution_count": 24,
      "metadata": {
        "colab": {
          "base_uri": "https://localhost:8080/",
          "height": 998,
          "referenced_widgets": [
            "6c97c75aa20c4d88878da28a10d346f3",
            "12d879e363ed4ccc8f2c30f97ee601c8",
            "1bcbc96db77c4934b7d34dea0b77150f",
            "900d6d152d95416eb5a3a78a1dc37b87",
            "4f9cdb9b84ff48b19cd0760020a7c7e5",
            "62be0323ede74e98b87f17f47e172313",
            "80ed0da853c042499f244d34a33dae81",
            "e50a8b913fda46f89590a6a5fb4ab183",
            "dc1b7a343f3548699aa47f16b5f5f50c",
            "d057985b405c405bad057a952fd78a94",
            "6ba6c57d62134e3eb023f6b9b2719a01"
          ]
        },
        "id": "VuR64I6laJOK",
        "outputId": "90ab1152-f8ec-4d9a-cb3b-404b399df72b"
      },
      "outputs": [
        {
          "name": "stderr",
          "output_type": "stream",
          "text": [
            "/Users/huishingchong/agile_llm/venv/lib/python3.11/site-packages/mlflow/data/digest_utils.py:29: FutureWarning: DataFrame.applymap has been deprecated. Use DataFrame.map instead.\n",
            "  string_columns = trimmed_df.columns[(df.applymap(type) == str).all(0)]\n",
            "/Users/huishingchong/agile_llm/venv/lib/python3.11/site-packages/mlflow/models/evaluation/base.py:414: FutureWarning: DataFrame.applymap has been deprecated. Use DataFrame.map instead.\n",
            "  data = data.applymap(_hash_array_like_element_as_bytes)\n",
            "2024/03/11 17:00:16 INFO mlflow.models.evaluation.base: Evaluating the model with the default evaluator.\n",
            "2024/03/11 17:00:16 INFO mlflow.models.evaluation.default_evaluator: Testing metrics on first row...\n",
            "2024/03/11 17:00:16 WARNING mlflow.metrics.metric_definitions: Failed to load flesch kincaid metric, skipping metric logging.\n",
            "2024/03/11 17:00:16 WARNING mlflow.metrics.metric_definitions: Failed to load automated readability index metric, skipping metric logging.\n",
            "2024/03/11 17:00:16 INFO mlflow.models.evaluation.default_evaluator: Evaluating builtin metrics: token_count\n",
            "2024/03/11 17:00:16 INFO mlflow.models.evaluation.default_evaluator: Evaluating builtin metrics: toxicity\n",
            "2024/03/11 17:00:17 INFO mlflow.models.evaluation.default_evaluator: Evaluating builtin metrics: flesch_kincaid_grade_level\n",
            "2024/03/11 17:00:17 WARNING mlflow.metrics.metric_definitions: Failed to load flesch kincaid metric, skipping metric logging.\n",
            "2024/03/11 17:00:17 INFO mlflow.models.evaluation.default_evaluator: Evaluating builtin metrics: ari_grade_level\n",
            "2024/03/11 17:00:17 WARNING mlflow.metrics.metric_definitions: Failed to load automated readability index metric, skipping metric logging.\n",
            "2024/03/11 17:00:17 INFO mlflow.models.evaluation.default_evaluator: Evaluating builtin metrics: exact_match\n",
            "Downloading artifacts: 100%|██████████| 1/1 [00:00<00:00, 285.56it/s]"
          ]
        },
        {
          "name": "stdout",
          "output_type": "stream",
          "text": [
            "See evaluation table below: \n",
            "                                            question  \\\n",
            "0  What are the latest trends in artificial intel...   \n",
            "1  What are some emerging programming languages t...   \n",
            "2  I am a beginner that wants to get into Data Sc...   \n",
            "3  I am a final-year Computer Science student wan...   \n",
            "4  What are the essential skills required for a c...   \n",
            "5  What are some in-demand technical skills for a...   \n",
            "6  What are the career prospects for individuals ...   \n",
            "\n",
            "                                        ground_truth  \\\n",
            "0  In the realm of artificial intelligence (AI) a...   \n",
            "1  Several emerging programming languages are gai...   \n",
            "2  Here is a few things to learn about Data Scien...   \n",
            "3  As a final-year Computer Science student aimin...   \n",
            "4  A career in cybersecurity require a broad spec...   \n",
            "5  In-demand technical skills for data analysts i...   \n",
            "6  Career opportunities for individuals in cybers...   \n",
            "\n",
            "                                         predictions  token_count  \\\n",
            "0  \\nThe latest trends in artificial intelligence...           95   \n",
            "1  \\nThere are several programming languages that...          188   \n",
            "2  \\n1. Learn the fundamentals of programming and...          134   \n",
            "3  \\nAs a Computer Science student, some of the p...          188   \n",
            "4  \\nThe essential skills required for a career i...          177   \n",
            "5  \\nSome in-demand technical skills for aspiring...           80   \n",
            "6  \\nThe demand for skilled cybersecurity risk ma...          195   \n",
            "\n",
            "   toxicity/v1/score  \n",
            "0           0.000175  \n",
            "1           0.001665  \n",
            "2           0.002271  \n",
            "3           0.025693  \n",
            "4           0.002133  \n",
            "5           0.000179  \n",
            "6           0.000236  \n"
          ]
        },
        {
          "name": "stderr",
          "output_type": "stream",
          "text": [
            "\n"
          ]
        }
      ],
      "source": [
        "mlflow_evaluation(fine_data_cs_industry)"
      ]
    },
    {
      "cell_type": "markdown",
      "metadata": {
        "id": "QJhGo_jiYohc"
      },
      "source": [
        "#### Hardware specs"
      ]
    },
    {
      "cell_type": "code",
      "execution_count": 28,
      "metadata": {
        "id": "kCz0JJ7Rmp3d"
      },
      "outputs": [
        {
          "name": "stdout",
          "output_type": "stream",
          "text": [
            "Filesystem                                                 Size    Used   Avail Capacity iused ifree %iused  Mounted on\n",
            "/dev/disk3s1s1                                            228Gi   9.4Gi    12Gi    45%    393k  124M    0%   /\n",
            "devfs                                                     350Ki   350Ki     0Bi   100%    1.2k     0  100%   /dev\n",
            "/dev/disk3s6                                              228Gi   6.0Gi    12Gi    34%       6  124M    0%   /System/Volumes/VM\n",
            "/dev/disk3s2                                              228Gi   5.6Gi    12Gi    33%    1.1k  124M    0%   /System/Volumes/Preboot\n",
            "/dev/disk3s4                                              228Gi    29Mi    12Gi     1%      45  124M    0%   /System/Volumes/Update\n",
            "/dev/disk1s2                                              500Mi   6.0Mi   482Mi     2%       1  4.9M    0%   /System/Volumes/xarts\n",
            "/dev/disk1s1                                              500Mi   6.1Mi   482Mi     2%      30  4.9M    0%   /System/Volumes/iSCPreboot\n",
            "/dev/disk1s3                                              500Mi   800Ki   482Mi     1%      58  4.9M    0%   /System/Volumes/Hardware\n",
            "/dev/disk3s5                                              228Gi   194Gi    12Gi    95%    2.0M  124M    2%   /System/Volumes/Data\n",
            "map auto_home                                               0Bi     0Bi     0Bi   100%       0     0     -   /System/Volumes/Data/home\n",
            "/Users/huishingchong/Downloads/Visual Studio Code-2.app   228Gi   195Gi    17Gi    93%    2.0M  178M    1%   /private/var/folders/w9/7rc799t12djb17hk8vzj9ykw0000gn/T/AppTranslocation/C69FA0CC-ABE2-438A-8F6B-6633CA89ED1B\n"
          ]
        }
      ],
      "source": [
        "#disk info\n",
        "!df -h"
      ]
    },
    {
      "cell_type": "code",
      "execution_count": 29,
      "metadata": {
        "id": "Gj0f5mw3YDfk"
      },
      "outputs": [
        {
          "name": "stdout",
          "output_type": "stream",
          "text": [
            "cat: /proc/meminfo: No such file or directory\n"
          ]
        }
      ],
      "source": [
        "# memory info\n",
        "!cat /proc/meminfo"
      ]
    },
    {
      "cell_type": "code",
      "execution_count": 30,
      "metadata": {
        "id": "O6hkz7ktYA1r"
      },
      "outputs": [
        {
          "name": "stdout",
          "output_type": "stream",
          "text": [
            "cat: /proc/cpuinfo: No such file or directory\n"
          ]
        }
      ],
      "source": [
        "# cpu info\n",
        "!cat /proc/cpuinfo"
      ]
    },
    {
      "cell_type": "code",
      "execution_count": 31,
      "metadata": {
        "id": "SIKpSSDOEzUy"
      },
      "outputs": [],
      "source": [
        "#Graphs to illustrate comparison between models"
      ]
    },
    {
      "cell_type": "markdown",
      "metadata": {
        "id": "0MMm9NZCnr92"
      },
      "source": [
        "Finetuning doesn't solve hallucinations and timely context!\n"
      ]
    }
  ],
  "metadata": {
    "colab": {
      "include_colab_link": true,
      "machine_shape": "hm",
      "provenance": [],
      "toc_visible": true
    },
    "kernelspec": {
      "display_name": "venv",
      "language": "python",
      "name": "venv"
    },
    "language_info": {
      "codemirror_mode": {
        "name": "ipython",
        "version": 3
      },
      "file_extension": ".py",
      "mimetype": "text/x-python",
      "name": "python",
      "nbconvert_exporter": "python",
      "pygments_lexer": "ipython3",
      "version": "3.11.0"
    },
    "widgets": {
      "application/vnd.jupyter.widget-state+json": {
        "002110f5ffa742f28af6afc9306b7927": {
          "model_module": "@jupyter-widgets/base",
          "model_module_version": "1.2.0",
          "model_name": "LayoutModel",
          "state": {
            "_model_module": "@jupyter-widgets/base",
            "_model_module_version": "1.2.0",
            "_model_name": "LayoutModel",
            "_view_count": null,
            "_view_module": "@jupyter-widgets/base",
            "_view_module_version": "1.2.0",
            "_view_name": "LayoutView",
            "align_content": null,
            "align_items": null,
            "align_self": null,
            "border": null,
            "bottom": null,
            "display": null,
            "flex": null,
            "flex_flow": null,
            "grid_area": null,
            "grid_auto_columns": null,
            "grid_auto_flow": null,
            "grid_auto_rows": null,
            "grid_column": null,
            "grid_gap": null,
            "grid_row": null,
            "grid_template_areas": null,
            "grid_template_columns": null,
            "grid_template_rows": null,
            "height": null,
            "justify_content": null,
            "justify_items": null,
            "left": null,
            "margin": null,
            "max_height": null,
            "max_width": null,
            "min_height": null,
            "min_width": null,
            "object_fit": null,
            "object_position": null,
            "order": null,
            "overflow": null,
            "overflow_x": null,
            "overflow_y": null,
            "padding": null,
            "right": null,
            "top": null,
            "visibility": null,
            "width": null
          }
        },
        "0db97adbe70b4ff2a69e2e1ce80e43b1": {
          "model_module": "@jupyter-widgets/base",
          "model_module_version": "1.2.0",
          "model_name": "LayoutModel",
          "state": {
            "_model_module": "@jupyter-widgets/base",
            "_model_module_version": "1.2.0",
            "_model_name": "LayoutModel",
            "_view_count": null,
            "_view_module": "@jupyter-widgets/base",
            "_view_module_version": "1.2.0",
            "_view_name": "LayoutView",
            "align_content": null,
            "align_items": null,
            "align_self": null,
            "border": null,
            "bottom": null,
            "display": null,
            "flex": null,
            "flex_flow": null,
            "grid_area": null,
            "grid_auto_columns": null,
            "grid_auto_flow": null,
            "grid_auto_rows": null,
            "grid_column": null,
            "grid_gap": null,
            "grid_row": null,
            "grid_template_areas": null,
            "grid_template_columns": null,
            "grid_template_rows": null,
            "height": null,
            "justify_content": null,
            "justify_items": null,
            "left": null,
            "margin": null,
            "max_height": null,
            "max_width": null,
            "min_height": null,
            "min_width": null,
            "object_fit": null,
            "object_position": null,
            "order": null,
            "overflow": null,
            "overflow_x": null,
            "overflow_y": null,
            "padding": null,
            "right": null,
            "top": null,
            "visibility": null,
            "width": null
          }
        },
        "0ff0d0d565c14112a6f18b6d18cf9bb0": {
          "model_module": "@jupyter-widgets/base",
          "model_module_version": "1.2.0",
          "model_name": "LayoutModel",
          "state": {
            "_model_module": "@jupyter-widgets/base",
            "_model_module_version": "1.2.0",
            "_model_name": "LayoutModel",
            "_view_count": null,
            "_view_module": "@jupyter-widgets/base",
            "_view_module_version": "1.2.0",
            "_view_name": "LayoutView",
            "align_content": null,
            "align_items": null,
            "align_self": null,
            "border": null,
            "bottom": null,
            "display": null,
            "flex": null,
            "flex_flow": null,
            "grid_area": null,
            "grid_auto_columns": null,
            "grid_auto_flow": null,
            "grid_auto_rows": null,
            "grid_column": null,
            "grid_gap": null,
            "grid_row": null,
            "grid_template_areas": null,
            "grid_template_columns": null,
            "grid_template_rows": null,
            "height": null,
            "justify_content": null,
            "justify_items": null,
            "left": null,
            "margin": null,
            "max_height": null,
            "max_width": null,
            "min_height": null,
            "min_width": null,
            "object_fit": null,
            "object_position": null,
            "order": null,
            "overflow": null,
            "overflow_x": null,
            "overflow_y": null,
            "padding": null,
            "right": null,
            "top": null,
            "visibility": null,
            "width": null
          }
        },
        "122f84ccd6bb418197260a9a5145ffc9": {
          "model_module": "@jupyter-widgets/controls",
          "model_module_version": "1.5.0",
          "model_name": "ProgressStyleModel",
          "state": {
            "_model_module": "@jupyter-widgets/controls",
            "_model_module_version": "1.5.0",
            "_model_name": "ProgressStyleModel",
            "_view_count": null,
            "_view_module": "@jupyter-widgets/base",
            "_view_module_version": "1.2.0",
            "_view_name": "StyleView",
            "bar_color": null,
            "description_width": ""
          }
        },
        "12d879e363ed4ccc8f2c30f97ee601c8": {
          "model_module": "@jupyter-widgets/controls",
          "model_module_version": "1.5.0",
          "model_name": "HTMLModel",
          "state": {
            "_dom_classes": [],
            "_model_module": "@jupyter-widgets/controls",
            "_model_module_version": "1.5.0",
            "_model_name": "HTMLModel",
            "_view_count": null,
            "_view_module": "@jupyter-widgets/controls",
            "_view_module_version": "1.5.0",
            "_view_name": "HTMLView",
            "description": "",
            "description_tooltip": null,
            "layout": "IPY_MODEL_62be0323ede74e98b87f17f47e172313",
            "placeholder": "​",
            "style": "IPY_MODEL_80ed0da853c042499f244d34a33dae81",
            "value": "Downloading artifacts: 100%"
          }
        },
        "1bcbc96db77c4934b7d34dea0b77150f": {
          "model_module": "@jupyter-widgets/controls",
          "model_module_version": "1.5.0",
          "model_name": "FloatProgressModel",
          "state": {
            "_dom_classes": [],
            "_model_module": "@jupyter-widgets/controls",
            "_model_module_version": "1.5.0",
            "_model_name": "FloatProgressModel",
            "_view_count": null,
            "_view_module": "@jupyter-widgets/controls",
            "_view_module_version": "1.5.0",
            "_view_name": "ProgressView",
            "bar_style": "success",
            "description": "",
            "description_tooltip": null,
            "layout": "IPY_MODEL_e50a8b913fda46f89590a6a5fb4ab183",
            "max": 1,
            "min": 0,
            "orientation": "horizontal",
            "style": "IPY_MODEL_dc1b7a343f3548699aa47f16b5f5f50c",
            "value": 1
          }
        },
        "255a3c728a664275aba0f1f651d27be6": {
          "model_module": "@jupyter-widgets/base",
          "model_module_version": "1.2.0",
          "model_name": "LayoutModel",
          "state": {
            "_model_module": "@jupyter-widgets/base",
            "_model_module_version": "1.2.0",
            "_model_name": "LayoutModel",
            "_view_count": null,
            "_view_module": "@jupyter-widgets/base",
            "_view_module_version": "1.2.0",
            "_view_name": "LayoutView",
            "align_content": null,
            "align_items": null,
            "align_self": null,
            "border": null,
            "bottom": null,
            "display": null,
            "flex": null,
            "flex_flow": null,
            "grid_area": null,
            "grid_auto_columns": null,
            "grid_auto_flow": null,
            "grid_auto_rows": null,
            "grid_column": null,
            "grid_gap": null,
            "grid_row": null,
            "grid_template_areas": null,
            "grid_template_columns": null,
            "grid_template_rows": null,
            "height": null,
            "justify_content": null,
            "justify_items": null,
            "left": null,
            "margin": null,
            "max_height": null,
            "max_width": null,
            "min_height": null,
            "min_width": null,
            "object_fit": null,
            "object_position": null,
            "order": null,
            "overflow": null,
            "overflow_x": null,
            "overflow_y": null,
            "padding": null,
            "right": null,
            "top": null,
            "visibility": null,
            "width": null
          }
        },
        "2ab1c92ca1f944259f7c8239443ffb50": {
          "model_module": "@jupyter-widgets/controls",
          "model_module_version": "1.5.0",
          "model_name": "HTMLModel",
          "state": {
            "_dom_classes": [],
            "_model_module": "@jupyter-widgets/controls",
            "_model_module_version": "1.5.0",
            "_model_name": "HTMLModel",
            "_view_count": null,
            "_view_module": "@jupyter-widgets/controls",
            "_view_module_version": "1.5.0",
            "_view_name": "HTMLView",
            "description": "",
            "description_tooltip": null,
            "layout": "IPY_MODEL_69f12587f666462f82c7741435ca793e",
            "placeholder": "​",
            "style": "IPY_MODEL_fd4c2e1420844f379b09ab5c68a9c5e5",
            "value": " 1/1 [00:00&lt;00:00, 42.14it/s]"
          }
        },
        "2c898e47af9641d8b12a4b7bed2378b3": {
          "model_module": "@jupyter-widgets/controls",
          "model_module_version": "1.5.0",
          "model_name": "HTMLModel",
          "state": {
            "_dom_classes": [],
            "_model_module": "@jupyter-widgets/controls",
            "_model_module_version": "1.5.0",
            "_model_name": "HTMLModel",
            "_view_count": null,
            "_view_module": "@jupyter-widgets/controls",
            "_view_module_version": "1.5.0",
            "_view_name": "HTMLView",
            "description": "",
            "description_tooltip": null,
            "layout": "IPY_MODEL_a3aaefb7495c4e86a1f31d9fb0d5958b",
            "placeholder": "​",
            "style": "IPY_MODEL_94faef49863143a7b8a7fa820fccdc63",
            "value": "Downloading artifacts: 100%"
          }
        },
        "336ecac5a866429db7dac78387453356": {
          "model_module": "@jupyter-widgets/controls",
          "model_module_version": "1.5.0",
          "model_name": "HBoxModel",
          "state": {
            "_dom_classes": [],
            "_model_module": "@jupyter-widgets/controls",
            "_model_module_version": "1.5.0",
            "_model_name": "HBoxModel",
            "_view_count": null,
            "_view_module": "@jupyter-widgets/controls",
            "_view_module_version": "1.5.0",
            "_view_name": "HBoxView",
            "box_style": "",
            "children": [
              "IPY_MODEL_cd22b708d82b4205b2e96f966b6dd595",
              "IPY_MODEL_813ef5dfe8d74fe2b2bc841630bf1340",
              "IPY_MODEL_2ab1c92ca1f944259f7c8239443ffb50"
            ],
            "layout": "IPY_MODEL_255a3c728a664275aba0f1f651d27be6"
          }
        },
        "369e924735f84768b0d88b0cbaf2b80e": {
          "model_module": "@jupyter-widgets/controls",
          "model_module_version": "1.5.0",
          "model_name": "ProgressStyleModel",
          "state": {
            "_model_module": "@jupyter-widgets/controls",
            "_model_module_version": "1.5.0",
            "_model_name": "ProgressStyleModel",
            "_view_count": null,
            "_view_module": "@jupyter-widgets/base",
            "_view_module_version": "1.2.0",
            "_view_name": "StyleView",
            "bar_color": null,
            "description_width": ""
          }
        },
        "3dd69d432ee840daa6d06367ea79aaa0": {
          "model_module": "@jupyter-widgets/base",
          "model_module_version": "1.2.0",
          "model_name": "LayoutModel",
          "state": {
            "_model_module": "@jupyter-widgets/base",
            "_model_module_version": "1.2.0",
            "_model_name": "LayoutModel",
            "_view_count": null,
            "_view_module": "@jupyter-widgets/base",
            "_view_module_version": "1.2.0",
            "_view_name": "LayoutView",
            "align_content": null,
            "align_items": null,
            "align_self": null,
            "border": null,
            "bottom": null,
            "display": null,
            "flex": null,
            "flex_flow": null,
            "grid_area": null,
            "grid_auto_columns": null,
            "grid_auto_flow": null,
            "grid_auto_rows": null,
            "grid_column": null,
            "grid_gap": null,
            "grid_row": null,
            "grid_template_areas": null,
            "grid_template_columns": null,
            "grid_template_rows": null,
            "height": null,
            "justify_content": null,
            "justify_items": null,
            "left": null,
            "margin": null,
            "max_height": null,
            "max_width": null,
            "min_height": null,
            "min_width": null,
            "object_fit": null,
            "object_position": null,
            "order": null,
            "overflow": null,
            "overflow_x": null,
            "overflow_y": null,
            "padding": null,
            "right": null,
            "top": null,
            "visibility": null,
            "width": null
          }
        },
        "48b6e92486bf4bd89d2fde5d4858bf58": {
          "model_module": "@jupyter-widgets/controls",
          "model_module_version": "1.5.0",
          "model_name": "DescriptionStyleModel",
          "state": {
            "_model_module": "@jupyter-widgets/controls",
            "_model_module_version": "1.5.0",
            "_model_name": "DescriptionStyleModel",
            "_view_count": null,
            "_view_module": "@jupyter-widgets/base",
            "_view_module_version": "1.2.0",
            "_view_name": "StyleView",
            "description_width": ""
          }
        },
        "4a100d1b8f3d43d095cfd46f63aec905": {
          "model_module": "@jupyter-widgets/controls",
          "model_module_version": "1.5.0",
          "model_name": "FloatProgressModel",
          "state": {
            "_dom_classes": [],
            "_model_module": "@jupyter-widgets/controls",
            "_model_module_version": "1.5.0",
            "_model_name": "FloatProgressModel",
            "_view_count": null,
            "_view_module": "@jupyter-widgets/controls",
            "_view_module_version": "1.5.0",
            "_view_name": "ProgressView",
            "bar_style": "success",
            "description": "",
            "description_tooltip": null,
            "layout": "IPY_MODEL_0db97adbe70b4ff2a69e2e1ce80e43b1",
            "max": 1,
            "min": 0,
            "orientation": "horizontal",
            "style": "IPY_MODEL_e0a7941d608443edb576bf7d3c001cc0",
            "value": 1
          }
        },
        "4f9cdb9b84ff48b19cd0760020a7c7e5": {
          "model_module": "@jupyter-widgets/base",
          "model_module_version": "1.2.0",
          "model_name": "LayoutModel",
          "state": {
            "_model_module": "@jupyter-widgets/base",
            "_model_module_version": "1.2.0",
            "_model_name": "LayoutModel",
            "_view_count": null,
            "_view_module": "@jupyter-widgets/base",
            "_view_module_version": "1.2.0",
            "_view_name": "LayoutView",
            "align_content": null,
            "align_items": null,
            "align_self": null,
            "border": null,
            "bottom": null,
            "display": null,
            "flex": null,
            "flex_flow": null,
            "grid_area": null,
            "grid_auto_columns": null,
            "grid_auto_flow": null,
            "grid_auto_rows": null,
            "grid_column": null,
            "grid_gap": null,
            "grid_row": null,
            "grid_template_areas": null,
            "grid_template_columns": null,
            "grid_template_rows": null,
            "height": null,
            "justify_content": null,
            "justify_items": null,
            "left": null,
            "margin": null,
            "max_height": null,
            "max_width": null,
            "min_height": null,
            "min_width": null,
            "object_fit": null,
            "object_position": null,
            "order": null,
            "overflow": null,
            "overflow_x": null,
            "overflow_y": null,
            "padding": null,
            "right": null,
            "top": null,
            "visibility": null,
            "width": null
          }
        },
        "570e0df976c448f8acc8535ae9538007": {
          "model_module": "@jupyter-widgets/base",
          "model_module_version": "1.2.0",
          "model_name": "LayoutModel",
          "state": {
            "_model_module": "@jupyter-widgets/base",
            "_model_module_version": "1.2.0",
            "_model_name": "LayoutModel",
            "_view_count": null,
            "_view_module": "@jupyter-widgets/base",
            "_view_module_version": "1.2.0",
            "_view_name": "LayoutView",
            "align_content": null,
            "align_items": null,
            "align_self": null,
            "border": null,
            "bottom": null,
            "display": null,
            "flex": null,
            "flex_flow": null,
            "grid_area": null,
            "grid_auto_columns": null,
            "grid_auto_flow": null,
            "grid_auto_rows": null,
            "grid_column": null,
            "grid_gap": null,
            "grid_row": null,
            "grid_template_areas": null,
            "grid_template_columns": null,
            "grid_template_rows": null,
            "height": null,
            "justify_content": null,
            "justify_items": null,
            "left": null,
            "margin": null,
            "max_height": null,
            "max_width": null,
            "min_height": null,
            "min_width": null,
            "object_fit": null,
            "object_position": null,
            "order": null,
            "overflow": null,
            "overflow_x": null,
            "overflow_y": null,
            "padding": null,
            "right": null,
            "top": null,
            "visibility": null,
            "width": null
          }
        },
        "5d45b0c52c1d4cc1858e1aadb06b2ba8": {
          "model_module": "@jupyter-widgets/base",
          "model_module_version": "1.2.0",
          "model_name": "LayoutModel",
          "state": {
            "_model_module": "@jupyter-widgets/base",
            "_model_module_version": "1.2.0",
            "_model_name": "LayoutModel",
            "_view_count": null,
            "_view_module": "@jupyter-widgets/base",
            "_view_module_version": "1.2.0",
            "_view_name": "LayoutView",
            "align_content": null,
            "align_items": null,
            "align_self": null,
            "border": null,
            "bottom": null,
            "display": null,
            "flex": null,
            "flex_flow": null,
            "grid_area": null,
            "grid_auto_columns": null,
            "grid_auto_flow": null,
            "grid_auto_rows": null,
            "grid_column": null,
            "grid_gap": null,
            "grid_row": null,
            "grid_template_areas": null,
            "grid_template_columns": null,
            "grid_template_rows": null,
            "height": null,
            "justify_content": null,
            "justify_items": null,
            "left": null,
            "margin": null,
            "max_height": null,
            "max_width": null,
            "min_height": null,
            "min_width": null,
            "object_fit": null,
            "object_position": null,
            "order": null,
            "overflow": null,
            "overflow_x": null,
            "overflow_y": null,
            "padding": null,
            "right": null,
            "top": null,
            "visibility": null,
            "width": null
          }
        },
        "5e66209521de493cb344a22bbf8e9bac": {
          "model_module": "@jupyter-widgets/base",
          "model_module_version": "1.2.0",
          "model_name": "LayoutModel",
          "state": {
            "_model_module": "@jupyter-widgets/base",
            "_model_module_version": "1.2.0",
            "_model_name": "LayoutModel",
            "_view_count": null,
            "_view_module": "@jupyter-widgets/base",
            "_view_module_version": "1.2.0",
            "_view_name": "LayoutView",
            "align_content": null,
            "align_items": null,
            "align_self": null,
            "border": null,
            "bottom": null,
            "display": null,
            "flex": null,
            "flex_flow": null,
            "grid_area": null,
            "grid_auto_columns": null,
            "grid_auto_flow": null,
            "grid_auto_rows": null,
            "grid_column": null,
            "grid_gap": null,
            "grid_row": null,
            "grid_template_areas": null,
            "grid_template_columns": null,
            "grid_template_rows": null,
            "height": null,
            "justify_content": null,
            "justify_items": null,
            "left": null,
            "margin": null,
            "max_height": null,
            "max_width": null,
            "min_height": null,
            "min_width": null,
            "object_fit": null,
            "object_position": null,
            "order": null,
            "overflow": null,
            "overflow_x": null,
            "overflow_y": null,
            "padding": null,
            "right": null,
            "top": null,
            "visibility": null,
            "width": null
          }
        },
        "62be0323ede74e98b87f17f47e172313": {
          "model_module": "@jupyter-widgets/base",
          "model_module_version": "1.2.0",
          "model_name": "LayoutModel",
          "state": {
            "_model_module": "@jupyter-widgets/base",
            "_model_module_version": "1.2.0",
            "_model_name": "LayoutModel",
            "_view_count": null,
            "_view_module": "@jupyter-widgets/base",
            "_view_module_version": "1.2.0",
            "_view_name": "LayoutView",
            "align_content": null,
            "align_items": null,
            "align_self": null,
            "border": null,
            "bottom": null,
            "display": null,
            "flex": null,
            "flex_flow": null,
            "grid_area": null,
            "grid_auto_columns": null,
            "grid_auto_flow": null,
            "grid_auto_rows": null,
            "grid_column": null,
            "grid_gap": null,
            "grid_row": null,
            "grid_template_areas": null,
            "grid_template_columns": null,
            "grid_template_rows": null,
            "height": null,
            "justify_content": null,
            "justify_items": null,
            "left": null,
            "margin": null,
            "max_height": null,
            "max_width": null,
            "min_height": null,
            "min_width": null,
            "object_fit": null,
            "object_position": null,
            "order": null,
            "overflow": null,
            "overflow_x": null,
            "overflow_y": null,
            "padding": null,
            "right": null,
            "top": null,
            "visibility": null,
            "width": null
          }
        },
        "641cdde5f7804636bfda43a6894690cd": {
          "model_module": "@jupyter-widgets/base",
          "model_module_version": "1.2.0",
          "model_name": "LayoutModel",
          "state": {
            "_model_module": "@jupyter-widgets/base",
            "_model_module_version": "1.2.0",
            "_model_name": "LayoutModel",
            "_view_count": null,
            "_view_module": "@jupyter-widgets/base",
            "_view_module_version": "1.2.0",
            "_view_name": "LayoutView",
            "align_content": null,
            "align_items": null,
            "align_self": null,
            "border": null,
            "bottom": null,
            "display": null,
            "flex": null,
            "flex_flow": null,
            "grid_area": null,
            "grid_auto_columns": null,
            "grid_auto_flow": null,
            "grid_auto_rows": null,
            "grid_column": null,
            "grid_gap": null,
            "grid_row": null,
            "grid_template_areas": null,
            "grid_template_columns": null,
            "grid_template_rows": null,
            "height": null,
            "justify_content": null,
            "justify_items": null,
            "left": null,
            "margin": null,
            "max_height": null,
            "max_width": null,
            "min_height": null,
            "min_width": null,
            "object_fit": null,
            "object_position": null,
            "order": null,
            "overflow": null,
            "overflow_x": null,
            "overflow_y": null,
            "padding": null,
            "right": null,
            "top": null,
            "visibility": null,
            "width": null
          }
        },
        "67ed264fa605419e824a6b2e97530ea8": {
          "model_module": "@jupyter-widgets/controls",
          "model_module_version": "1.5.0",
          "model_name": "FloatProgressModel",
          "state": {
            "_dom_classes": [],
            "_model_module": "@jupyter-widgets/controls",
            "_model_module_version": "1.5.0",
            "_model_name": "FloatProgressModel",
            "_view_count": null,
            "_view_module": "@jupyter-widgets/controls",
            "_view_module_version": "1.5.0",
            "_view_name": "ProgressView",
            "bar_style": "success",
            "description": "",
            "description_tooltip": null,
            "layout": "IPY_MODEL_85b3c477075b42908555011cb2684149",
            "max": 1,
            "min": 0,
            "orientation": "horizontal",
            "style": "IPY_MODEL_369e924735f84768b0d88b0cbaf2b80e",
            "value": 1
          }
        },
        "69f12587f666462f82c7741435ca793e": {
          "model_module": "@jupyter-widgets/base",
          "model_module_version": "1.2.0",
          "model_name": "LayoutModel",
          "state": {
            "_model_module": "@jupyter-widgets/base",
            "_model_module_version": "1.2.0",
            "_model_name": "LayoutModel",
            "_view_count": null,
            "_view_module": "@jupyter-widgets/base",
            "_view_module_version": "1.2.0",
            "_view_name": "LayoutView",
            "align_content": null,
            "align_items": null,
            "align_self": null,
            "border": null,
            "bottom": null,
            "display": null,
            "flex": null,
            "flex_flow": null,
            "grid_area": null,
            "grid_auto_columns": null,
            "grid_auto_flow": null,
            "grid_auto_rows": null,
            "grid_column": null,
            "grid_gap": null,
            "grid_row": null,
            "grid_template_areas": null,
            "grid_template_columns": null,
            "grid_template_rows": null,
            "height": null,
            "justify_content": null,
            "justify_items": null,
            "left": null,
            "margin": null,
            "max_height": null,
            "max_width": null,
            "min_height": null,
            "min_width": null,
            "object_fit": null,
            "object_position": null,
            "order": null,
            "overflow": null,
            "overflow_x": null,
            "overflow_y": null,
            "padding": null,
            "right": null,
            "top": null,
            "visibility": null,
            "width": null
          }
        },
        "6ba6c57d62134e3eb023f6b9b2719a01": {
          "model_module": "@jupyter-widgets/controls",
          "model_module_version": "1.5.0",
          "model_name": "DescriptionStyleModel",
          "state": {
            "_model_module": "@jupyter-widgets/controls",
            "_model_module_version": "1.5.0",
            "_model_name": "DescriptionStyleModel",
            "_view_count": null,
            "_view_module": "@jupyter-widgets/base",
            "_view_module_version": "1.2.0",
            "_view_name": "StyleView",
            "description_width": ""
          }
        },
        "6c97c75aa20c4d88878da28a10d346f3": {
          "model_module": "@jupyter-widgets/controls",
          "model_module_version": "1.5.0",
          "model_name": "HBoxModel",
          "state": {
            "_dom_classes": [],
            "_model_module": "@jupyter-widgets/controls",
            "_model_module_version": "1.5.0",
            "_model_name": "HBoxModel",
            "_view_count": null,
            "_view_module": "@jupyter-widgets/controls",
            "_view_module_version": "1.5.0",
            "_view_name": "HBoxView",
            "box_style": "",
            "children": [
              "IPY_MODEL_12d879e363ed4ccc8f2c30f97ee601c8",
              "IPY_MODEL_1bcbc96db77c4934b7d34dea0b77150f",
              "IPY_MODEL_900d6d152d95416eb5a3a78a1dc37b87"
            ],
            "layout": "IPY_MODEL_4f9cdb9b84ff48b19cd0760020a7c7e5"
          }
        },
        "7c6c5fabc56b4239933fca0a64000d1d": {
          "model_module": "@jupyter-widgets/controls",
          "model_module_version": "1.5.0",
          "model_name": "DescriptionStyleModel",
          "state": {
            "_model_module": "@jupyter-widgets/controls",
            "_model_module_version": "1.5.0",
            "_model_name": "DescriptionStyleModel",
            "_view_count": null,
            "_view_module": "@jupyter-widgets/base",
            "_view_module_version": "1.2.0",
            "_view_name": "StyleView",
            "description_width": ""
          }
        },
        "7d7952fb4bab4a9a8e52c92fbc215689": {
          "model_module": "@jupyter-widgets/controls",
          "model_module_version": "1.5.0",
          "model_name": "DescriptionStyleModel",
          "state": {
            "_model_module": "@jupyter-widgets/controls",
            "_model_module_version": "1.5.0",
            "_model_name": "DescriptionStyleModel",
            "_view_count": null,
            "_view_module": "@jupyter-widgets/base",
            "_view_module_version": "1.2.0",
            "_view_name": "StyleView",
            "description_width": ""
          }
        },
        "80ed0da853c042499f244d34a33dae81": {
          "model_module": "@jupyter-widgets/controls",
          "model_module_version": "1.5.0",
          "model_name": "DescriptionStyleModel",
          "state": {
            "_model_module": "@jupyter-widgets/controls",
            "_model_module_version": "1.5.0",
            "_model_name": "DescriptionStyleModel",
            "_view_count": null,
            "_view_module": "@jupyter-widgets/base",
            "_view_module_version": "1.2.0",
            "_view_name": "StyleView",
            "description_width": ""
          }
        },
        "813ef5dfe8d74fe2b2bc841630bf1340": {
          "model_module": "@jupyter-widgets/controls",
          "model_module_version": "1.5.0",
          "model_name": "FloatProgressModel",
          "state": {
            "_dom_classes": [],
            "_model_module": "@jupyter-widgets/controls",
            "_model_module_version": "1.5.0",
            "_model_name": "FloatProgressModel",
            "_view_count": null,
            "_view_module": "@jupyter-widgets/controls",
            "_view_module_version": "1.5.0",
            "_view_name": "ProgressView",
            "bar_style": "success",
            "description": "",
            "description_tooltip": null,
            "layout": "IPY_MODEL_3dd69d432ee840daa6d06367ea79aaa0",
            "max": 1,
            "min": 0,
            "orientation": "horizontal",
            "style": "IPY_MODEL_122f84ccd6bb418197260a9a5145ffc9",
            "value": 1
          }
        },
        "85b3c477075b42908555011cb2684149": {
          "model_module": "@jupyter-widgets/base",
          "model_module_version": "1.2.0",
          "model_name": "LayoutModel",
          "state": {
            "_model_module": "@jupyter-widgets/base",
            "_model_module_version": "1.2.0",
            "_model_name": "LayoutModel",
            "_view_count": null,
            "_view_module": "@jupyter-widgets/base",
            "_view_module_version": "1.2.0",
            "_view_name": "LayoutView",
            "align_content": null,
            "align_items": null,
            "align_self": null,
            "border": null,
            "bottom": null,
            "display": null,
            "flex": null,
            "flex_flow": null,
            "grid_area": null,
            "grid_auto_columns": null,
            "grid_auto_flow": null,
            "grid_auto_rows": null,
            "grid_column": null,
            "grid_gap": null,
            "grid_row": null,
            "grid_template_areas": null,
            "grid_template_columns": null,
            "grid_template_rows": null,
            "height": null,
            "justify_content": null,
            "justify_items": null,
            "left": null,
            "margin": null,
            "max_height": null,
            "max_width": null,
            "min_height": null,
            "min_width": null,
            "object_fit": null,
            "object_position": null,
            "order": null,
            "overflow": null,
            "overflow_x": null,
            "overflow_y": null,
            "padding": null,
            "right": null,
            "top": null,
            "visibility": null,
            "width": null
          }
        },
        "900d6d152d95416eb5a3a78a1dc37b87": {
          "model_module": "@jupyter-widgets/controls",
          "model_module_version": "1.5.0",
          "model_name": "HTMLModel",
          "state": {
            "_dom_classes": [],
            "_model_module": "@jupyter-widgets/controls",
            "_model_module_version": "1.5.0",
            "_model_name": "HTMLModel",
            "_view_count": null,
            "_view_module": "@jupyter-widgets/controls",
            "_view_module_version": "1.5.0",
            "_view_name": "HTMLView",
            "description": "",
            "description_tooltip": null,
            "layout": "IPY_MODEL_d057985b405c405bad057a952fd78a94",
            "placeholder": "​",
            "style": "IPY_MODEL_6ba6c57d62134e3eb023f6b9b2719a01",
            "value": " 1/1 [00:00&lt;00:00, 44.84it/s]"
          }
        },
        "94faef49863143a7b8a7fa820fccdc63": {
          "model_module": "@jupyter-widgets/controls",
          "model_module_version": "1.5.0",
          "model_name": "DescriptionStyleModel",
          "state": {
            "_model_module": "@jupyter-widgets/controls",
            "_model_module_version": "1.5.0",
            "_model_name": "DescriptionStyleModel",
            "_view_count": null,
            "_view_module": "@jupyter-widgets/base",
            "_view_module_version": "1.2.0",
            "_view_name": "StyleView",
            "description_width": ""
          }
        },
        "9bd04048285c472abe78531e57fec28b": {
          "model_module": "@jupyter-widgets/controls",
          "model_module_version": "1.5.0",
          "model_name": "HTMLModel",
          "state": {
            "_dom_classes": [],
            "_model_module": "@jupyter-widgets/controls",
            "_model_module_version": "1.5.0",
            "_model_name": "HTMLModel",
            "_view_count": null,
            "_view_module": "@jupyter-widgets/controls",
            "_view_module_version": "1.5.0",
            "_view_name": "HTMLView",
            "description": "",
            "description_tooltip": null,
            "layout": "IPY_MODEL_5d45b0c52c1d4cc1858e1aadb06b2ba8",
            "placeholder": "​",
            "style": "IPY_MODEL_48b6e92486bf4bd89d2fde5d4858bf58",
            "value": " 1/1 [00:00&lt;00:00, 26.61it/s]"
          }
        },
        "a3aaefb7495c4e86a1f31d9fb0d5958b": {
          "model_module": "@jupyter-widgets/base",
          "model_module_version": "1.2.0",
          "model_name": "LayoutModel",
          "state": {
            "_model_module": "@jupyter-widgets/base",
            "_model_module_version": "1.2.0",
            "_model_name": "LayoutModel",
            "_view_count": null,
            "_view_module": "@jupyter-widgets/base",
            "_view_module_version": "1.2.0",
            "_view_name": "LayoutView",
            "align_content": null,
            "align_items": null,
            "align_self": null,
            "border": null,
            "bottom": null,
            "display": null,
            "flex": null,
            "flex_flow": null,
            "grid_area": null,
            "grid_auto_columns": null,
            "grid_auto_flow": null,
            "grid_auto_rows": null,
            "grid_column": null,
            "grid_gap": null,
            "grid_row": null,
            "grid_template_areas": null,
            "grid_template_columns": null,
            "grid_template_rows": null,
            "height": null,
            "justify_content": null,
            "justify_items": null,
            "left": null,
            "margin": null,
            "max_height": null,
            "max_width": null,
            "min_height": null,
            "min_width": null,
            "object_fit": null,
            "object_position": null,
            "order": null,
            "overflow": null,
            "overflow_x": null,
            "overflow_y": null,
            "padding": null,
            "right": null,
            "top": null,
            "visibility": null,
            "width": null
          }
        },
        "cd2262d5e65b4caa9f34f7fe901d8c76": {
          "model_module": "@jupyter-widgets/controls",
          "model_module_version": "1.5.0",
          "model_name": "HTMLModel",
          "state": {
            "_dom_classes": [],
            "_model_module": "@jupyter-widgets/controls",
            "_model_module_version": "1.5.0",
            "_model_name": "HTMLModel",
            "_view_count": null,
            "_view_module": "@jupyter-widgets/controls",
            "_view_module_version": "1.5.0",
            "_view_name": "HTMLView",
            "description": "",
            "description_tooltip": null,
            "layout": "IPY_MODEL_002110f5ffa742f28af6afc9306b7927",
            "placeholder": "​",
            "style": "IPY_MODEL_e2e9156ec1304d56b913a038725fc453",
            "value": "Downloading artifacts: 100%"
          }
        },
        "cd22b708d82b4205b2e96f966b6dd595": {
          "model_module": "@jupyter-widgets/controls",
          "model_module_version": "1.5.0",
          "model_name": "HTMLModel",
          "state": {
            "_dom_classes": [],
            "_model_module": "@jupyter-widgets/controls",
            "_model_module_version": "1.5.0",
            "_model_name": "HTMLModel",
            "_view_count": null,
            "_view_module": "@jupyter-widgets/controls",
            "_view_module_version": "1.5.0",
            "_view_name": "HTMLView",
            "description": "",
            "description_tooltip": null,
            "layout": "IPY_MODEL_570e0df976c448f8acc8535ae9538007",
            "placeholder": "​",
            "style": "IPY_MODEL_7d7952fb4bab4a9a8e52c92fbc215689",
            "value": "Downloading artifacts: 100%"
          }
        },
        "d057985b405c405bad057a952fd78a94": {
          "model_module": "@jupyter-widgets/base",
          "model_module_version": "1.2.0",
          "model_name": "LayoutModel",
          "state": {
            "_model_module": "@jupyter-widgets/base",
            "_model_module_version": "1.2.0",
            "_model_name": "LayoutModel",
            "_view_count": null,
            "_view_module": "@jupyter-widgets/base",
            "_view_module_version": "1.2.0",
            "_view_name": "LayoutView",
            "align_content": null,
            "align_items": null,
            "align_self": null,
            "border": null,
            "bottom": null,
            "display": null,
            "flex": null,
            "flex_flow": null,
            "grid_area": null,
            "grid_auto_columns": null,
            "grid_auto_flow": null,
            "grid_auto_rows": null,
            "grid_column": null,
            "grid_gap": null,
            "grid_row": null,
            "grid_template_areas": null,
            "grid_template_columns": null,
            "grid_template_rows": null,
            "height": null,
            "justify_content": null,
            "justify_items": null,
            "left": null,
            "margin": null,
            "max_height": null,
            "max_width": null,
            "min_height": null,
            "min_width": null,
            "object_fit": null,
            "object_position": null,
            "order": null,
            "overflow": null,
            "overflow_x": null,
            "overflow_y": null,
            "padding": null,
            "right": null,
            "top": null,
            "visibility": null,
            "width": null
          }
        },
        "d1e3d9a58fc04559966d8da8bbc2b42f": {
          "model_module": "@jupyter-widgets/controls",
          "model_module_version": "1.5.0",
          "model_name": "HBoxModel",
          "state": {
            "_dom_classes": [],
            "_model_module": "@jupyter-widgets/controls",
            "_model_module_version": "1.5.0",
            "_model_name": "HBoxModel",
            "_view_count": null,
            "_view_module": "@jupyter-widgets/controls",
            "_view_module_version": "1.5.0",
            "_view_name": "HBoxView",
            "box_style": "",
            "children": [
              "IPY_MODEL_2c898e47af9641d8b12a4b7bed2378b3",
              "IPY_MODEL_67ed264fa605419e824a6b2e97530ea8",
              "IPY_MODEL_9bd04048285c472abe78531e57fec28b"
            ],
            "layout": "IPY_MODEL_641cdde5f7804636bfda43a6894690cd"
          }
        },
        "dc1b7a343f3548699aa47f16b5f5f50c": {
          "model_module": "@jupyter-widgets/controls",
          "model_module_version": "1.5.0",
          "model_name": "ProgressStyleModel",
          "state": {
            "_model_module": "@jupyter-widgets/controls",
            "_model_module_version": "1.5.0",
            "_model_name": "ProgressStyleModel",
            "_view_count": null,
            "_view_module": "@jupyter-widgets/base",
            "_view_module_version": "1.2.0",
            "_view_name": "StyleView",
            "bar_color": null,
            "description_width": ""
          }
        },
        "e0a7941d608443edb576bf7d3c001cc0": {
          "model_module": "@jupyter-widgets/controls",
          "model_module_version": "1.5.0",
          "model_name": "ProgressStyleModel",
          "state": {
            "_model_module": "@jupyter-widgets/controls",
            "_model_module_version": "1.5.0",
            "_model_name": "ProgressStyleModel",
            "_view_count": null,
            "_view_module": "@jupyter-widgets/base",
            "_view_module_version": "1.2.0",
            "_view_name": "StyleView",
            "bar_color": null,
            "description_width": ""
          }
        },
        "e2e9156ec1304d56b913a038725fc453": {
          "model_module": "@jupyter-widgets/controls",
          "model_module_version": "1.5.0",
          "model_name": "DescriptionStyleModel",
          "state": {
            "_model_module": "@jupyter-widgets/controls",
            "_model_module_version": "1.5.0",
            "_model_name": "DescriptionStyleModel",
            "_view_count": null,
            "_view_module": "@jupyter-widgets/base",
            "_view_module_version": "1.2.0",
            "_view_name": "StyleView",
            "description_width": ""
          }
        },
        "e50a8b913fda46f89590a6a5fb4ab183": {
          "model_module": "@jupyter-widgets/base",
          "model_module_version": "1.2.0",
          "model_name": "LayoutModel",
          "state": {
            "_model_module": "@jupyter-widgets/base",
            "_model_module_version": "1.2.0",
            "_model_name": "LayoutModel",
            "_view_count": null,
            "_view_module": "@jupyter-widgets/base",
            "_view_module_version": "1.2.0",
            "_view_name": "LayoutView",
            "align_content": null,
            "align_items": null,
            "align_self": null,
            "border": null,
            "bottom": null,
            "display": null,
            "flex": null,
            "flex_flow": null,
            "grid_area": null,
            "grid_auto_columns": null,
            "grid_auto_flow": null,
            "grid_auto_rows": null,
            "grid_column": null,
            "grid_gap": null,
            "grid_row": null,
            "grid_template_areas": null,
            "grid_template_columns": null,
            "grid_template_rows": null,
            "height": null,
            "justify_content": null,
            "justify_items": null,
            "left": null,
            "margin": null,
            "max_height": null,
            "max_width": null,
            "min_height": null,
            "min_width": null,
            "object_fit": null,
            "object_position": null,
            "order": null,
            "overflow": null,
            "overflow_x": null,
            "overflow_y": null,
            "padding": null,
            "right": null,
            "top": null,
            "visibility": null,
            "width": null
          }
        },
        "f11044facf0c4c4795d9eb813e050d65": {
          "model_module": "@jupyter-widgets/controls",
          "model_module_version": "1.5.0",
          "model_name": "HTMLModel",
          "state": {
            "_dom_classes": [],
            "_model_module": "@jupyter-widgets/controls",
            "_model_module_version": "1.5.0",
            "_model_name": "HTMLModel",
            "_view_count": null,
            "_view_module": "@jupyter-widgets/controls",
            "_view_module_version": "1.5.0",
            "_view_name": "HTMLView",
            "description": "",
            "description_tooltip": null,
            "layout": "IPY_MODEL_0ff0d0d565c14112a6f18b6d18cf9bb0",
            "placeholder": "​",
            "style": "IPY_MODEL_7c6c5fabc56b4239933fca0a64000d1d",
            "value": " 1/1 [00:00&lt;00:00, 34.01it/s]"
          }
        },
        "f9af2f819a7049c5b44a68a2360abef8": {
          "model_module": "@jupyter-widgets/controls",
          "model_module_version": "1.5.0",
          "model_name": "HBoxModel",
          "state": {
            "_dom_classes": [],
            "_model_module": "@jupyter-widgets/controls",
            "_model_module_version": "1.5.0",
            "_model_name": "HBoxModel",
            "_view_count": null,
            "_view_module": "@jupyter-widgets/controls",
            "_view_module_version": "1.5.0",
            "_view_name": "HBoxView",
            "box_style": "",
            "children": [
              "IPY_MODEL_cd2262d5e65b4caa9f34f7fe901d8c76",
              "IPY_MODEL_4a100d1b8f3d43d095cfd46f63aec905",
              "IPY_MODEL_f11044facf0c4c4795d9eb813e050d65"
            ],
            "layout": "IPY_MODEL_5e66209521de493cb344a22bbf8e9bac"
          }
        },
        "fd4c2e1420844f379b09ab5c68a9c5e5": {
          "model_module": "@jupyter-widgets/controls",
          "model_module_version": "1.5.0",
          "model_name": "DescriptionStyleModel",
          "state": {
            "_model_module": "@jupyter-widgets/controls",
            "_model_module_version": "1.5.0",
            "_model_name": "DescriptionStyleModel",
            "_view_count": null,
            "_view_module": "@jupyter-widgets/base",
            "_view_module_version": "1.2.0",
            "_view_name": "StyleView",
            "description_width": ""
          }
        }
      }
    }
  },
  "nbformat": 4,
  "nbformat_minor": 0
}
